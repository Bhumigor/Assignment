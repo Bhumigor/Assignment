{
 "cells": [
  {
   "cell_type": "markdown",
   "id": "e138b121-bd63-4d0d-bb30-750e8a566687",
   "metadata": {},
   "source": [
    "Q1. What is data encoding? How is it useful in data science?"
   ]
  },
  {
   "cell_type": "markdown",
   "id": "74ce721c-843a-443e-9c44-82e63d9f522b",
   "metadata": {},
   "source": [
    "A1. Data encoding is the process of converting categorical data into a numerical format that can be used by machine       learning algorithms. In data science, this process is essential because most machine learning algorithms work with numerical data, and categorical data, which consists of labels or categories, cannot be directly used as input. Data encoding helps in making the data suitable for analysis and modeling."
   ]
  },
  {
   "cell_type": "markdown",
   "id": "b89c24a5-88a9-4cf5-b656-11b592a19530",
   "metadata": {},
   "source": [
    "Q2. What is nominal encoding? Provide an example of how you would use it in a real-world scenario."
   ]
  },
  {
   "cell_type": "markdown",
   "id": "d2959e2d-9e37-4ff3-830b-54bdf433bee4",
   "metadata": {},
   "source": [
    "A2. Nominal encoding is a technique used to convert categorical data into numerical values by assigning a unique integer to each category. It does not imply any order or hierarchy among the categories. For example, if you have a \"Color\" feature with categories like \"Red,\" \"Blue,\" and \"Green,\" you can use nominal encoding to represent them as 1, 2, and 3, respectively. This encoding is suitable for data where there is no inherent order among the categories.\n",
    "\n",
    "Real-world scenario: In an e-commerce website, you have a product dataset with a \"Category\" column, which includes categories like \"Electronics,\" \"Clothing,\" and \"Home Decor.\" You can use nominal encoding to convert these categories into numerical values to incorporate them into a recommendation system or sales analysis."
   ]
  },
  {
   "cell_type": "markdown",
   "id": "d7944824-f7c3-4c6d-84bb-0b08fd0feea3",
   "metadata": {},
   "source": [
    "Q3. In what situations is nominal encoding preferred over one-hot encoding? Provide a practical example."
   ]
  },
  {
   "cell_type": "markdown",
   "id": "b2e7ff2a-d195-4e92-8b33-8cdeb9b9a99e",
   "metadata": {},
   "source": [
    "A3. Nominal encoding is preferred over one-hot encoding when there are a large number of unique categories in a categorical feature. One-hot encoding creates binary columns for each category, which can lead to a high-dimensional dataset, making it inefficient and potentially causing issues like the curse of dimensionality.\n",
    "\n",
    "Practical example: Consider a dataset of customer reviews for a restaurant, where the \"Cuisine Type\" is a categorical feature with hundreds of unique cuisine categories. Using one-hot encoding in this case would create hundreds of binary columns, making the dataset unwieldy. Instead, nominal encoding can be applied to assign a unique integer code to each cuisine type, reducing the dimensionality while preserving essential information."
   ]
  },
  {
   "cell_type": "markdown",
   "id": "467b3ddd-e92d-4fd6-b784-fd31a23877db",
   "metadata": {},
   "source": [
    "Q4. Suppose you have a dataset containing categorical data with 5 unique values. Which encoding\n",
    "technique would you use to transform this data into a format suitable for machine learning algorithms?\n",
    "Explain why you made this choice."
   ]
  },
  {
   "cell_type": "markdown",
   "id": "4a9c0a0d-d27c-4550-b528-4c981a69c57a",
   "metadata": {},
   "source": [
    "A4. If you have a categorical feature with five unique values, you can use nominal encoding. Nominal encoding assigns a unique integer code to each category without implying any order or hierarchy among them. It is a straightforward and efficient way to represent categorical data when there is no natural order among the categories. One-hot encoding, in this case, would create unnecessary additional columns and complexity."
   ]
  },
  {
   "cell_type": "markdown",
   "id": "dad4b05b-5825-44b5-ac1c-6e430990d4e3",
   "metadata": {},
   "source": [
    "Q5. In a machine learning project, you have a dataset with 1000 rows and 5 columns. Two of the columns\n",
    "are categorical, and the remaining three columns are numerical. If you were to use nominal encoding to\n",
    "transform the categorical data, how many new columns would be created? Show your calculations."
   ]
  },
  {
   "cell_type": "markdown",
   "id": "f8093fec-2b62-42f1-bea0-9b697474cd4b",
   "metadata": {},
   "source": [
    "A5. If you use nominal encoding on two categorical columns, you would replace each categorical column with a single numerical column containing integer codes. Therefore, you would create two new numerical columns, one for each categorical column. So, in this scenario, you would create two new columns."
   ]
  },
  {
   "cell_type": "markdown",
   "id": "21672a47-c88c-44eb-accc-5d32140e3679",
   "metadata": {},
   "source": [
    "Q6. You are working with a dataset containing information about different types of animals, including their\n",
    "species, habitat, and diet. Which encoding technique would you use to transform the categorical data into\n",
    "a format suitable for machine learning algorithms? Justify your answer."
   ]
  },
  {
   "cell_type": "markdown",
   "id": "fa47b4a9-fed5-49e7-8c1d-528384e51766",
   "metadata": {},
   "source": [
    "A6. For the categorical data about animals, including their species, habitat, and diet, it is advisable to use one-hot encoding. One-hot encoding is suitable when there is no inherent order or hierarchy among the categories, and each category is equally important. In this case:\n",
    "\n",
    "\"Species\" likely has multiple unique values, and one-hot encoding ensures that each species is represented as a binary column, making it easy for machine learning algorithms to work with.\n",
    "\n",
    "\"Habitat\" could also have multiple unique categories, and one-hot encoding allows the model to understand the presence or absence of each habitat type independently.\n",
    "\n",
    "\"Diet\" is likely to have distinct diet types, and one-hot encoding will create separate columns for each diet type, capturing their impact on the outcome.\n",
    "\n",
    "Using one-hot encoding ensures that the model doesn't interpret any ordinal relationships between categories, which is crucial when dealing with categorical data related to animal attributes."
   ]
  },
  {
   "cell_type": "markdown",
   "id": "5a5a3d6b-d65d-4d44-802e-923fada61c0f",
   "metadata": {},
   "source": [
    "Q7.You are working on a project that involves predicting customer churn for a telecommunications\n",
    "company. You have a dataset with 5 features, including the customer's gender, age, contract type,\n",
    "monthly charges, and tenure. Which encoding technique(s) would you use to transform the categorical\n",
    "data into numerical data? Provide a step-by-step explanation of how you would implement the encoding."
   ]
  },
  {
   "cell_type": "markdown",
   "id": "2926a3c1-dfa4-4668-88ed-11f97c3ed980",
   "metadata": {},
   "source": [
    "A7.To transform the categorical data into numerical data for predicting customer churn, you would use encoding techniques appropriate for each categorical feature. In this case, \"gender\" and \"contract type\" are categorical features. Here's how you would encode them:\n",
    "\n",
    "Gender (Binary Categorical):\n",
    "Since \"gender\" has only two categories (e.g., \"Male\" and \"Female\" or \"Male\" and \"Female/Non-binary\"), you can use binary encoding. Assign one binary value (e.g., 0 for Male and 1 for Female) to represent the gender categories.\n",
    "\n",
    "Example:\n",
    "\n",
    "Male: 0\n",
    "\n",
    "Female: 1\n",
    "\n",
    "Contract Type (Multiclass Categorical):\n",
    "\n",
    "\"Contract type\" likely has multiple categories (e.g., \"Month-to-Month,\" \"One Year,\" \"Two Year\"). You should use one-hot encoding for this feature.\n",
    "Create a new binary column for each contract type and assign a 1 to indicate the presence of the contract type and 0 for the absence.\n",
    "\n",
    "Example:\n",
    "\n",
    "Month-to-Month: 1 (if the contract type is Month-to-Month for a customer), 0 (if not)\n",
    "\n",
    "One Year: 1 (if the contract type is One Year for a customer), 0 (if not)\n",
    "\n",
    "Two Year: 1 (if the contract type is Two Year for a customer), 0 (if not)\n",
    "\n",
    "The remaining three features (\"age,\" \"monthly charges,\" and \"tenure\") are already numerical and do not require encoding.\n",
    "\n",
    "Once you've applied these encoding techniques, your dataset will contain both numerical and binary columns, making it suitable for training machine learning models to predict customer churn.\n",
    "\n",
    "\n",
    "\n",
    "\n",
    "\n"
   ]
  },
  {
   "cell_type": "code",
   "execution_count": null,
   "id": "d43c5d12-c913-41c5-a1f2-5b14cea7b11d",
   "metadata": {},
   "outputs": [],
   "source": []
  }
 ],
 "metadata": {
  "kernelspec": {
   "display_name": "Python 3 (ipykernel)",
   "language": "python",
   "name": "python3"
  },
  "language_info": {
   "codemirror_mode": {
    "name": "ipython",
    "version": 3
   },
   "file_extension": ".py",
   "mimetype": "text/x-python",
   "name": "python",
   "nbconvert_exporter": "python",
   "pygments_lexer": "ipython3",
   "version": "3.10.8"
  }
 },
 "nbformat": 4,
 "nbformat_minor": 5
}
