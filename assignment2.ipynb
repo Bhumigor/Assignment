{
 "cells": [
  {
   "cell_type": "code",
   "execution_count": null,
   "id": "f0b00db9-8072-454c-8851-d7c26b606d52",
   "metadata": {},
   "outputs": [],
   "source": [
    "there are 2 types of comment in python \n",
    "1. single line comment: it is done by using \"#\" \n",
    "2. multi line comment: it is done by using \"\"\"...\"\"\""
   ]
  },
  {
   "cell_type": "code",
   "execution_count": 3,
   "id": "453d5c7d-ec08-46e7-97fe-c35b0abece07",
   "metadata": {},
   "outputs": [
    {
     "name": "stdout",
     "output_type": "stream",
     "text": [
      "hello\n"
     ]
    }
   ],
   "source": [
    "#answer all the questions\n",
    "\"\"\"\n",
    "hi.... my name is bhumi. \n",
    "i have completed master of science in applied mathematics\n",
    "currently i am doing data science cource from physics wallah institute\"\"\"\n",
    "\n",
    "print(\"hello\")"
   ]
  },
  {
   "cell_type": "code",
   "execution_count": null,
   "id": "4d54eb27-6103-4531-8c0b-e7d479a0730d",
   "metadata": {},
   "outputs": [],
   "source": [
    "#variables are used to store data or values\n",
    "\"\"\"to declare and assign the value to a variable, simply choose a name for the variable and use assignment operator (=) to \n",
    " assign value to it\"\"\"\n"
   ]
  },
  {
   "cell_type": "code",
   "execution_count": null,
   "id": "419210b4-2f46-49be-9b2a-5b17cd51a3a8",
   "metadata": {},
   "outputs": [],
   "source": [
    "to covert one data type to another data type\n",
    "Using type conversion functions:\n",
    "\n",
    "int(): Converts a value to an integer\n",
    "float(): Converts a value to a floating-point number\n",
    "str(): Converts a value to a string\n",
    "bool(): Converts a value to a Boolean\n",
    "and also Some data types, such as int, float, str, list, tuple, set, and dict, have constructor functions that can be used \n",
    "to create objects of those types. By passing a value to the constructor, Python will attempt to convert it to the \n",
    "appropriate data type."
   ]
  },
  {
   "cell_type": "code",
   "execution_count": null,
   "id": "d43491d6-24c4-4d0f-bbfa-aeba97b82235",
   "metadata": {},
   "outputs": [],
   "source": [
    "write a python in any text editor (ex. notebook) save it to your local then open command line and then open your saved file \n",
    "then type python and then press enter it will execute your code"
   ]
  },
  {
   "cell_type": "code",
   "execution_count": 4,
   "id": "e8a7ca7b-9a60-4b37-ae6a-b51845e2baae",
   "metadata": {},
   "outputs": [],
   "source": [
    "my_list=[1,2,3,4,5]"
   ]
  },
  {
   "cell_type": "code",
   "execution_count": 8,
   "id": "5581d32b-8480-48bb-8a1e-6e4eacffd17f",
   "metadata": {},
   "outputs": [],
   "source": [
    "sub_list= my_list[1:3]"
   ]
  },
  {
   "cell_type": "code",
   "execution_count": 9,
   "id": "c4e6c536-cf0a-4fe2-a26e-0ad546854e43",
   "metadata": {},
   "outputs": [
    {
     "data": {
      "text/plain": [
       "[2, 3]"
      ]
     },
     "execution_count": 9,
     "metadata": {},
     "output_type": "execute_result"
    }
   ],
   "source": [
    "sub_list"
   ]
  },
  {
   "cell_type": "code",
   "execution_count": null,
   "id": "8c337ab3-78aa-4819-9ffa-27793e69dd51",
   "metadata": {},
   "outputs": [],
   "source": [
    "complex number is a number that can be expressed in the form a + bi, where a and b are real numbers, \n",
    "and i represents the imaginary\n",
    "and in python it is represented by a+bj"
   ]
  },
  {
   "cell_type": "code",
   "execution_count": 14,
   "id": "6a800a13-77dd-4b29-baa2-62ffbe050a7f",
   "metadata": {},
   "outputs": [
    {
     "name": "stdout",
     "output_type": "stream",
     "text": [
      "25\n"
     ]
    }
   ],
   "source": [
    "age=25\n",
    "print(age)\n"
   ]
  },
  {
   "cell_type": "code",
   "execution_count": 15,
   "id": "02b2b98c-4987-490e-bf0f-d6a35b9e7b9e",
   "metadata": {},
   "outputs": [
    {
     "data": {
      "text/plain": [
       "float"
      ]
     },
     "execution_count": 15,
     "metadata": {},
     "output_type": "execute_result"
    }
   ],
   "source": [
    "price=9.99\n",
    "type(price)"
   ]
  },
  {
   "cell_type": "code",
   "execution_count": 16,
   "id": "295c351c-02a9-4720-ae3f-2e737f7a5050",
   "metadata": {},
   "outputs": [
    {
     "name": "stdout",
     "output_type": "stream",
     "text": [
      "Bhumi Gor\n"
     ]
    }
   ],
   "source": [
    "name=\"Bhumi Gor\"\n",
    "print(name)"
   ]
  },
  {
   "cell_type": "code",
   "execution_count": 19,
   "id": "324cfa35-6bcc-439d-8f9e-23291e05a935",
   "metadata": {},
   "outputs": [],
   "source": [
    "a=\"Hello World!\"\n",
    "sub_string=a[6:11]"
   ]
  },
  {
   "cell_type": "code",
   "execution_count": 20,
   "id": "4a71dbc0-7af7-428e-9ed5-3018b1e72373",
   "metadata": {},
   "outputs": [
    {
     "data": {
      "text/plain": [
       "'World'"
      ]
     },
     "execution_count": 20,
     "metadata": {},
     "output_type": "execute_result"
    }
   ],
   "source": [
    "sub_string"
   ]
  },
  {
   "cell_type": "code",
   "execution_count": null,
   "id": "251bb9fb-6d38-470a-8e20-ccd755997c25",
   "metadata": {},
   "outputs": [],
   "source": [
    "is_student = True\n"
   ]
  }
 ],
 "metadata": {
  "kernelspec": {
   "display_name": "Python 3 (ipykernel)",
   "language": "python",
   "name": "python3"
  },
  "language_info": {
   "codemirror_mode": {
    "name": "ipython",
    "version": 3
   },
   "file_extension": ".py",
   "mimetype": "text/x-python",
   "name": "python",
   "nbconvert_exporter": "python",
   "pygments_lexer": "ipython3",
   "version": "3.10.8"
  }
 },
 "nbformat": 4,
 "nbformat_minor": 5
}
