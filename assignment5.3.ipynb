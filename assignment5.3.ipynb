{
 "cells": [
  {
   "cell_type": "markdown",
   "id": "0944dd23-c540-438e-a0a0-207fcd1c6305",
   "metadata": {},
   "source": [
    " what is multithreading in python? why is it used? Name the module used to handle threads in python"
   ]
  },
  {
   "cell_type": "code",
   "execution_count": 1,
   "id": "c0e1e9a9-0b6a-4b2d-a374-d602c0faa9e0",
   "metadata": {},
   "outputs": [],
   "source": [
    "#multithreading is execution of multiple threads within a single program. \n",
    "#Multithreading is used to achieve parallelism, where multiple tasks or operations can be executed simultaneously, leading to improved performance and responsiveness in certain scenarios. \n",
    "#The threading module is used to handle threads in Python."
   ]
  },
  {
   "cell_type": "markdown",
   "id": "3807423e-ad83-4790-bcb6-a2f835b9ec7d",
   "metadata": {},
   "source": [
    "why threading module used? write the use of the following functions\n",
    "1. activeCount\n",
    "2. currentThread\n",
    "3. enumerate"
   ]
  },
  {
   "cell_type": "code",
   "execution_count": 2,
   "id": "528b5e13-d981-4c17-a5d7-35545a3ee5df",
   "metadata": {},
   "outputs": [],
   "source": [
    "#The threading module in Python provides a high-level interface for creating and managing threads.\n",
    "#It is used to handle threads because it simplifies the process of working with threads \n",
    "#and provides synchronization mechanisms to coordinate thread execution.\n",
    "\n",
    "#activeCount(): Returns the number of Thread objects currently alive.\n",
    "#currentThread(): Returns the Thread object corresponding to the current thread.\n",
    "#enumerate(): Returns a list of all Thread objects currently alive."
   ]
  },
  {
   "cell_type": "markdown",
   "id": "d9ece3b3-cea8-4476-b336-1ca3165ca7d7",
   "metadata": {},
   "source": [
    "Explain the following functions\n",
    "1. run\n",
    "2. start\n",
    "3. join\n",
    "4. isAlive"
   ]
  },
  {
   "cell_type": "code",
   "execution_count": 3,
   "id": "6dd0ed9b-1c36-4218-8164-4a54430ab45c",
   "metadata": {},
   "outputs": [],
   "source": [
    "#run(): This method represents the entry point of a thread and contains the code that will be executed when the thread is started.\n",
    "#start(): This method starts the execution of the thread by calling the run() method.\n",
    "#join(): This method blocks the calling thread until the thread on which it is called completes its execution.\n",
    "#isAlive(): This method checks if the thread is currently executing or alive."
   ]
  },
  {
   "cell_type": "markdown",
   "id": "067c9d25-5693-4a12-bcb9-3f8324711555",
   "metadata": {},
   "source": [
    "write a python program to create two threads. Thread one must print the list of squares and thread\n",
    "two must print the list of cubes"
   ]
  },
  {
   "cell_type": "code",
   "execution_count": 4,
   "id": "fef0df2f-70d0-46ce-8e33-82c7757ba839",
   "metadata": {},
   "outputs": [
    {
     "name": "stdout",
     "output_type": "stream",
     "text": [
      "1\n",
      "4\n",
      "9\n",
      "16\n",
      "25\n",
      "1\n",
      "8\n",
      "27\n",
      "64\n",
      "125\n"
     ]
    }
   ],
   "source": [
    "import threading\n",
    "\n",
    "def print_squares():\n",
    "    for i in range(1, 6):\n",
    "        print(i ** 2)\n",
    "\n",
    "def print_cubes():\n",
    "    for i in range(1, 6):\n",
    "        print(i ** 3)\n",
    "\n",
    "thread1 = threading.Thread(target=print_squares)\n",
    "thread2 = threading.Thread(target=print_cubes)\n",
    "\n",
    "thread1.start()\n",
    "thread2.start()\n",
    "\n",
    "thread1.join()\n",
    "thread2.join()"
   ]
  },
  {
   "cell_type": "markdown",
   "id": "dd1f40e9-341e-412f-bb01-264106e951c2",
   "metadata": {},
   "source": [
    "State advantages and disadvantages of multithreading"
   ]
  },
  {
   "cell_type": "code",
   "execution_count": 5,
   "id": "be00bdda-2d9f-48a7-b0a1-536381196ef3",
   "metadata": {},
   "outputs": [],
   "source": [
    "#Advantages:Improved performance,Enhanced responsiveness,Simultaneous I/O operations\n",
    "#Disadvantages:Complexity,Potential for errors,Overhead"
   ]
  },
  {
   "cell_type": "markdown",
   "id": "56a53a66-3e02-4d41-b312-66c298e76d2d",
   "metadata": {},
   "source": [
    "Explain deadlocks and race conditions."
   ]
  },
  {
   "cell_type": "code",
   "execution_count": null,
   "id": "77ef07ff-1ec3-49b1-9d0e-c36ab8b796d5",
   "metadata": {},
   "outputs": [],
   "source": [
    "#A deadlock occurs when two or more threads are blocked indefinitely, each waiting for the other to release a resource. \n",
    "#This situation leads to a complete halt in the execution of the program, as the threads are stuck and cannot make progress.\n",
    " A #race condition occurs when multiple threads access and manipulate shared data concurrently, leading to unpredictable results. \n",
    "    The outcome of the program becomes dependent on the relative timing of the thread execution, and the final values of the shared data can be inconsistent or incorrect."
   ]
  }
 ],
 "metadata": {
  "kernelspec": {
   "display_name": "Python 3 (ipykernel)",
   "language": "python",
   "name": "python3"
  },
  "language_info": {
   "codemirror_mode": {
    "name": "ipython",
    "version": 3
   },
   "file_extension": ".py",
   "mimetype": "text/x-python",
   "name": "python",
   "nbconvert_exporter": "python",
   "pygments_lexer": "ipython3",
   "version": "3.10.8"
  }
 },
 "nbformat": 4,
 "nbformat_minor": 5
}
