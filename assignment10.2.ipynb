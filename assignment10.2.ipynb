{
 "cells": [
  {
   "cell_type": "markdown",
   "id": "0f1d2487-51d3-4358-8c86-09a261501191",
   "metadata": {},
   "source": [
    "Q1. What are the three measures of central tendency?"
   ]
  },
  {
   "cell_type": "markdown",
   "id": "fecd18b7-5433-4fce-867c-98ac33477d70",
   "metadata": {},
   "source": [
    "A1 : The three measures of central tendency are the mean, median, and mode."
   ]
  },
  {
   "cell_type": "markdown",
   "id": "efc6f48f-ad0c-452a-a290-5918ad64cd7c",
   "metadata": {},
   "source": [
    "Q2. What is the difference between the mean, median, and mode? How are they used to measure the\n",
    "central tendency of a dataset?"
   ]
  },
  {
   "cell_type": "markdown",
   "id": "a216f914-1c41-4058-b775-b52618944a61",
   "metadata": {},
   "source": [
    "A2 : \n",
    "\n",
    "The mean is the arithmetic average of a dataset and is calculated by summing all the values and dividing by the total number of values. It is influenced by extreme values.\n",
    "\n",
    "The median is the middle value in a dataset when it is arranged in ascending or descending order. It divides the dataset into two equal halves and is not affected by extreme values.\n",
    "\n",
    "The mode is the value or values that appear most frequently in a dataset. It can have multiple modes or no mode at all.\n",
    "\n",
    "These measures are used to determine the typical or central value of a dataset. The mean is commonly used when the data is normally distributed and not heavily skewed, while the median is preferred when the data has outliers or is skewed. The mode is useful for categorical or discrete data."
   ]
  },
  {
   "cell_type": "markdown",
   "id": "5995ef2e-2a35-4f4b-869d-04b04f3b64f1",
   "metadata": {},
   "source": [
    "Q3. Measure the three measures of central tendency for the given height data:\n",
    "    \n",
    "[178,177,176,177,178.2,178,175,179,180,175,178.9,176.2,177,172.5,178,176.5]"
   ]
  },
  {
   "cell_type": "code",
   "execution_count": 8,
   "id": "ee72fcc8-e5d6-41ed-9ca1-297e396b3589",
   "metadata": {},
   "outputs": [
    {
     "name": "stdout",
     "output_type": "stream",
     "text": [
      "Mean : 177.01875\n",
      "Median : 177.0\n",
      "Mode ModeResult(mode=array([177.]), count=array([3]))\n"
     ]
    },
    {
     "name": "stderr",
     "output_type": "stream",
     "text": [
      "/tmp/ipykernel_734/15296231.py:6: FutureWarning: Unlike other reduction functions (e.g. `skew`, `kurtosis`), the default behavior of `mode` typically preserves the axis it acts along. In SciPy 1.11.0, this behavior will change: the default value of `keepdims` will become False, the `axis` over which the statistic is taken will be eliminated, and the value None will no longer be accepted. Set `keepdims` to True or False to avoid this warning.\n",
      "  mode = stats.mode(data)\n"
     ]
    }
   ],
   "source": [
    "import numpy as np\n",
    "from scipy import stats\n",
    "data = [178,177,176,177,178.2,178,175,179,180,175,178.9,176.2,177,172.5,178,176.5]\n",
    "mean = np.mean(data)\n",
    "median = np.median(data)\n",
    "mode = stats.mode(data)\n",
    "print(\"Mean :\",mean)\n",
    "print(\"Median :\",median)\n",
    "print(\"Mode\",mode)"
   ]
  },
  {
   "cell_type": "markdown",
   "id": "c70379de-e97f-4e3f-b013-465b7febfdf2",
   "metadata": {},
   "source": [
    "Q4. Find the standard deviation for the given data:\n",
    "\n",
    "[178,177,176,177,178.2,178,175,179,180,175,178.9,176.2,177,172.5,178,176.5]"
   ]
  },
  {
   "cell_type": "code",
   "execution_count": 9,
   "id": "91ab6ef2-08ac-4531-a5f5-342eb92f337f",
   "metadata": {},
   "outputs": [
    {
     "data": {
      "text/plain": [
       "1.7885814036548633"
      ]
     },
     "execution_count": 9,
     "metadata": {},
     "output_type": "execute_result"
    }
   ],
   "source": [
    "np.std(data)"
   ]
  },
  {
   "cell_type": "markdown",
   "id": "8f1877b0-e330-4ef7-9e76-97812db56206",
   "metadata": {},
   "source": [
    "Q5. How are measures of dispersion such as range, variance, and standard deviation used to describe\n",
    "the spread of a dataset? Provide an example."
   ]
  },
  {
   "cell_type": "markdown",
   "id": "1c718c23-da73-49db-a0a6-c59a17d6e93b",
   "metadata": {},
   "source": [
    "A5 :\n",
    "\n",
    "Range: The range is the difference between the highest and lowest values in a dataset. It provides a simple measure of the spread but is sensitive to extreme values.\n",
    "\n",
    "Variance: Variance measures the average squared difference between each data point and the mean. It quantifies the overall variability of the dataset. A higher variance indicates greater spread.\n",
    "\n",
    "Standard Deviation: The standard deviation is the square root of the variance. It measures the average distance between each data point and the mean. It provides a more interpretable measure of spread compared to variance.\n",
    "\n",
    "For example, consider two datasets of exam scores:\n",
    "Dataset A: [80, 85, 90, 95, 100]\n",
    "Dataset B: [60, 70, 80, 90, 100]\n",
    "\n",
    "Both datasets have the same mean (90) and median (90), indicating similar central tendency. However, the range, variance, and standard deviation will differ:\n",
    "\n",
    "Dataset A:\n",
    "Range = 100 - 80 = 20\n",
    "Variance = 50\n",
    "Standard Deviation = sqrt(50) ≈ 7.07\n",
    "\n",
    "Dataset B:\n",
    "Range = 100 - 60 = 40\n",
    "Variance = 200\n",
    "Standard Deviation = sqrt(200) ≈ 14.14\n",
    "\n",
    "The measures of dispersion show that Dataset B has a wider spread than Dataset A, with a larger range, variance, and standard deviation."
   ]
  },
  {
   "cell_type": "markdown",
   "id": "dff2d0bb-e0c7-46e0-bca6-9e605107e18c",
   "metadata": {},
   "source": [
    "Q6. What is a Venn diagram?"
   ]
  },
  {
   "cell_type": "markdown",
   "id": "96952ad5-211b-482f-8d1c-2441384888c4",
   "metadata": {},
   "source": [
    "A6 :A Venn diagram is a visual representation of the relationships between different sets or groups. It consists of overlapping circles or other shapes that represent the sets. The overlapping regions show the elements that belong to multiple sets, while the non-overlapping regions represent elements exclusive to each set.\n",
    "\n",
    "Venn diagrams are commonly used to illustrate set intersections, unions, and differences. They help in visualizing logical relationships and understanding the overlap or distinctiveness of different categories or data.\n",
    "    \n"
   ]
  },
  {
   "cell_type": "markdown",
   "id": "9fb28d76-3131-4376-b472-f01f138bf1b2",
   "metadata": {},
   "source": [
    "Q7. For the two given sets A = (2,3,4,5,6,7) & B = (0,2,6,8,10). Find:\n",
    "(i) A B\n",
    "(ii) A ⋃ B"
   ]
  },
  {
   "cell_type": "markdown",
   "id": "5ad5d5f2-3b52-4805-ac3e-299dff22be78",
   "metadata": {},
   "source": [
    "A7 : \n",
    "    \n",
    "A ∩ B = {2, 6}\n",
    "\n",
    "A ⋃ B = {0, 2, 3, 4, 5, 6, 7, 8, 10}"
   ]
  },
  {
   "cell_type": "markdown",
   "id": "bbbfd23d-6e59-4671-8129-3bdcd536032a",
   "metadata": {},
   "source": [
    "Q8. What do you understand about skewness in data?"
   ]
  },
  {
   "cell_type": "markdown",
   "id": "fe6db033-d9a5-4e14-8f10-869407339a77",
   "metadata": {},
   "source": [
    "A8 : Skewness in data refers to the asymmetry or lack of symmetry in the distribution of values. It measures the degree and direction of distortion from a symmetrical distribution. Skewness provides information about the tail behavior of the distribution.\n",
    "\n",
    "Positive Skewness: If the distribution has a long right tail and the majority of the data is concentrated on the left side, it is considered positively skewed. The mean is typically greater than the median in a positively skewed distribution.\n",
    "\n",
    "Negative Skewness: If the distribution has a long left tail and the majority of the data is concentrated on the right side, it is considered negatively skewed. The mean is typically less than the median in a negatively skewed distribution."
   ]
  },
  {
   "cell_type": "markdown",
   "id": "881b0d68-b83c-46cb-8ec2-ddb9f94c2e72",
   "metadata": {},
   "source": [
    "Q9. If a data is right skewed then what will be the position of median with respect to mean?"
   ]
  },
  {
   "cell_type": "markdown",
   "id": "c3cbc5e9-f901-4b0d-abe0-a00617e70e33",
   "metadata": {},
   "source": [
    "A9 :  If a data is right skewed, the position of the median will be to the right of the mean. In right-skewed distributions, the mean is pulled towards the longer tail, which leads to the median being greater than the mean."
   ]
  },
  {
   "cell_type": "markdown",
   "id": "d9b9ebb8-856d-42d7-8cf9-11d5c2cc9938",
   "metadata": {},
   "source": [
    "Q10. Explain the difference between covariance and correlation. How are these measures used in\n",
    "statistical analysis?"
   ]
  },
  {
   "cell_type": "markdown",
   "id": "ad9afc4a-7308-48ff-8789-12a5cda1277e",
   "metadata": {},
   "source": [
    "A10 : Covariance and correlation are both measures of the relationship between two variables, but they differ in terms of scale and interpretation.\n",
    "\n",
    "Covariance: Covariance measures the directional relationship between two variables. It indicates how changes in one variable are associated with changes in another variable. Covariance can take any value, positive or negative, depending on the nature of the relationship. However, it does not provide a standardized measure, making it difficult to compare across different datasets.\n",
    "\n",
    "Correlation: Correlation is a standardized measure of the linear relationship between two variables. It ranges from -1 to 1, where -1 represents a perfect negative correlation, 1 represents a perfect positive correlation, and 0 represents no linear correlation. Correlation provides a more interpretable measure compared to covariance since it is not affected by the scale of the variables.\n",
    "\n",
    "These measures are used in statistical analysis to understand the relationship between variables, assess the strength and direction of the relationship, and make predictions or inferences based on the observed associations."
   ]
  },
  {
   "cell_type": "markdown",
   "id": "2abe9ec8-8161-4b4d-95ba-24ad9ecc7f3d",
   "metadata": {},
   "source": [
    "Q11. What is the formula for calculating the sample mean? Provide an example calculation for a\n",
    "dataset."
   ]
  },
  {
   "cell_type": "markdown",
   "id": "80583c00-6ab3-4dff-a457-24a9f66e3aff",
   "metadata": {},
   "source": [
    "A11 : Sample Mean (x̄) = (Sum of all the data points) / (Total number of data points)\n",
    "\n",
    "For example,  dataset: [5, 10, 15, 20, 25]\n",
    "\n",
    "Sample Mean = (5 + 10 + 15 + 20 + 25) / 5 = 75 / 5 = 15"
   ]
  },
  {
   "cell_type": "markdown",
   "id": "bcb927de-1ebf-4e32-a7c7-f2b9bffdbb21",
   "metadata": {},
   "source": [
    "Q12. For a normal distribution data what is the relationship between its measure of central tendency?"
   ]
  },
  {
   "cell_type": "markdown",
   "id": "2442c6c7-b9f8-4df5-ba9f-760c0c20b5e3",
   "metadata": {},
   "source": [
    "A12 :  In a normal distribution, the mean, median, and mode are all located at the same point. They coincide and are equal, resulting in a symmetrical distribution. This property of a normal distribution is a characteristic feature, and the values of mean, median, and mode are all the same."
   ]
  },
  {
   "cell_type": "markdown",
   "id": "92a1dd08-99c2-42ea-b393-7fc7983e44a4",
   "metadata": {},
   "source": [
    "Q13. How is covariance different from correlation?"
   ]
  },
  {
   "cell_type": "markdown",
   "id": "9aaf4189-87ee-4afe-8b1c-120985c0805e",
   "metadata": {},
   "source": [
    "A13 : Covariance: Covariance measures the strength and direction of the linear relationship between two variables. It indicates how changes in one variable are related to changes in another variable. Covariance is affected by the units of the variables, and the magnitude of the covariance is not easily interpretable.\n",
    "\n",
    "Correlation: Correlation is a standardized measure of the linear relationship between two variables. It ranges from -1 to 1, where -1 represents a perfect negative correlation, 1 represents a perfect positive correlation, and 0 represents no linear correlation. Correlation provides a more interpretable measure since it is not affected by the units of the variables and allows for comparison across different datasets.\n",
    "\n",
    "In summary, covariance measures the direction and strength of the relationship between variables, while correlation provides a standardized measure of the relationship that is not influenced by the scale of the variables."
   ]
  },
  {
   "cell_type": "markdown",
   "id": "c9996579-8d3e-4a6d-b074-8f381262b46b",
   "metadata": {},
   "source": [
    "Q14. How do outliers affect measures of central tendency and dispersion? Provide an example."
   ]
  },
  {
   "cell_type": "markdown",
   "id": "67e7ba7b-1130-4ece-bf49-98476fe7b388",
   "metadata": {},
   "source": [
    "A14 : Outliers can have a significant impact on measures of central tendency and dispersion:\n",
    "\n",
    "Measures of Central Tendency: Outliers can greatly influence the mean, pulling it towards their extreme values. The mean is not a robust measure and is sensitive to outliers. However, the median is less affected by outliers since it only considers the middle value or values. The median is a more robust measure of central tendency in the presence of outliers.\n",
    "\n",
    "Measures of Dispersion: Outliers can substantially impact measures of dispersion, such as the range, variance, and standard deviation. The range is directly affected by outliers since it includes the highest and lowest values. Outliers can increase the variance and standard deviation, as these measures consider the squared differences between each data point and the mean. The presence of outliers can inflate these measures.\n",
    "\n",
    "For example, consider the dataset: [10, 12, 13, 15, 20, 100]. The outlier value of 100 significantly affects the mean, making it higher than the expected central value. The median, on the other hand, is not affected by the outlier and remains closer to the expected central value. Similarly, the presence of the outlier expands the range and increases the variance and standard deviation, indicating higher dispersion in the dataset."
   ]
  },
  {
   "cell_type": "code",
   "execution_count": null,
   "id": "c1c226fc-2a2b-499a-8671-a9e72be7c175",
   "metadata": {},
   "outputs": [],
   "source": []
  }
 ],
 "metadata": {
  "kernelspec": {
   "display_name": "Python 3 (ipykernel)",
   "language": "python",
   "name": "python3"
  },
  "language_info": {
   "codemirror_mode": {
    "name": "ipython",
    "version": 3
   },
   "file_extension": ".py",
   "mimetype": "text/x-python",
   "name": "python",
   "nbconvert_exporter": "python",
   "pygments_lexer": "ipython3",
   "version": "3.10.8"
  }
 },
 "nbformat": 4,
 "nbformat_minor": 5
}
