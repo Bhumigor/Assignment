{
 "cells": [
  {
   "cell_type": "code",
   "execution_count": 1,
   "id": "a39f0047-d800-4bbc-97b7-051de26ea664",
   "metadata": {},
   "outputs": [
    {
     "name": "stdout",
     "output_type": "stream",
     "text": [
      "0\n",
      "2\n",
      "-1\n"
     ]
    }
   ],
   "source": [
    "def firstUniqChar(s):\n",
    "    char_count = {}  \n",
    "    for char in s:\n",
    "        char_count[char] = char_count.get(char, 0) + 1\n",
    "\n",
    "    for i, char in enumerate(s):\n",
    "        if char_count[char] == 1:\n",
    "            return i\n",
    "\n",
    "    return -1 \n",
    "\n",
    "s1 = \"leetcode\"\n",
    "result1 = firstUniqChar(s1)\n",
    "print(result1)  \n",
    "\n",
    "s2 = \"loveleetcode\"\n",
    "result2 = firstUniqChar(s2)\n",
    "print(result2) \n",
    "\n",
    "s3 = \"aabb\"\n",
    "result3 = firstUniqChar(s3)\n",
    "print(result3)  \n"
   ]
  },
  {
   "cell_type": "code",
   "execution_count": null,
   "id": "f39300df-038e-4be0-a6db-ef5f206a1a8f",
   "metadata": {},
   "outputs": [],
   "source": []
  }
 ],
 "metadata": {
  "kernelspec": {
   "display_name": "Python 3 (ipykernel)",
   "language": "python",
   "name": "python3"
  },
  "language_info": {
   "codemirror_mode": {
    "name": "ipython",
    "version": 3
   },
   "file_extension": ".py",
   "mimetype": "text/x-python",
   "name": "python",
   "nbconvert_exporter": "python",
   "pygments_lexer": "ipython3",
   "version": "3.10.8"
  }
 },
 "nbformat": 4,
 "nbformat_minor": 5
}
