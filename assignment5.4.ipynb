{
 "cells": [
  {
   "cell_type": "markdown",
   "id": "d0df68ac-e891-42c0-8b75-8f1383a055a2",
   "metadata": {},
   "source": [
    "Q1. What is multiprocessing in python? Why is it useful?"
   ]
  },
  {
   "cell_type": "code",
   "execution_count": 1,
   "id": "1a3eba60-6f8d-4320-9a35-a2778e9e9087",
   "metadata": {},
   "outputs": [],
   "source": [
    "#multiprocessing is to create and run multiple processes concurrently. \n",
    "#It allows for parallel execution of tasks by distributing the workload across multiple processors or cores. \n",
    "#Each process runs independently and has its own memory space, allowing for efficient utilization of system resources. \n",
    "#Multiprocessing is useful in scenarios where the tasks can be divided into smaller, independent units of work \n",
    "#that can be executed simultaneously, resulting in improved performance and increased throughput."
   ]
  },
  {
   "cell_type": "markdown",
   "id": "6c2ec17f-b908-47b0-ba9c-0a695e0857cc",
   "metadata": {},
   "source": [
    "Q2. What are the differences between multiprocessing and multithreading?"
   ]
  },
  {
   "cell_type": "code",
   "execution_count": 2,
   "id": "8576e764-b465-48b1-ae72-63dcbb0b8b53",
   "metadata": {},
   "outputs": [],
   "source": [
    "#multiprocessing:\n",
    "#Multiprocessing achieves true concurrency by utilizing multiple processors or cores, allowing for parallel execution of tasks\n",
    "#Each process in multiprocessing has its own memory space, providing strong isolation between processes.\n",
    "#Multiprocessing scales well with the number of available processors or cores, allowing for efficient utilization of system resources\n",
    "#multithreading:\n",
    "#multithreading, multiple threads run within a single process, sharing the same memory space.\n",
    "#Multithreading achieves concurrency by interleaving the execution of multiple threads within a single processor or core.\n",
    "#Multithreading may not scale well when the number of threads exceeds the number of available processors or when there is significant contention for shared resources."
   ]
  },
  {
   "cell_type": "markdown",
   "id": "fb7886b5-4986-4c01-a864-512f29af5b29",
   "metadata": {},
   "source": [
    "Q3. Write a python code to create a process using the multiprocessing module."
   ]
  },
  {
   "cell_type": "code",
   "execution_count": 3,
   "id": "6f007cca-31a2-498b-8ff6-719b23b3b43a",
   "metadata": {},
   "outputs": [
    {
     "name": "stdout",
     "output_type": "stream",
     "text": [
      "This is a child process.\n"
     ]
    }
   ],
   "source": [
    "import multiprocessing\n",
    "\n",
    "def worker():\n",
    "    print(\"This is a child process.\")\n",
    "\n",
    "if __name__ == '__main__':\n",
    "    process = multiprocessing.Process(target=worker)\n",
    "    process.start()\n",
    "    process.join()"
   ]
  },
  {
   "cell_type": "markdown",
   "id": "c518a9a7-62ee-4a33-b8ed-940da5df9d0f",
   "metadata": {},
   "source": [
    "Q4. What is a multiprocessing pool in python? Why is it used?"
   ]
  },
  {
   "cell_type": "code",
   "execution_count": 4,
   "id": "2e0f66ca-c808-4f10-a73a-ac55f6e70d26",
   "metadata": {},
   "outputs": [],
   "source": [
    "#A multiprocessing pool module, is a mechanism that allows for the creation of a pool of worker processes. \n",
    "#It simplifies the distribution of tasks across multiple processes and manages the allocation of work to available processes. \n",
    "#The pool provides a high-level interface for parallel processing, enabling efficient execution of multiple tasks concurrently.\n",
    "#The multiprocessing.Pool class is used to create a multiprocessing pool in Python. \n",
    "#It provides methods to submit tasks to the pool and retrieve the results. \n",
    "#The pool internally manages a set of worker processes and distributes the tasks among them, \n",
    "#abstracting away the complexities of process creation and management."
   ]
  },
  {
   "cell_type": "markdown",
   "id": "d9ee0b75-a9a7-442e-924c-4b155b113ade",
   "metadata": {},
   "source": [
    "Q5. How can we create a pool of worker processes in python using the multiprocessing module?"
   ]
  },
  {
   "cell_type": "code",
   "execution_count": 6,
   "id": "bd5f948b-7892-4dc2-8866-087a50e5238a",
   "metadata": {},
   "outputs": [
    {
     "name": "stdout",
     "output_type": "stream",
     "text": [
      "This is processThis is processThis is processThis is process    1324\n",
      "\n",
      "\n",
      "\n"
     ]
    }
   ],
   "source": [
    "import multiprocessing\n",
    "\n",
    "def worker(number):\n",
    "    print(\"This is process\", number)\n",
    "\n",
    "if __name__ == '__main__':\n",
    "    pool = multiprocessing.Pool(processes=4)\n",
    "    numbers = [1, 2, 3, 4]\n",
    "    pool.map(worker, numbers)\n",
    "    pool.close()\n",
    "    pool.join()\n"
   ]
  },
  {
   "cell_type": "markdown",
   "id": "ef4e2bf1-dc6c-461f-9d10-93f602caadc0",
   "metadata": {},
   "source": [
    "Q6. Write a python program to create 4 processes, each process should print a different number using the\n",
    "multiprocessing module in python."
   ]
  },
  {
   "cell_type": "code",
   "execution_count": 7,
   "id": "ff4cfdbe-ee5f-4e0d-a59c-0ec3d8279bc9",
   "metadata": {},
   "outputs": [
    {
     "name": "stdout",
     "output_type": "stream",
     "text": [
      "Process 1 Processprinted  21 Process\n",
      "printed  32 \n",
      "printed Process3 \n",
      "4 printed 4\n"
     ]
    }
   ],
   "source": [
    "import multiprocessing\n",
    "\n",
    "def print_number(number):\n",
    "    print(\"Process\", number, \"printed\", number)\n",
    "\n",
    "if __name__ == '__main__':\n",
    "    processes = []\n",
    "    for i in range(1, 5):\n",
    "        process = multiprocessing.Process(target=print_number, args=(i,))\n",
    "        process.start()\n",
    "        processes.append(process)\n",
    "\n",
    "    for process in processes:\n",
    "        process.join()\n"
   ]
  },
  {
   "cell_type": "code",
   "execution_count": null,
   "id": "7e6e7a17-81f3-42f1-990f-5f7156bff172",
   "metadata": {},
   "outputs": [],
   "source": []
  }
 ],
 "metadata": {
  "kernelspec": {
   "display_name": "Python 3 (ipykernel)",
   "language": "python",
   "name": "python3"
  },
  "language_info": {
   "codemirror_mode": {
    "name": "ipython",
    "version": 3
   },
   "file_extension": ".py",
   "mimetype": "text/x-python",
   "name": "python",
   "nbconvert_exporter": "python",
   "pygments_lexer": "ipython3",
   "version": "3.10.8"
  }
 },
 "nbformat": 4,
 "nbformat_minor": 5
}
