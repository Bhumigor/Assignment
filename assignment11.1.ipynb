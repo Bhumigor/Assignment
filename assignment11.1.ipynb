{
 "cells": [
  {
   "cell_type": "markdown",
   "id": "3dc6e9a2-88e1-419a-8384-d491d8b9c1fc",
   "metadata": {},
   "source": [
    "Q1. What is the Probability density function?"
   ]
  },
  {
   "cell_type": "markdown",
   "id": "c327f4bc-a57a-4c88-9f04-f0198afc23af",
   "metadata": {},
   "source": [
    "A1.\n",
    "The Probability Density Function (PDF) is a fundamental concept in probability and statistics. For continuous random variables, the PDF is a function that describes the likelihood of the random variable taking on a particular value within a given range. The PDF gives the relative likelihood of the random variable being near a specific value. Mathematically, the PDF is denoted by \"f(x)\" and satisfies the following properties:\n",
    "\n",
    "f(x) ≥ 0: The PDF is non-negative for all values of x.\n",
    "The total area under the PDF curve is equal to 1."
   ]
  },
  {
   "cell_type": "markdown",
   "id": "2cc5fda5-7221-4fda-92a5-825fbd6ad386",
   "metadata": {},
   "source": [
    "Q2. What are the types of Probability distribution?"
   ]
  },
  {
   "cell_type": "markdown",
   "id": "9f27641f-5aaa-4d62-b61e-d9d93e331fab",
   "metadata": {},
   "source": [
    "A2.\n",
    "There are several types of probability distributions used to model different types of random variables:\n",
    "\n",
    "1. Continuous Distributions:\n",
    "   * Normal (Gaussian) Distribution\n",
    "   * Uniform Distribution\n",
    "   * Exponential Distribution\n",
    "\n",
    "\n",
    "2. Discrete Distributions:\n",
    "   * Bernoulli Distribution\n",
    "   * Binomial Distribution\n",
    "   * Poisson Distribution\n",
    "   * Geometric Distribution"
   ]
  },
  {
   "cell_type": "markdown",
   "id": "9017623d-6bc4-4bbe-81a6-524ec67c3cb2",
   "metadata": {},
   "source": [
    "Q3. Write a Python function to calculate the probability density function of a normal distribution with\n",
    "given mean and standard deviation at a given point."
   ]
  },
  {
   "cell_type": "code",
   "execution_count": 1,
   "id": "354b9e36-3409-4918-9e55-6a2e9f99d722",
   "metadata": {},
   "outputs": [],
   "source": [
    "import numpy as np\n",
    "import scipy.stats as stats\n",
    "\n",
    "def normal_pdf(x, mean, std_dev):\n",
    "    \"\"\"\n",
    "    Calculate the Probability Density Function (PDF) of a normal distribution at a given point.\n",
    "    \n",
    "    Parameters:\n",
    "        x (float): The point at which to evaluate the PDF.\n",
    "        mean (float): Mean of the normal distribution.\n",
    "        std_dev (float): Standard deviation of the normal distribution.\n",
    "    \n",
    "    Returns:\n",
    "        float: The PDF value at the given point 'x'.\n",
    "    \"\"\"\n",
    "    return stats.norm.pdf(x, loc=mean, scale=std_dev)\n"
   ]
  },
  {
   "cell_type": "markdown",
   "id": "020d92a8-b8f0-49a8-8506-16489d1db31d",
   "metadata": {},
   "source": [
    "Q4. What are the properties of Binomial distribution? Give two examples of events where binomial\n",
    "distribution can be applied."
   ]
  },
  {
   "cell_type": "markdown",
   "id": "069b9905-0b95-4cc3-9293-0a0de50c5022",
   "metadata": {},
   "source": [
    "A4. The Binomial distribution is a discrete probability distribution that models the number of successes in a fixed number of independent Bernoulli trials (experiments with two possible outcomes: success or failure). The properties of the Binomial distribution are:\n",
    "\n",
    "1. The random variable \"X\" follows a Binomial distribution if the trials are independent and have a constant probability of success, denoted by \"p,\" in each trial.\n",
    "2. The probability mass function (PMF) of the Binomial distribution is given by: P(X = k) = C(n, k) * p^k * (1 - p)^(n - k), where \"C(n, k)\" is the binomial coefficient (n choose k).\n",
    "3. The mean of the Binomial distribution is μ = n * p.\n",
    "4. The variance of the Binomial distribution is σ^2 = n * p * (1 - p).\n",
    "\n",
    "\n",
    "Two examples where the Binomial distribution can be applied are:\n",
    "\n",
    "1. Tossing a fair coin (Bernoulli trial) and counting the number of heads in 10 tosses.\n",
    "2. Checking the defective items in a production line where each item has a known probability of being defective."
   ]
  },
  {
   "cell_type": "markdown",
   "id": "434a5439-f342-4b0d-912d-f581c9a776b8",
   "metadata": {},
   "source": [
    "Q5. Generate a random sample of size 1000 from a binomial distribution with probability of success 0.4\n",
    "and plot a histogram of the results using matplotlib."
   ]
  },
  {
   "cell_type": "code",
   "execution_count": 3,
   "id": "7b8c5433-465a-47d8-b38b-d9069e229d3a",
   "metadata": {},
   "outputs": [
    {
     "data": {
      "image/png": "[encoded data removed]",
      "text/plain": [
       "<Figure size 640x480 with 1 Axes>"
      ]
     },
     "metadata": {},
     "output_type": "display_data"
    }
   ],
   "source": [
    "import numpy as np\n",
    "import matplotlib.pyplot as plt\n",
    "\n",
    "sample_size = 1000\n",
    "probability_of_success = 0.4\n",
    "random_sample = np.random.binomial(n=1, p=probability_of_success, size=sample_size)\n",
    "\n",
    "plt.hist(random_sample, bins=2, edgecolor='black')\n",
    "plt.xlabel('Outcome')\n",
    "plt.ylabel('Frequency')\n",
    "plt.title('Histogram of Random Sample from Binomial Distribution')\n",
    "plt.xticks([0, 1], ['Failure (0)', 'Success (1)'])\n",
    "plt.show()\n"
   ]
  },
  {
   "cell_type": "markdown",
   "id": "a683a77f-889d-4d4e-aa6d-d62ee0a67a77",
   "metadata": {},
   "source": [
    "Q6. Write a Python function to calculate the cumulative distribution function of a Poisson distribution\n",
    "with given mean at a given point."
   ]
  },
  {
   "cell_type": "code",
   "execution_count": 4,
   "id": "5f6ec7ed-e3bc-4d1a-bc61-0a7e510201d9",
   "metadata": {},
   "outputs": [],
   "source": [
    "import numpy as np\n",
    "import scipy.stats as stats\n",
    "\n",
    "def poisson_cdf(k, mean):\n",
    "    \"\"\"\n",
    "    Calculate the Cumulative Distribution Function (CDF) of a Poisson distribution at a given point.\n",
    "    \n",
    "    Parameters:\n",
    "        k (int): The point at which to evaluate the CDF.\n",
    "        mean (float): Mean of the Poisson distribution.\n",
    "    \n",
    "    Returns:\n",
    "        float: The CDF value at the given point 'k'.\n",
    "    \"\"\"\n",
    "    return stats.poisson.cdf(k, mu=mean)\n"
   ]
  },
  {
   "cell_type": "markdown",
   "id": "0792caa7-12d1-434d-a7bd-511dca26852d",
   "metadata": {},
   "source": [
    "Q7. How Binomial distribution different from Poisson distribution?"
   ]
  },
  {
   "cell_type": "markdown",
   "id": "b232d6b6-c799-4cb0-9f7b-4b208ff9b557",
   "metadata": {},
   "source": [
    "A7. Both Binomial and Poisson distributions are used to model discrete random variables, but they have different characteristics and applications:\n",
    "\n",
    "Binomial Distribution:\n",
    "  * Models the number of successes in a fixed number of independent Bernoulli trials.\n",
    "  * The probability of success (p) remains constant in each trial.\n",
    "  * The number of trials (n) is fixed.\n",
    "  * Discrete in nature.\n",
    "  * Appropriate when there are a fixed number of trials and two possible outcomes (success or failure).\n",
    "\n",
    "Poisson Distribution:\n",
    "  * Models the number of events that occur in a fixed interval of time or space.\n",
    "  * Represents rare events occurring in a large number of trials with a low probability of success.\n",
    "  * The average rate of events (λ) is constant over time or space.\n",
    "  * Discrete in nature.\n",
    "  * Appropriate when events occur randomly and independently in a continuous or large set of trials."
   ]
  },
  {
   "cell_type": "markdown",
   "id": "151a8033-db09-447a-a2fa-83d27a943e3b",
   "metadata": {},
   "source": [
    "Q8. Generate a random sample of size 1000 from a Poisson distribution with mean 5 and calculate the\n",
    "sample mean and variance."
   ]
  },
  {
   "cell_type": "code",
   "execution_count": 5,
   "id": "cda31749-aea9-404b-be30-a2c940ae8976",
   "metadata": {},
   "outputs": [
    {
     "name": "stdout",
     "output_type": "stream",
     "text": [
      "Sample Mean: 4.96\n",
      "Sample Variance: 5.014399999999999\n"
     ]
    }
   ],
   "source": [
    "import numpy as np\n",
    "\n",
    "sample_size = 1000\n",
    "mean_poisson = 5\n",
    "random_sample = np.random.poisson(lam=mean_poisson, size=sample_size)\n",
    "\n",
    "sample_mean = np.mean(random_sample)\n",
    "sample_variance = np.var(random_sample)\n",
    "\n",
    "print(\"Sample Mean:\", sample_mean)\n",
    "print(\"Sample Variance:\", sample_variance)\n"
   ]
  },
  {
   "cell_type": "markdown",
   "id": "c68b6eb8-f9b8-43ac-b2fd-d1027b245688",
   "metadata": {},
   "source": [
    "Q9. How mean and variance are related in Binomial distribution and Poisson distribution?"
   ]
  },
  {
   "cell_type": "markdown",
   "id": "df4f272e-69da-42bf-9409-d9931c064270",
   "metadata": {},
   "source": [
    "A9. \n",
    "\n",
    "The mean (μ) is equal to the product of the number of trials (n) and the probability of success (p) for the Binomial distribution, or equal to the average rate of events (λ) for the Poisson distribution.\n",
    "\n",
    "The variance (σ^2) is equal to the product of the number of trials (n), the probability of success (p), and the probability of failure (1-p) for the Binomial distribution, or equal to the average rate of events (λ) for the Poisson distribution.\n",
    "\n",
    "For the Binomial distribution:\n",
    "\n",
    "Mean (μ) = n * p\n",
    "Variance (σ^2) = n * p * (1 - p)\n",
    "For the Poisson distribution:\n",
    "\n",
    "Mean (μ) = λ\n",
    "Variance (σ^2) = λ"
   ]
  },
  {
   "cell_type": "markdown",
   "id": "fbbdb348-d0da-4285-b626-eb9e02cf329c",
   "metadata": {},
   "source": [
    "Q10. In normal distribution with respect to mean position, where does the least frequent data appear?"
   ]
  },
  {
   "cell_type": "markdown",
   "id": "8310545d-57f5-4c2b-8aaf-b353f891c3d3",
   "metadata": {},
   "source": [
    "A10. In a Normal (Gaussian) distribution, the data is symmetrically distributed around the mean. The mean is the central point of the distribution, and the least frequent data points appear farther away from the mean. As we move away from the mean in either direction, the frequency of data points decreases, forming the characteristic bell-shaped curve.\n",
    "\n",
    "Therefore, the least frequent data points appear in the tails of the distribution, which are the regions farthest from the mean."
   ]
  },
  {
   "cell_type": "code",
   "execution_count": null,
   "id": "c51d1a88-7c3a-47b0-acc1-879119ac1f08",
   "metadata": {},
   "outputs": [],
   "source": []
  }
 ],
 "metadata": {
  "kernelspec": {
   "display_name": "Python 3 (ipykernel)",
   "language": "python",
   "name": "python3"
  },
  "language_info": {
   "codemirror_mode": {
    "name": "ipython",
    "version": 3
   },
   "file_extension": ".py",
   "mimetype": "text/x-python",
   "name": "python",
   "nbconvert_exporter": "python",
   "pygments_lexer": "ipython3",
   "version": "3.10.8"
  }
 },
 "nbformat": 4,
 "nbformat_minor": 5
}
