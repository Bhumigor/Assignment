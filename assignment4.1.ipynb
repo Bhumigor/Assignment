{
 "cells": [
  {
   "cell_type": "markdown",
   "id": "6f392140-fd52-4405-8db7-e51f505c8538",
   "metadata": {},
   "source": [
    "###1. Create a vehicle class with an init method having instance variables as name_of_vehicle, max_speed\n",
    "and average_of_vehicle."
   ]
  },
  {
   "cell_type": "code",
   "execution_count": 6,
   "id": "4d52dc6a-b5f1-4237-95cf-5468a548c0c3",
   "metadata": {},
   "outputs": [],
   "source": [
    "class vehicle_class:\n",
    "    def __init__(self,name_of_vehicle,max_speed,average_of_vehicle):\n",
    "        self.name_of_vehicle=name_of_vehicle\n",
    "        self.max_speed=max_speed\n",
    "        self.average_of_vehicle=average_of_vehicle\n",
    "    \n",
    "    def return_vehcle_details (self):\n",
    "        return self.name_of_vehicle,self.max_speed,self.average_of_vehicle\n",
    "   \n",
    "        "
   ]
  },
  {
   "cell_type": "code",
   "execution_count": 7,
   "id": "cb7a7eb0-1b65-4b31-af5e-14d611dc8cdd",
   "metadata": {},
   "outputs": [],
   "source": [
    "vehicle=vehicle_class('swift',180,100)"
   ]
  },
  {
   "cell_type": "code",
   "execution_count": 8,
   "id": "ace1e911-9af2-4079-92da-33407a03adcc",
   "metadata": {},
   "outputs": [
    {
     "data": {
      "text/plain": [
       "('swift', 180, 100)"
      ]
     },
     "execution_count": 8,
     "metadata": {},
     "output_type": "execute_result"
    }
   ],
   "source": [
    "vehicle.return_vehcle_details()"
   ]
  },
  {
   "cell_type": "markdown",
   "id": "3c58e364-2fef-46a2-8b43-5125f827356b",
   "metadata": {},
   "source": [
    "###Q2. Create a child class car from the vehicle class created in Que 1, which will inherit the vehicle class.\n",
    "Create a method named seating_capacity which takes capacity as an argument and returns the name of\n",
    "the vehicle and its seating capacity."
   ]
  },
  {
   "cell_type": "code",
   "execution_count": null,
   "id": "a4fcbe01-848a-440b-9a01-350ed925b0bc",
   "metadata": {},
   "outputs": [],
   "source": [
    "class vehicle_class:\n",
    "    def __init__(self,name_of_vehicle,max_speed,average_of_vehicle):\n",
    "        self.name_of_vehicle=name_of_vehicle\n",
    "        self.max_speed=max_speed\n",
    "        self.average_of_vehicle=average_of_vehicle\n",
    "        \n",
    "class child_class(vehicle_class):\n",
    "    def __init__(self, name_of_vehicle, max_speed, average_of_vehicle):\n",
    "        super().__init__(name_of_vehicle, max_speed, average_of_vehicle)\n",
    "\n",
    "    def seating_capacity(self, capacity):\n",
    "        return f\"The {self.name_of_vehicle} has a seating capacity of {capacity}.\"\n"
   ]
  },
  {
   "cell_type": "code",
   "execution_count": 39,
   "id": "5be7a611-2f73-45f3-9c40-9ada942e7666",
   "metadata": {},
   "outputs": [
    {
     "ename": "NameError",
     "evalue": "name 'swift' is not defined",
     "output_type": "error",
     "traceback": [
      "\u001b[0;31m---------------------------------------------------------------------------\u001b[0m",
      "\u001b[0;31mNameError\u001b[0m                                 Traceback (most recent call last)",
      "Cell \u001b[0;32mIn[39], line 1\u001b[0m\n\u001b[0;32m----> 1\u001b[0m obj_class\u001b[38;5;241m=\u001b[39m\u001b[43mchild_class\u001b[49m\u001b[43m(\u001b[49m\u001b[38;5;241;43m5\u001b[39;49m\u001b[43m)\u001b[49m\n",
      "Cell \u001b[0;32mIn[38], line 3\u001b[0m, in \u001b[0;36mchild_class.__init__\u001b[0;34m(self, capacity)\u001b[0m\n\u001b[1;32m      2\u001b[0m  \u001b[38;5;28;01mdef\u001b[39;00m \u001b[38;5;21m__init__\u001b[39m(\u001b[38;5;28mself\u001b[39m,capacity):\n\u001b[0;32m----> 3\u001b[0m      \u001b[38;5;28mself\u001b[39m\u001b[38;5;241m.\u001b[39mvehicle_name\u001b[38;5;241m=\u001b[39m\u001b[43mswift\u001b[49m\n\u001b[1;32m      4\u001b[0m \u001b[38;5;66;03m# def __init__(self,capacity):\u001b[39;00m\n\u001b[1;32m      5\u001b[0m      \u001b[38;5;28mself\u001b[39m\u001b[38;5;241m.\u001b[39mcapacity\u001b[38;5;241m=\u001b[39mcapacity\n",
      "\u001b[0;31mNameError\u001b[0m: name 'swift' is not defined"
     ]
    }
   ],
   "source": [
    "c=child_class(\"swift\")"
   ]
  },
  {
   "cell_type": "code",
   "execution_count": 37,
   "id": "e420ef64-f253-4435-b31d-91131bcee8f6",
   "metadata": {},
   "outputs": [
    {
     "data": {
      "text/plain": [
       "('Swift', 5)"
      ]
     },
     "execution_count": 37,
     "metadata": {},
     "output_type": "execute_result"
    }
   ],
   "source": [
    "obj_class.return_capacity()"
   ]
  },
  {
   "cell_type": "markdown",
   "id": "d7a2611a-8ae7-476a-80eb-d8e4e078df7b",
   "metadata": {},
   "source": [
    "###Q3. What is multiple inheritance? Write a python code to demonstrate multiple inheritance."
   ]
  },
  {
   "cell_type": "code",
   "execution_count": 1,
   "id": "0cbca0c2-9590-4a04-9417-1805129d132a",
   "metadata": {},
   "outputs": [],
   "source": [
    "#when more than 2 classes are parent class and only is child class is called multiple inheritance"
   ]
  },
  {
   "cell_type": "code",
   "execution_count": 2,
   "id": "c81b1c74-92d5-43f9-af86-4de95789ca0e",
   "metadata": {},
   "outputs": [],
   "source": [
    "class class_10A:\n",
    "    def students_in_10A(self):\n",
    "        print(\"In class 10A nunber of students are 43\")"
   ]
  },
  {
   "cell_type": "code",
   "execution_count": 3,
   "id": "fb9eb460-73e3-40b3-9750-e8a47bac580c",
   "metadata": {},
   "outputs": [],
   "source": [
    "class class_10B:\n",
    "    def students_in_10B(self):\n",
    "        print(\"In class 10B number of students are 33\")"
   ]
  },
  {
   "cell_type": "code",
   "execution_count": 4,
   "id": "d6162c93-e926-4acf-9fd8-6220d8c0f187",
   "metadata": {},
   "outputs": [],
   "source": [
    "class class_10C:\n",
    "    def students_in_10C(self):\n",
    "        print(\"In class 10C number of students are 38\")"
   ]
  },
  {
   "cell_type": "code",
   "execution_count": 5,
   "id": "cd24b915-2bc5-4297-98e8-b7732592abb0",
   "metadata": {},
   "outputs": [],
   "source": [
    "class class_10(class_10A,class_10B,class_10C):\n",
    "    pass"
   ]
  },
  {
   "cell_type": "code",
   "execution_count": 6,
   "id": "19366f87-0851-4400-a767-9b5d573c0c7f",
   "metadata": {},
   "outputs": [],
   "source": [
    "obj_class_10=class_10()"
   ]
  },
  {
   "cell_type": "code",
   "execution_count": 8,
   "id": "2b7bdd03-9225-4f75-a4d8-9b446779c7ba",
   "metadata": {},
   "outputs": [
    {
     "name": "stdout",
     "output_type": "stream",
     "text": [
      "In class 10A nunber of students are 43\n"
     ]
    }
   ],
   "source": [
    "obj_class_10.students_in_10A()"
   ]
  },
  {
   "cell_type": "code",
   "execution_count": 9,
   "id": "6c2dfd66-e3da-4bea-8d21-9500da53cad4",
   "metadata": {},
   "outputs": [
    {
     "name": "stdout",
     "output_type": "stream",
     "text": [
      "In class 10B number of students are 33\n"
     ]
    }
   ],
   "source": [
    "obj_class_10.students_in_10B()"
   ]
  },
  {
   "cell_type": "code",
   "execution_count": 10,
   "id": "e1a67c43-2455-42f9-9d1f-6a235aebbfca",
   "metadata": {},
   "outputs": [
    {
     "name": "stdout",
     "output_type": "stream",
     "text": [
      "In class 10C number of students are 38\n"
     ]
    }
   ],
   "source": [
    "obj_class_10.students_in_10C()"
   ]
  },
  {
   "cell_type": "markdown",
   "id": "6904a9ec-16d9-4b96-aaaf-a8212a48d2db",
   "metadata": {},
   "source": [
    "###Q4. What are getter and setter in python? Create a class and create a getter and a setter method in this\n",
    "class."
   ]
  },
  {
   "cell_type": "code",
   "execution_count": 11,
   "id": "061a7eb4-6604-435f-8ff8-bdbf3ad409aa",
   "metadata": {},
   "outputs": [],
   "source": [
    "#setter is when we set the value of class function and after that we use getter to get that value"
   ]
  },
  {
   "cell_type": "code",
   "execution_count": 12,
   "id": "80756543-c34e-48ed-bcdd-f20218da9e84",
   "metadata": {},
   "outputs": [],
   "source": [
    "class bike:\n",
    "    def set_avg(self,avg):\n",
    "        self.avg=0 if avg<=0 else avg\n",
    "    def get_avg(self):\n",
    "        return self.avg"
   ]
  },
  {
   "cell_type": "code",
   "execution_count": 15,
   "id": "046609b4-470d-4375-984f-0632c2f6fe47",
   "metadata": {},
   "outputs": [],
   "source": [
    "obj_class=bike()"
   ]
  },
  {
   "cell_type": "code",
   "execution_count": 16,
   "id": "6e2e87f8-a363-4768-bc88-fd8bebf13573",
   "metadata": {},
   "outputs": [],
   "source": [
    "obj_class.set_avg(45)"
   ]
  },
  {
   "cell_type": "code",
   "execution_count": 18,
   "id": "11e63102-60a2-46e1-ae35-f712a321e030",
   "metadata": {},
   "outputs": [
    {
     "data": {
      "text/plain": [
       "45"
      ]
     },
     "execution_count": 18,
     "metadata": {},
     "output_type": "execute_result"
    }
   ],
   "source": [
    "obj_class.get_avg()"
   ]
  },
  {
   "cell_type": "markdown",
   "id": "3c43c2d0-6afe-4ebc-baa3-0d2fef7c79e0",
   "metadata": {},
   "source": [
    "###Q5.What is method overriding in python? Write a python code to demonstrate method overriding."
   ]
  },
  {
   "cell_type": "code",
   "execution_count": 19,
   "id": "a20bb718-82f0-485f-bc01-55e26f7fb254",
   "metadata": {},
   "outputs": [],
   "source": [
    "#when child class gives it own implementation which is also define in parent class"
   ]
  },
  {
   "cell_type": "code",
   "execution_count": 21,
   "id": "7c51c5e5-954d-47eb-ae91-8ec0f61b6661",
   "metadata": {},
   "outputs": [],
   "source": [
    "class Animal:\n",
    "    def make_sound(self):\n",
    "        print(\"Generic animal sound\")"
   ]
  },
  {
   "cell_type": "code",
   "execution_count": 22,
   "id": "5ae6ec1c-4986-485a-9a16-ff561a411788",
   "metadata": {},
   "outputs": [],
   "source": [
    "class Cat(Animal):\n",
    "    def make_sound(self):\n",
    "        print(\"Meow\")"
   ]
  },
  {
   "cell_type": "code",
   "execution_count": 23,
   "id": "506d0e6c-3e3b-4d29-b482-acaf7d55cff8",
   "metadata": {},
   "outputs": [],
   "source": [
    "class Dog(Animal):\n",
    "    def make_sound(self):\n",
    "        print(\"Woof\") "
   ]
  },
  {
   "cell_type": "code",
   "execution_count": 24,
   "id": "73af284a-3372-44a6-93b5-ab37ac9965d6",
   "metadata": {},
   "outputs": [],
   "source": [
    "animal = Animal()"
   ]
  },
  {
   "cell_type": "code",
   "execution_count": 25,
   "id": "cd63369c-24c6-4824-bee6-d1c619f1ece3",
   "metadata": {},
   "outputs": [],
   "source": [
    "cat = Cat()"
   ]
  },
  {
   "cell_type": "code",
   "execution_count": 26,
   "id": "d71cee20-8861-4b49-86b8-e087c1222da9",
   "metadata": {},
   "outputs": [],
   "source": [
    "dog = Dog()"
   ]
  },
  {
   "cell_type": "code",
   "execution_count": 27,
   "id": "b6d86cd8-7e3b-4d17-841d-fb1d8a1377c5",
   "metadata": {},
   "outputs": [
    {
     "name": "stdout",
     "output_type": "stream",
     "text": [
      "Generic animal sound\n",
      "Meow\n",
      "Woof\n"
     ]
    }
   ],
   "source": [
    "animal.make_sound()  \n",
    "cat.make_sound()  \n",
    "dog.make_sound() "
   ]
  },
  {
   "cell_type": "code",
   "execution_count": null,
   "id": "b1c9317c-a77d-4862-ace7-1dc4ac9cd858",
   "metadata": {},
   "outputs": [],
   "source": []
  }
 ],
 "metadata": {
  "kernelspec": {
   "display_name": "Python 3 (ipykernel)",
   "language": "python",
   "name": "python3"
  },
  "language_info": {
   "codemirror_mode": {
    "name": "ipython",
    "version": 3
   },
   "file_extension": ".py",
   "mimetype": "text/x-python",
   "name": "python",
   "nbconvert_exporter": "python",
   "pygments_lexer": "ipython3",
   "version": "3.10.8"
  }
 },
 "nbformat": 4,
 "nbformat_minor": 5
}
