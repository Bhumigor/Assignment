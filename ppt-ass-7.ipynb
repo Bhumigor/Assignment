{
 "cells": [
  {
   "cell_type": "markdown",
   "id": "b96990d0-3d30-4298-812b-ad5db5c14fc4",
   "metadata": {},
   "source": [
    "Question 1\n",
    "\n",
    "Given two strings s and t, *determine if they are isomorphic*.\n",
    "\n",
    "Two strings s and t are isomorphic if the characters in s can be replaced to get t.\n",
    "\n",
    "All occurrences of a character must be replaced with another character while preserving the order of characters. No two characters may map to the same character, but a character may map to itself.\n"
   ]
  },
  {
   "cell_type": "code",
   "execution_count": 1,
   "id": "72f0ba9b-4acf-405f-af93-acdff6cee0d5",
   "metadata": {},
   "outputs": [],
   "source": [
    "def is_isomorphic(s, t):\n",
    "    if len(s) != len(t):\n",
    "        return False\n",
    "\n",
    "    mapping_s_t = {}\n",
    "    mapping_t_s = {}\n",
    "\n",
    "    for char_s, char_t in zip(s, t):\n",
    "        if char_s in mapping_s_t:\n",
    "            if mapping_s_t[char_s] != char_t:\n",
    "                return False\n",
    "        else:\n",
    "            mapping_s_t[char_s] = char_t\n",
    "\n",
    "        if char_t in mapping_t_s:\n",
    "            if mapping_t_s[char_t] != char_s:\n",
    "                return False\n",
    "        else:\n",
    "            mapping_t_s[char_t] = char_s\n",
    "\n",
    "    return True\n"
   ]
  },
  {
   "cell_type": "code",
   "execution_count": 2,
   "id": "1b466452-0721-4234-8a77-a0cf7da4273d",
   "metadata": {},
   "outputs": [
    {
     "name": "stdout",
     "output_type": "stream",
     "text": [
      "True\n"
     ]
    }
   ],
   "source": [
    "s = \"egg\"\n",
    "t = \"add\"\n",
    "print(is_isomorphic(s, t))  "
   ]
  },
  {
   "cell_type": "markdown",
   "id": "afe254a6-35b2-40c7-9aa9-70ac4538bc50",
   "metadata": {},
   "source": [
    "Question 2\n",
    "\n",
    "Given a string num which represents an integer, return true *if* num *is a **strobogrammatic number***.\n",
    "\n",
    "A **strobogrammatic number** is a number that looks the same when rotated 180 degrees (looked at upside down).\n"
   ]
  },
  {
   "cell_type": "code",
   "execution_count": 3,
   "id": "1f5b9ab4-090e-4cc0-97c5-29e8b9ae79dd",
   "metadata": {},
   "outputs": [],
   "source": [
    "def is_strobogrammatic(num):\n",
    "    mapping = {'0': '0', '1': '1', '6': '9', '8': '8', '9': '6'}\n",
    "    rotated_num = ''\n",
    "\n",
    "    for digit in reversed(num):\n",
    "        if digit not in mapping:\n",
    "            return False\n",
    "        rotated_num += mapping[digit]\n",
    "\n",
    "    return rotated_num == num\n"
   ]
  },
  {
   "cell_type": "code",
   "execution_count": 4,
   "id": "21e4556b-154e-491f-8bdd-cbcbcca0b935",
   "metadata": {},
   "outputs": [
    {
     "name": "stdout",
     "output_type": "stream",
     "text": [
      "True\n"
     ]
    }
   ],
   "source": [
    "num = \"69\"\n",
    "print(is_strobogrammatic(num)) "
   ]
  },
  {
   "cell_type": "markdown",
   "id": "70779d54-f142-48fc-b78d-3011d10e6bc1",
   "metadata": {},
   "source": [
    "Question 3\n",
    "\n",
    "Given two non-negative integers, num1 and num2 represented as string, return *the sum of* num1 *and* num2 *as a string*.\n",
    "\n",
    "You must solve the problem without using any built-in library for handling large integers (such as BigInteger). You must also not convert the inputs to integers directly.\n"
   ]
  },
  {
   "cell_type": "code",
   "execution_count": 5,
   "id": "f6fb4886-5af5-40d4-8cdf-9544c17dcd79",
   "metadata": {},
   "outputs": [],
   "source": [
    "def add_strings(num1, num2):\n",
    "    i, j = len(num1) - 1, len(num2) - 1\n",
    "    carry = 0\n",
    "    result = ''\n",
    "\n",
    "    while i >= 0 or j >= 0 or carry > 0:\n",
    "        digit1 = int(num1[i]) if i >= 0 else 0\n",
    "        digit2 = int(num2[j]) if j >= 0 else 0\n",
    "\n",
    "        carry, remainder = divmod(digit1 + digit2 + carry, 10)\n",
    "        result = str(remainder) + result\n",
    "\n",
    "        i -= 1\n",
    "        j -= 1\n",
    "\n",
    "    return result\n"
   ]
  },
  {
   "cell_type": "code",
   "execution_count": 6,
   "id": "3a74cafd-c4f4-459e-87be-6a4737545a14",
   "metadata": {},
   "outputs": [
    {
     "name": "stdout",
     "output_type": "stream",
     "text": [
      "134\n"
     ]
    }
   ],
   "source": [
    "num1 = \"11\"\n",
    "num2 = \"123\"\n",
    "print(add_strings(num1, num2))  \n"
   ]
  },
  {
   "cell_type": "markdown",
   "id": "b57337af-0057-4da5-90b1-026d9f534132",
   "metadata": {},
   "source": [
    "Question 4\n",
    "\n",
    "Given a string s, reverse the order of characters in each word within a sentence while still preserving whitespace and initial word order.\n"
   ]
  },
  {
   "cell_type": "code",
   "execution_count": 7,
   "id": "54523a44-beec-4165-9ecf-63058675870f",
   "metadata": {},
   "outputs": [],
   "source": [
    "def reverse_words(s):\n",
    "    words = s.split()\n",
    "    reversed_words = [word[::-1] for word in words]\n",
    "    return ' '.join(reversed_words)\n"
   ]
  },
  {
   "cell_type": "code",
   "execution_count": 8,
   "id": "66f49ece-011f-457d-b511-a21959351adb",
   "metadata": {},
   "outputs": [
    {
     "name": "stdout",
     "output_type": "stream",
     "text": [
      "s'teL ekat edoCteeL tsetnoc\n"
     ]
    }
   ],
   "source": [
    "s = \"Let's take LeetCode contest\"\n",
    "print(reverse_words(s))  "
   ]
  },
  {
   "cell_type": "markdown",
   "id": "32d3d8c3-3eae-49a5-b0f1-1feac4cd74d5",
   "metadata": {},
   "source": [
    "Question 5\n",
    "\n",
    "Given a string s and an integer k, reverse the first k characters for every 2k characters counting from the start of the string.\n",
    "\n",
    "If there are fewer than k characters left, reverse all of them. If there are less than 2k but greater than or equal to k characters, then reverse the first k characters and leave the other as original.\n"
   ]
  },
  {
   "cell_type": "code",
   "execution_count": 9,
   "id": "b1806fec-bf99-4ae2-a3b7-51b6436f26dc",
   "metadata": {},
   "outputs": [],
   "source": [
    "def reverse_string(s, k):\n",
    "    chars = list(s)\n",
    "    for i in range(0, len(chars), 2*k):\n",
    "        chars[i:i+k] = chars[i:i+k][::-1]\n",
    "    return ''.join(chars)\n"
   ]
  },
  {
   "cell_type": "code",
   "execution_count": 10,
   "id": "c83560cc-5c61-41f3-8d63-e0f7a251e5c8",
   "metadata": {},
   "outputs": [
    {
     "name": "stdout",
     "output_type": "stream",
     "text": [
      "bacdfeg\n"
     ]
    }
   ],
   "source": [
    "s = \"abcdefg\"\n",
    "k = 2\n",
    "print(reverse_string(s, k)) "
   ]
  },
  {
   "cell_type": "markdown",
   "id": "8c81c174-d932-41b0-976c-3555ab9d06e9",
   "metadata": {},
   "source": [
    "Question 6\n",
    "\n",
    "Given two strings s and goal, return true *if and only if* s *can become* goal *after some number of **shifts** on* s.\n",
    "\n",
    "A **shift** on s consists of moving the leftmost character of s to the rightmost position.\n",
    "\n"
   ]
  },
  {
   "cell_type": "code",
   "execution_count": 11,
   "id": "17730c2a-4761-4b89-81e4-bd00d98b64d1",
   "metadata": {},
   "outputs": [],
   "source": [
    "def can_shift(s, goal):\n",
    "    if len(s) != len(goal):\n",
    "        return False\n",
    "    return goal in s + s\n"
   ]
  },
  {
   "cell_type": "code",
   "execution_count": 12,
   "id": "a4087eb1-fe76-4a71-9f89-6fea3dc1768d",
   "metadata": {},
   "outputs": [
    {
     "name": "stdout",
     "output_type": "stream",
     "text": [
      "True\n"
     ]
    }
   ],
   "source": [
    "s = \"abcde\"\n",
    "goal = \"cdeab\"\n",
    "print(can_shift(s, goal)) \n"
   ]
  },
  {
   "cell_type": "markdown",
   "id": "6241cf02-a952-4e59-9278-99bb904d9038",
   "metadata": {},
   "source": [
    "Question 7\n",
    "\n",
    "Given two strings s and t, return true *if they are equal when both are typed into empty text editors*. '#' means a backspace character.\n",
    "\n",
    "Note that after backspacing an empty text, the text will continue empty.\n"
   ]
  },
  {
   "cell_type": "code",
   "execution_count": 13,
   "id": "15ee1bfb-aecb-409b-9f70-10a62652711f",
   "metadata": {},
   "outputs": [],
   "source": [
    "def is_equal_with_backspace(s, t):\n",
    "    def process_string(string):\n",
    "        stack = []\n",
    "        for char in string:\n",
    "            if char != '#':\n",
    "                stack.append(char)\n",
    "            elif stack:\n",
    "                stack.pop()\n",
    "        return stack\n",
    "    \n",
    "    processed_s = process_string(s)\n",
    "    processed_t = process_string(t)\n",
    "    \n",
    "    return processed_s == processed_t\n"
   ]
  },
  {
   "cell_type": "code",
   "execution_count": 14,
   "id": "98c1fe98-feac-4040-99ed-8c7de7bf1e5c",
   "metadata": {},
   "outputs": [
    {
     "name": "stdout",
     "output_type": "stream",
     "text": [
      "True\n"
     ]
    }
   ],
   "source": [
    "s = \"ab#c\"\n",
    "t = \"ad#c\"\n",
    "print(is_equal_with_backspace(s, t)) "
   ]
  },
  {
   "cell_type": "markdown",
   "id": "f1e5c041-db6d-4333-946d-a908f46c2275",
   "metadata": {},
   "source": [
    "Question 8\n",
    "\n",
    "You are given an array coordinates, coordinates[i] = [x, y], where [x, y] represents the coordinate of a point. Check if these points make a straight line in the XY plane.\n",
    "\n",
    "</aside>"
   ]
  },
  {
   "cell_type": "code",
   "execution_count": 15,
   "id": "4905525f-171d-4359-a79a-559929bb0207",
   "metadata": {},
   "outputs": [],
   "source": [
    "def check_straight_line(coordinates):\n",
    "    if len(coordinates) <= 2:\n",
    "        return True\n",
    "    \n",
    "    x0, y0 = coordinates[0]\n",
    "    x1, y1 = coordinates[1]\n",
    "    \n",
    "    for i in range(2, len(coordinates)):\n",
    "        x, y = coordinates[i]\n",
    "        if (y - y0) * (x1 - x0) != (y1 - y0) * (x - x0):\n",
    "            return False\n",
    "    \n",
    "    return True\n"
   ]
  },
  {
   "cell_type": "code",
   "execution_count": 16,
   "id": "f58f4b14-b22d-43d0-91fd-ae67c1cea0d2",
   "metadata": {},
   "outputs": [
    {
     "name": "stdout",
     "output_type": "stream",
     "text": [
      "True\n"
     ]
    }
   ],
   "source": [
    "coordinates = [[1,2],[2,3],[3,4],[4,5],[5,6],[6,7]]\n",
    "print(check_straight_line(coordinates))  \n"
   ]
  },
  {
   "cell_type": "code",
   "execution_count": null,
   "id": "5996ab16-876f-4384-b209-5eada463a3ec",
   "metadata": {},
   "outputs": [],
   "source": []
  }
 ],
 "metadata": {
  "kernelspec": {
   "display_name": "Python 3 (ipykernel)",
   "language": "python",
   "name": "python3"
  },
  "language_info": {
   "codemirror_mode": {
    "name": "ipython",
    "version": 3
   },
   "file_extension": ".py",
   "mimetype": "text/x-python",
   "name": "python",
   "nbconvert_exporter": "python",
   "pygments_lexer": "ipython3",
   "version": "3.10.8"
  }
 },
 "nbformat": 4,
 "nbformat_minor": 5
}
