{
 "cells": [
  {
   "cell_type": "markdown",
   "id": "2259b63f-c38b-4741-b113-926ff0c7bf23",
   "metadata": {},
   "source": [
    "Question 1\n",
    "\n",
    "Given two strings s1 and s2, return *the lowest **ASCII** sum of deleted characters to make two strings equal*.\n"
   ]
  },
  {
   "cell_type": "code",
   "execution_count": 1,
   "id": "b77af029-a6e4-4df2-aed9-17eb7f828621",
   "metadata": {},
   "outputs": [],
   "source": [
    "def minimum_ascii_delete_sum(s1, s2):\n",
    "    m, n = len(s1), len(s2)\n",
    "    \n",
    "    dp = [[0] * (n+1) for _ in range(m+1)]\n",
    "    \n",
    "    for i in range(1, m+1):\n",
    "        for j in range(1, n+1):\n",
    "            if s1[i-1] == s2[j-1]:\n",
    "                dp[i][j] = dp[i-1][j-1] + ord(s1[i-1])\n",
    "            else:\n",
    "                dp[i][j] = max(dp[i-1][j], dp[i][j-1])\n",
    "    \n",
    "    total_sum = sum(ord(ch) for ch in s1) + sum(ord(ch) for ch in s2)\n",
    "    \n",
    "    return total_sum - 2 * dp[m][n]\n"
   ]
  },
  {
   "cell_type": "code",
   "execution_count": 2,
   "id": "0f4c7fd0-c3d5-48b9-aea3-ada974db049c",
   "metadata": {},
   "outputs": [
    {
     "name": "stdout",
     "output_type": "stream",
     "text": [
      "231\n"
     ]
    }
   ],
   "source": [
    "s1 = \"sea\"\n",
    "s2 = \"eat\"\n",
    "result = minimum_ascii_delete_sum(s1, s2)\n",
    "print(result) "
   ]
  },
  {
   "cell_type": "markdown",
   "id": "4530eb21-9cbf-4eb1-82a6-40f7b65e4a19",
   "metadata": {},
   "source": [
    "Question 2\n",
    "\n",
    "Given a string s containing only three types of characters: '(', ')' and '*', return true *if* s *is **valid***.\n",
    "\n",
    "The following rules define a **valid** string:\n",
    "\n",
    "- Any left parenthesis '(' must have a corresponding right parenthesis ')'.\n",
    "- Any right parenthesis ')' must have a corresponding left parenthesis '('.\n",
    "- Left parenthesis '(' must go before the corresponding right parenthesis ')'.\n",
    "- '*' could be treated as a single right parenthesis ')' or a single left parenthesis '(' or an empty string \"\".\n"
   ]
  },
  {
   "cell_type": "code",
   "execution_count": 3,
   "id": "e525c716-7cbe-427e-8918-f718fa61a7e2",
   "metadata": {},
   "outputs": [],
   "source": [
    "def check_valid_string(s):\n",
    "    stack = []\n",
    "    star_stack = []\n",
    "\n",
    "    for i, ch in enumerate(s):\n",
    "        if ch == '(':\n",
    "            stack.append(i)\n",
    "        elif ch == '*':\n",
    "            star_stack.append(i)\n",
    "        else:\n",
    "            if stack:\n",
    "                stack.pop()\n",
    "            elif star_stack:\n",
    "                star_stack.pop()\n",
    "            else:\n",
    "                return False\n",
    "\n",
    "    while stack and star_stack:\n",
    "        if stack[-1] > star_stack[-1]:\n",
    "            return False\n",
    "        stack.pop()\n",
    "        star_stack.pop()\n",
    "\n",
    "    return len(stack) == 0\n"
   ]
  },
  {
   "cell_type": "code",
   "execution_count": 4,
   "id": "88199ea1-4648-4721-ba08-cefc7a1c1161",
   "metadata": {},
   "outputs": [
    {
     "name": "stdout",
     "output_type": "stream",
     "text": [
      "True\n"
     ]
    }
   ],
   "source": [
    "s = \"()\"\n",
    "result = check_valid_string(s)\n",
    "print(result)  "
   ]
  },
  {
   "cell_type": "markdown",
   "id": "8fc16a4f-fc86-488b-884f-4c83c47529b9",
   "metadata": {},
   "source": [
    "Question 3\n",
    "\n",
    "Given two strings word1 and word2, return *the minimum number of **steps** required to make* word1 *and* word2 *the same*.\n",
    "\n",
    "In one **step**, you can delete exactly one character in either string.\n"
   ]
  },
  {
   "cell_type": "code",
   "execution_count": 5,
   "id": "9674e5db-11d8-40a5-8408-640ed1bde42a",
   "metadata": {},
   "outputs": [],
   "source": [
    "def min_steps_to_same(word1, word2):\n",
    "    m, n = len(word1), len(word2)\n",
    "    dp = [[0] * (n + 1) for _ in range(m + 1)]\n",
    "\n",
    "    for i in range(1, m + 1):\n",
    "        for j in range(1, n + 1):\n",
    "            if word1[i - 1] == word2[j - 1]:\n",
    "                dp[i][j] = dp[i - 1][j - 1] + 1\n",
    "            else:\n",
    "                dp[i][j] = max(dp[i - 1][j], dp[i][j - 1])\n",
    "\n",
    "    lcs_length = dp[m][n]\n",
    "    min_steps = m + n - 2 * lcs_length\n",
    "    return min_steps\n"
   ]
  },
  {
   "cell_type": "code",
   "execution_count": 6,
   "id": "ffb9e249-0a4b-45a6-87e4-730f3c883c24",
   "metadata": {},
   "outputs": [
    {
     "name": "stdout",
     "output_type": "stream",
     "text": [
      "2\n"
     ]
    }
   ],
   "source": [
    "word1 = \"sea\"\n",
    "word2 = \"eat\"\n",
    "result = min_steps_to_same(word1, word2)\n",
    "print(result)  \n"
   ]
  },
  {
   "cell_type": "markdown",
   "id": "ca74f47d-6c3f-4096-a670-a36460730012",
   "metadata": {},
   "source": [
    "Question 4\n",
    "\n",
    "You need to construct a binary tree from a string consisting of parenthesis and integers.\n",
    "\n",
    "The whole input represents a binary tree. It contains an integer followed by zero, one or two pairs of parenthesis. The integer represents the root's value and a pair of parenthesis contains a child binary tree with the same structure.\n",
    "You always start to construct the **left** child node of the parent first if it exists.\n",
    "\n",
    "</aside>"
   ]
  },
  {
   "cell_type": "code",
   "execution_count": 7,
   "id": "c08dc119-9b52-4b31-bae9-2b79f5ac6746",
   "metadata": {},
   "outputs": [],
   "source": [
    "class TreeNode:\n",
    "    def __init__(self, val=0, left=None, right=None):\n",
    "        self.val = val\n",
    "        self.left = left\n",
    "        self.right = right\n",
    "\n",
    "\n",
    "def construct_tree_from_string(s):\n",
    "    if not s:\n",
    "        return None\n",
    "    \n",
    "    i = 0\n",
    "    while i < len(s) and s[i] != '(':\n",
    "        i += 1\n",
    "\n",
    "    val = int(s[:i])\n",
    "    node = TreeNode(val)\n",
    "\n",
    "    if i < len(s):\n",
    "        count = 0\n",
    "        j = i\n",
    "        while j < len(s):\n",
    "            if s[j] == '(':\n",
    "                count += 1\n",
    "            elif s[j] == ')':\n",
    "                count -= 1\n",
    "\n",
    "            if count == 0:\n",
    "                break\n",
    "            j += 1\n",
    "\n",
    "        node.left = construct_tree_from_string(s[i+1:j])\n",
    "\n",
    "        if j+1 < len(s):\n",
    "            node.right = construct_tree_from_string(s[j+2:-1])\n",
    "\n",
    "    return node\n"
   ]
  },
  {
   "cell_type": "code",
   "execution_count": 11,
   "id": "5b5bad4e-f1b8-47b5-a526-b988380d6951",
   "metadata": {},
   "outputs": [],
   "source": [
    "s = \"4(2(3)(1))(6(5))\"\n",
    "root = construct_tree_from_string(s)\n"
   ]
  },
  {
   "cell_type": "markdown",
   "id": "f740ed04-9611-4ad8-a50b-43919be7cc45",
   "metadata": {},
   "source": [
    "Question 5\n",
    "\n",
    "Given an array of characters chars, compress it using the following algorithm:\n",
    "\n",
    "Begin with an empty string s. For each group of **consecutive repeating characters** in chars:\n",
    "\n",
    "- If the group's length is 1, append the character to s.\n",
    "- Otherwise, append the character followed by the group's length.\n",
    "\n",
    "The compressed string s **should not be returned separately**, but instead, be stored **in the input character array chars**. Note that group lengths that are 10 or longer will be split into multiple characters in chars.\n",
    "\n",
    "After you are done **modifying the input array,** return *the new length of the array*.\n",
    "\n",
    "You must write an algorithm that uses only constant extra space.\n",
    "\n"
   ]
  },
  {
   "cell_type": "code",
   "execution_count": 12,
   "id": "3d8f3c8b-0c66-4c13-8f29-67a5d9fb5282",
   "metadata": {},
   "outputs": [],
   "source": [
    "def compress(chars):\n",
    "    n = len(chars)  \n",
    "    write_idx = 0  \n",
    "    count = 1  \n",
    "\n",
    "    for i in range(1, n):\n",
    "        \n",
    "        if chars[i] == chars[i-1]:\n",
    "            count += 1\n",
    "        else:\n",
    "           \n",
    "            chars[write_idx] = chars[i-1]\n",
    "            write_idx += 1\n",
    "\n",
    "            if count > 1:\n",
    "                count_str = str(count)\n",
    "                for digit in count_str:\n",
    "                    chars[write_idx] = digit\n",
    "                    write_idx += 1\n",
    "\n",
    "            count = 1 \n",
    "            \n",
    "    chars[write_idx] = chars[n-1]\n",
    "    write_idx += 1\n",
    "    if count > 1:\n",
    "        count_str = str(count)\n",
    "        for digit in count_str:\n",
    "            chars[write_idx] = digit\n",
    "            write_idx += 1\n",
    "\n",
    "    return write_idx\n"
   ]
  },
  {
   "cell_type": "code",
   "execution_count": 13,
   "id": "8980f450-eb5b-4a45-8d4b-b576d3857ce5",
   "metadata": {},
   "outputs": [
    {
     "name": "stdout",
     "output_type": "stream",
     "text": [
      "['a', '2', 'b', '2', 'c', '3']\n"
     ]
    }
   ],
   "source": [
    "chars = [\"a\",\"a\",\"b\",\"b\",\"c\",\"c\",\"c\"]\n",
    "new_length = compress(chars)\n",
    "compressed_chars = chars[:new_length]\n",
    "print(compressed_chars)\n"
   ]
  },
  {
   "cell_type": "markdown",
   "id": "dc2d5f6b-2c4c-4b56-90f6-edc4b9478c24",
   "metadata": {},
   "source": [
    "Question 6\n",
    "\n",
    "Given two strings s and p, return *an array of all the start indices of* p*'s anagrams in* s. You may return the answer in **any order**.\n",
    "\n",
    "An **Anagram** is a word or phrase formed by rearranging the letters of a different word or phrase, typically using all the original letters exactly once.\n"
   ]
  },
  {
   "cell_type": "code",
   "execution_count": 14,
   "id": "4840ba04-3134-42b1-ae0b-95807c5fda43",
   "metadata": {},
   "outputs": [],
   "source": [
    "from collections import Counter\n",
    "\n",
    "def find_anagrams(s, p):\n",
    "    result = []\n",
    "    len_s = len(s)\n",
    "    len_p = len(p)\n",
    "\n",
    "    if len_s < len_p:\n",
    "        return result\n",
    "\n",
    "    p_counter = Counter(p)\n",
    "    window_counter = Counter()\n",
    "\n",
    "    for i in range(len_p):\n",
    "        window_counter[s[i]] += 1\n",
    "\n",
    "    for i in range(len_s - len_p + 1):\n",
    "        \n",
    "        if window_counter == p_counter:\n",
    "            result.append(i)\n",
    "\n",
    "        left_char = s[i]\n",
    "        window_counter[left_char] -= 1\n",
    "        if window_counter[left_char] == 0:\n",
    "            del window_counter[left_char]\n",
    "        if i + len_p < len_s:\n",
    "            window_counter[s[i + len_p]] += 1\n",
    "\n",
    "    return result\n"
   ]
  },
  {
   "cell_type": "code",
   "execution_count": 15,
   "id": "e675caaa-fb32-4a9c-87b8-f888a0a4fc50",
   "metadata": {},
   "outputs": [
    {
     "name": "stdout",
     "output_type": "stream",
     "text": [
      "[0, 6]\n"
     ]
    }
   ],
   "source": [
    "s = \"cbaebabacd\"\n",
    "p = \"abc\"\n",
    "indices = find_anagrams(s, p)\n",
    "print(indices)\n"
   ]
  },
  {
   "cell_type": "markdown",
   "id": "d27ea0bc-2b43-4b42-8271-6b4edb4e87da",
   "metadata": {},
   "source": [
    "Question 7\n",
    "\n",
    "Given an encoded string, return its decoded string.\n",
    "\n",
    "The encoding rule is: k[encoded_string], where the encoded_string inside the square brackets is being repeated exactly k times. Note that k is guaranteed to be a positive integer.\n",
    "\n",
    "You may assume that the input string is always valid; there are no extra white spaces, square brackets are well-formed, etc. Furthermore, you may assume that the original data does not contain any digits and that digits are only for those repeat numbers, k. For example, there will not be input like 3a or 2[4].\n",
    "\n",
    "The test cases are generated so that the length of the output will never exceed 105.\n"
   ]
  },
  {
   "cell_type": "code",
   "execution_count": 16,
   "id": "b159158c-485f-4ebc-818f-f35ca5777b70",
   "metadata": {},
   "outputs": [],
   "source": [
    "def decode_string(s):\n",
    "    stack = []\n",
    "    curr_string = \"\"\n",
    "    curr_num = 0\n",
    "\n",
    "    for char in s:\n",
    "        if char == \"[\":\n",
    "            stack.append(curr_string)\n",
    "            stack.append(curr_num)\n",
    "            curr_string = \"\"\n",
    "            curr_num = 0\n",
    "        elif char == \"]\":\n",
    "            num = stack.pop()\n",
    "            prev_string = stack.pop()\n",
    "            curr_string = prev_string + num * curr_string\n",
    "        elif char.isdigit():\n",
    "            curr_num = curr_num * 10 + int(char)\n",
    "        else:\n",
    "            curr_string += char\n",
    "\n",
    "    return curr_string\n"
   ]
  },
  {
   "cell_type": "code",
   "execution_count": 17,
   "id": "7a78bd43-9a27-460e-96f4-b63466063f4a",
   "metadata": {},
   "outputs": [
    {
     "name": "stdout",
     "output_type": "stream",
     "text": [
      "aaabcbc\n"
     ]
    }
   ],
   "source": [
    "s = \"3[a]2[bc]\"\n",
    "decoded_string = decode_string(s)\n",
    "print(decoded_string)\n"
   ]
  },
  {
   "cell_type": "markdown",
   "id": "d009a9cb-e9cf-41de-a894-000a26de26cc",
   "metadata": {},
   "source": [
    "Question 8\n",
    "\n",
    "Given two strings s and goal, return true *if you can swap two letters in* s *so the result is equal to* goal*, otherwise, return* false*.*\n",
    "\n",
    "Swapping letters is defined as taking two indices i and j (0-indexed) such that i != j and swapping the characters at s[i] and s[j].\n",
    "\n",
    "- For example, swapping at indices 0 and 2 in \"abcd\" results in \"cbad\".\n"
   ]
  },
  {
   "cell_type": "code",
   "execution_count": 18,
   "id": "6a912022-47ec-4f0b-876b-27d02f45c00d",
   "metadata": {},
   "outputs": [],
   "source": [
    "def buddy_strings(s, goal):\n",
    "    if len(s) != len(goal) or set(s) != set(goal):\n",
    "        return False\n",
    "\n",
    "    diff_indices = []\n",
    "    for i in range(len(s)):\n",
    "        if s[i] != goal[i]:\n",
    "            diff_indices.append(i)\n",
    "\n",
    "    if len(diff_indices) != 2:\n",
    "        return False\n",
    "\n",
    "    i, j = diff_indices\n",
    "    if s[i] == goal[j] and s[j] == goal[i]:\n",
    "        return True\n",
    "\n",
    "    return False\n"
   ]
  },
  {
   "cell_type": "code",
   "execution_count": 19,
   "id": "0da9900f-e33c-4f98-be4d-242c0becebf1",
   "metadata": {},
   "outputs": [
    {
     "name": "stdout",
     "output_type": "stream",
     "text": [
      "True\n"
     ]
    }
   ],
   "source": [
    "s = \"ab\"\n",
    "goal = \"ba\"\n",
    "result = buddy_strings(s, goal)\n",
    "print(result)\n"
   ]
  },
  {
   "cell_type": "code",
   "execution_count": null,
   "id": "2d0feea5-8013-4074-82b9-861a0d83b210",
   "metadata": {},
   "outputs": [],
   "source": []
  }
 ],
 "metadata": {
  "kernelspec": {
   "display_name": "Python 3 (ipykernel)",
   "language": "python",
   "name": "python3"
  },
  "language_info": {
   "codemirror_mode": {
    "name": "ipython",
    "version": 3
   },
   "file_extension": ".py",
   "mimetype": "text/x-python",
   "name": "python",
   "nbconvert_exporter": "python",
   "pygments_lexer": "ipython3",
   "version": "3.10.8"
  }
 },
 "nbformat": 4,
 "nbformat_minor": 5
}
