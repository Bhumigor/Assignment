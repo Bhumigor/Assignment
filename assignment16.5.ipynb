{
 "cells": [
  {
   "cell_type": "markdown",
   "id": "b7cbf237-2091-40bc-8ec1-1333b9e35fdc",
   "metadata": {},
   "source": [
    "Q1. In order to predict house price based on several characteristics, such as location, square footage,\n",
    "number of bedrooms, etc., you are developing an SVM regression model. Which regression metric in this\n",
    "situation would be the best to employ?"
   ]
  },
  {
   "cell_type": "markdown",
   "id": "088558e0-71c5-4a41-a58c-48134a6571e7",
   "metadata": {},
   "source": [
    "A1. In the context of SVM regression for predicting house prices, the most appropriate regression metric to employ would be Mean Squared Error (MSE). MSE measures the average squared difference between the predicted house prices and the actual house prices in the dataset. It is commonly used in regression tasks and is sensitive to both the magnitude and direction of errors. Lower MSE values indicate better model performance, as they indicate smaller prediction errors."
   ]
  },
  {
   "cell_type": "markdown",
   "id": "162eacb5-a010-4f68-80c3-d927d0078425",
   "metadata": {},
   "source": [
    "Q2. You have built an SVM regression model and are trying to decide between using MSE or R-squared as\n",
    "your evaluation metric. Which metric would be more appropriate if your goal is to predict the actual price\n",
    "of a house as accurately as possible?"
   ]
  },
  {
   "cell_type": "markdown",
   "id": "c43183b0-65c3-4942-9d22-1449142e2920",
   "metadata": {},
   "source": [
    "A2. If your goal is to predict the actual price of a house as accurately as possible, then MSE (Mean Squared Error) would be the more appropriate evaluation metric. MSE provides a measure of the average squared difference between the predicted and actual house prices. It directly penalizes larger errors and encourages the model to minimize discrepancies between predicted and actual prices.\n",
    "\n",
    "R-squared (Coefficient of Determination) measures the proportion of the variance in the target variable that is explained by the model. While R-squared can provide insights into how well the model explains the variance, it may not be the best choice if the primary focus is on predicting house prices accurately."
   ]
  },
  {
   "cell_type": "markdown",
   "id": "f9fdfde0-c7ed-481c-b86a-f2975fad649b",
   "metadata": {},
   "source": [
    "Q3. You have a dataset with a significant number of outliers and are trying to select an appropriate\n",
    "regression metric to use with your SVM model. Which metric would be the most appropriate in this\n",
    "scenario?"
   ]
  },
  {
   "cell_type": "markdown",
   "id": "469b02b5-8c0d-4ce3-b4f6-1a934fa9052c",
   "metadata": {},
   "source": [
    "A3. When dealing with a dataset that contains a significant number of outliers, the most appropriate regression metric to use is Mean Absolute Error (MAE). MAE measures the average absolute difference between the predicted and actual values. Unlike MSE, which squares the errors and gives more weight to larger errors, MAE is less sensitive to outliers. It provides a robust measure of prediction error that is less influenced by extreme values."
   ]
  },
  {
   "cell_type": "markdown",
   "id": "fbc2041d-4902-4583-b925-f563bce00740",
   "metadata": {},
   "source": [
    "Q4. You have built an SVM regression model using a polynomial kernel and are trying to select the best\n",
    "metric to evaluate its performance. You have calculated both MSE and RMSE and found that both values\n",
    "are very close. Which metric should you choose to use in this case?"
   ]
  },
  {
   "cell_type": "markdown",
   "id": "122ae43e-be93-4d6d-9004-db9614d5047b",
   "metadata": {},
   "source": [
    "A4. In this case, you should choose to use Root Mean Squared Error (RMSE) as the evaluation metric for your SVM regression model with a polynomial kernel. RMSE is essentially the square root of MSE and has the advantage of being in the same unit as the target variable (house prices), making it more interpretable.\n",
    "\n",
    "Since both MSE and RMSE are very close, either metric can be suitable for evaluating the model's performance. However, RMSE is often preferred when the goal is to provide an easily interpretable measure of prediction error in the original unit of the target variable."
   ]
  },
  {
   "cell_type": "markdown",
   "id": "ea4f4077-ad3d-4628-80b2-a0fd8f4a28ae",
   "metadata": {},
   "source": [
    "Q5. You are comparing the performance of different SVM regression models using different kernels (linear, polynomial, and RBF) and are trying to select the best evaluation metric. Which metric would be most appropriate if your goal is to measure how well the model explains the variance in the target variable?"
   ]
  },
  {
   "cell_type": "markdown",
   "id": "3d237784-5295-49bb-8061-22fff8b41ef0",
   "metadata": {},
   "source": [
    "A5. If your goal is to measure how well the model explains the variance in the target variable, the most appropriate evaluation metric is R-squared (Coefficient of Determination). R-squared quantifies the proportion of the variance in the target variable that is explained by the model. It ranges from 0 to 1, where higher values indicate that a larger proportion of the variance is explained.\n",
    "\n",
    "R-squared is particularly useful when comparing models with different kernels because it provides a standardized measure of explanatory power, allowing you to assess how well each model captures the underlying patterns in the data. It helps you understand how much of the variance in the target variable can be attributed to the model's predictions."
   ]
  },
  {
   "cell_type": "code",
   "execution_count": null,
   "id": "4d46c459-1568-4217-9d62-e2a7d569c1cb",
   "metadata": {},
   "outputs": [],
   "source": []
  }
 ],
 "metadata": {
  "kernelspec": {
   "display_name": "Python 3 (ipykernel)",
   "language": "python",
   "name": "python3"
  },
  "language_info": {
   "codemirror_mode": {
    "name": "ipython",
    "version": 3
   },
   "file_extension": ".py",
   "mimetype": "text/x-python",
   "name": "python",
   "nbconvert_exporter": "python",
   "pygments_lexer": "ipython3",
   "version": "3.10.8"
  }
 },
 "nbformat": 4,
 "nbformat_minor": 5
}
