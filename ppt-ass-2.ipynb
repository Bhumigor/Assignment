{
 "cells": [
  {
   "cell_type": "markdown",
   "id": "df471acf-c96e-484b-8317-6c6d40c367fe",
   "metadata": {},
   "source": [
    "Question 1\n",
    "Given an integer array nums of 2n integers, group these integers into n pairs (a1, b1), (a2, b2),..., (an, bn) such that the sum of min(ai, bi) for all i is maximized. Return the maximized sum."
   ]
  },
  {
   "cell_type": "code",
   "execution_count": 1,
   "id": "0db029bf-04f1-435f-86c1-fbd508d07360",
   "metadata": {},
   "outputs": [],
   "source": [
    "def arrayPairSum(nums):\n",
    "    nums.sort()\n",
    "    max_sum = 0\n",
    "\n",
    "    for i in range(0, len(nums), 2):\n",
    "        max_sum += nums[i]\n",
    "\n",
    "    return max_sum\n"
   ]
  },
  {
   "cell_type": "code",
   "execution_count": 2,
   "id": "e13758c8-d053-43e7-b8b9-f04d3443de97",
   "metadata": {},
   "outputs": [
    {
     "name": "stdout",
     "output_type": "stream",
     "text": [
      "Output: 4\n"
     ]
    }
   ],
   "source": [
    "nums = [1, 4, 3, 2]\n",
    "result = arrayPairSum(nums)\n",
    "print(\"Output:\", result)\n"
   ]
  },
  {
   "cell_type": "markdown",
   "id": "f150a3f5-5464-4ee0-a54c-4276d9ba2522",
   "metadata": {},
   "source": [
    "Question 2\n",
    "Alice has n candies, where the ith candy is of type candyType[i]. Alice noticed that she started to gain weight, so she visited a doctor. \n",
    "\n",
    "The doctor advised Alice to only eat n / 2 of the candies she has (n is always even). Alice likes her candies very much, and she wants to eat the maximum number of different types of candies while still following the doctor's advice. \n",
    "\n",
    "Given the integer array candyType of length n, return the maximum number of different types of candies she can eat if she only eats n / 2 of them.\n"
   ]
  },
  {
   "cell_type": "code",
   "execution_count": 3,
   "id": "7097f654-e502-4db8-aeb0-030728704cf0",
   "metadata": {},
   "outputs": [],
   "source": [
    "def distributeCandies(candyType):\n",
    "    unique_candies = set(candyType)\n",
    "    max_candies = len(candyType) // 2\n",
    "\n",
    "    return min(len(unique_candies), max_candies)\n"
   ]
  },
  {
   "cell_type": "code",
   "execution_count": 4,
   "id": "1b6b99d5-cdd6-42b8-bd8d-18bed2a3f7fb",
   "metadata": {},
   "outputs": [
    {
     "name": "stdout",
     "output_type": "stream",
     "text": [
      "Output: 3\n"
     ]
    }
   ],
   "source": [
    "candyType = [1, 1, 2, 2, 3, 3]\n",
    "result = distributeCandies(candyType)\n",
    "print(\"Output:\", result)\n"
   ]
  },
  {
   "cell_type": "markdown",
   "id": "9d2a7682-5755-4b15-8165-2bc91be0c517",
   "metadata": {},
   "source": [
    "Question 3\n",
    "We define a harmonious array as an array where the difference between its maximum value\n",
    "and its minimum value is exactly 1.\n",
    "\n",
    "Given an integer array nums, return the length of its longest harmonious subsequence\n",
    "among all its possible subsequences.\n",
    "\n",
    "A subsequence of an array is a sequence that can be derived from the array by deleting some or no elements without changing the order of the remaining elements.\n"
   ]
  },
  {
   "cell_type": "code",
   "execution_count": 5,
   "id": "6a248527-486c-4b73-b87f-6802ae90e0b1",
   "metadata": {},
   "outputs": [],
   "source": [
    "def findLHS(nums):\n",
    "    frequency = {}\n",
    "    max_length = 0\n",
    "\n",
    "    for num in nums:\n",
    "        frequency[num] = frequency.get(num, 0) + 1\n",
    "\n",
    "    for num in frequency:\n",
    "        if num + 1 in frequency:\n",
    "            length = frequency[num] + frequency[num + 1]\n",
    "            max_length = max(max_length, length)\n",
    "\n",
    "    return max_length\n"
   ]
  },
  {
   "cell_type": "code",
   "execution_count": 6,
   "id": "b150179f-165e-4fcd-99cf-bedffd307492",
   "metadata": {},
   "outputs": [
    {
     "name": "stdout",
     "output_type": "stream",
     "text": [
      "Output: 5\n"
     ]
    }
   ],
   "source": [
    "nums = [1, 3, 2, 2, 5, 2, 3, 7]\n",
    "result = findLHS(nums)\n",
    "print(\"Output:\", result)\n"
   ]
  },
  {
   "cell_type": "markdown",
   "id": "b683da06-1f6d-44a5-8767-3d478553d2d7",
   "metadata": {},
   "source": [
    "Question 4\n",
    "You have a long flowerbed in which some of the plots are planted, and some are not.\n",
    "However, flowers cannot be planted in adjacent plots.\n",
    "Given an integer array flowerbed containing 0's and 1's, where 0 means empty and 1 means not empty, and an integer n, return true if n new flowers can be planted in the flowerbed without violating the no-adjacent-flowers rule and false otherwise.\n"
   ]
  },
  {
   "cell_type": "code",
   "execution_count": 7,
   "id": "e1cd01c1-3eef-46ae-bda5-802c12c4fae1",
   "metadata": {},
   "outputs": [],
   "source": [
    "def canPlaceFlowers(flowerbed, n):\n",
    "    count = 0\n",
    "    length = len(flowerbed)\n",
    "    i = 0\n",
    "\n",
    "    while i < length:\n",
    "        if (\n",
    "            flowerbed[i] == 0 and\n",
    "            (i == 0 or flowerbed[i - 1] == 0) and\n",
    "            (i == length - 1 or flowerbed[i + 1] == 0)\n",
    "        ):\n",
    "            count += 1\n",
    "            flowerbed[i] = 1\n",
    "            i += 1\n",
    "        i += 1\n",
    "\n",
    "    return count >= n\n"
   ]
  },
  {
   "cell_type": "code",
   "execution_count": 8,
   "id": "06a71b90-7f5a-406a-ab62-9993f6d8835c",
   "metadata": {},
   "outputs": [
    {
     "name": "stdout",
     "output_type": "stream",
     "text": [
      "Output: True\n"
     ]
    }
   ],
   "source": [
    "flowerbed = [1, 0, 0, 0, 1]\n",
    "n = 1\n",
    "result = canPlaceFlowers(flowerbed, n)\n",
    "print(\"Output:\", result)\n"
   ]
  },
  {
   "cell_type": "markdown",
   "id": "8313317f-fd95-4bda-9f6a-e664fe7b17fe",
   "metadata": {},
   "source": [
    "Question 5\n",
    "Given an integer array nums, find three numbers whose product is maximum and return the maximum product."
   ]
  },
  {
   "cell_type": "code",
   "execution_count": 9,
   "id": "e17bd306-b962-4974-88ef-e9107589da61",
   "metadata": {},
   "outputs": [],
   "source": [
    "def maximumProduct(nums):\n",
    "    nums.sort()\n",
    "    product1 = nums[-1] * nums[-2] * nums[-3]\n",
    "    product2 = nums[0] * nums[1] * nums[-1]\n",
    "    return max(product1, product2)\n"
   ]
  },
  {
   "cell_type": "code",
   "execution_count": 10,
   "id": "f60be992-34fb-4dab-af2a-3fa15c8729c4",
   "metadata": {},
   "outputs": [
    {
     "name": "stdout",
     "output_type": "stream",
     "text": [
      "Output: 6\n"
     ]
    }
   ],
   "source": [
    "nums = [1, 2, 3]\n",
    "result = maximumProduct(nums)\n",
    "print(\"Output:\", result)\n"
   ]
  },
  {
   "cell_type": "markdown",
   "id": "f9595084-dfe1-4ecb-857e-1f9fec5f87a3",
   "metadata": {},
   "source": [
    "Question 6\n",
    "Given an array of integers nums which is sorted in ascending order, and an integer target,\n",
    "write a function to search target in nums. If target exists, then return its index. Otherwise,\n",
    "return -1.\n",
    "\n",
    "You must write an algorithm with O(log n) runtime complexity."
   ]
  },
  {
   "cell_type": "code",
   "execution_count": 11,
   "id": "1093bdff-7277-452a-ad8e-368f482f90fb",
   "metadata": {},
   "outputs": [],
   "source": [
    "def search(nums, target):\n",
    "    left = 0\n",
    "    right = len(nums) - 1\n",
    "\n",
    "    while left <= right:\n",
    "        mid = (left + right) // 2\n",
    "\n",
    "        if nums[mid] == target:\n",
    "            return mid\n",
    "        elif nums[mid] < target:\n",
    "            left = mid + 1\n",
    "        else:\n",
    "            right = mid - 1\n",
    "\n",
    "    return -1\n"
   ]
  },
  {
   "cell_type": "code",
   "execution_count": 12,
   "id": "2673beac-72c1-4548-8424-6f468cfa5336",
   "metadata": {},
   "outputs": [
    {
     "name": "stdout",
     "output_type": "stream",
     "text": [
      "Output: 4\n"
     ]
    }
   ],
   "source": [
    "nums = [-1, 0, 3, 5, 9, 12]\n",
    "target = 9\n",
    "result = search(nums, target)\n",
    "print(\"Output:\", result)\n"
   ]
  },
  {
   "cell_type": "markdown",
   "id": "91831394-e8ca-4666-a825-bfbdad0884d3",
   "metadata": {},
   "source": [
    "Question 7\n",
    "An array is monotonic if it is either monotone increasing or monotone decreasing.\n",
    "\n",
    "An array nums is monotone increasing if for all i <= j, nums[i] <= nums[j]. An array nums is\n",
    "monotone decreasing if for all i <= j, nums[i] >= nums[j].\n",
    "\n",
    "Given an integer array nums, return true if the given array is monotonic, or false otherwise.\n"
   ]
  },
  {
   "cell_type": "code",
   "execution_count": 13,
   "id": "16305387-0e2b-471e-9af7-95d98cd20543",
   "metadata": {},
   "outputs": [],
   "source": [
    "def isMonotonic(nums):\n",
    "    isIncreasing = True\n",
    "    isDecreasing = True\n",
    "\n",
    "    for i in range(1, len(nums)):\n",
    "        if nums[i] < nums[i - 1]:\n",
    "            isIncreasing = False\n",
    "        if nums[i] > nums[i - 1]:\n",
    "            isDecreasing = False\n",
    "\n",
    "    return isIncreasing or isDecreasing\n"
   ]
  },
  {
   "cell_type": "code",
   "execution_count": 14,
   "id": "3d7a6edb-5747-453d-a222-3c66576fe4bb",
   "metadata": {},
   "outputs": [
    {
     "name": "stdout",
     "output_type": "stream",
     "text": [
      "Output: True\n"
     ]
    }
   ],
   "source": [
    "nums = [1, 2, 2, 3]\n",
    "result = isMonotonic(nums)\n",
    "print(\"Output:\", result)\n"
   ]
  },
  {
   "cell_type": "code",
   "execution_count": null,
   "id": "3c6dedf6-2064-45fb-ae3b-dec6626ab3bd",
   "metadata": {},
   "outputs": [],
   "source": []
  }
 ],
 "metadata": {
  "kernelspec": {
   "display_name": "Python 3 (ipykernel)",
   "language": "python",
   "name": "python3"
  },
  "language_info": {
   "codemirror_mode": {
    "name": "ipython",
    "version": 3
   },
   "file_extension": ".py",
   "mimetype": "text/x-python",
   "name": "python",
   "nbconvert_exporter": "python",
   "pygments_lexer": "ipython3",
   "version": "3.10.8"
  }
 },
 "nbformat": 4,
 "nbformat_minor": 5
}
