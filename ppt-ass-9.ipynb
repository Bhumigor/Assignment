{
 "cells": [
  {
   "cell_type": "markdown",
   "id": "943dd187-8294-4da5-bf84-45f3383c8d67",
   "metadata": {},
   "source": [
    "1. Write a Python program to reverse a string without using any built-in string reversal functions.\n"
   ]
  },
  {
   "cell_type": "code",
   "execution_count": 1,
   "id": "3a64ef1c-399e-4271-a01a-d2ec0391b9f3",
   "metadata": {},
   "outputs": [
    {
     "name": "stdout",
     "output_type": "stream",
     "text": [
      "!dlroW ,olleH\n"
     ]
    }
   ],
   "source": [
    "def reverse_string(string):\n",
    "    reversed_string = \"\"\n",
    "    for char in string:\n",
    "        reversed_string = char + reversed_string\n",
    "    return reversed_string\n",
    "\n",
    "string = \"Hello, World!\"\n",
    "reversed_string = reverse_string(string)\n",
    "print(reversed_string)\n"
   ]
  },
  {
   "cell_type": "markdown",
   "id": "a42c2a14-0620-4e5c-9da0-20aa9609217f",
   "metadata": {},
   "source": [
    "2. Implement a function to check if a given string is a palindrome."
   ]
  },
  {
   "cell_type": "code",
   "execution_count": 2,
   "id": "1bd8977e-8620-4cc1-bad8-ef5229bf0d86",
   "metadata": {},
   "outputs": [
    {
     "name": "stdout",
     "output_type": "stream",
     "text": [
      "True\n"
     ]
    }
   ],
   "source": [
    "def is_palindrome(string):\n",
    "    reversed_string = reverse_string(string)\n",
    "    return string == reversed_string\n",
    "\n",
    "\n",
    "string = \"level\"\n",
    "is_palindrome = is_palindrome(string)\n",
    "print(is_palindrome)\n"
   ]
  },
  {
   "cell_type": "markdown",
   "id": "da113380-04d9-48fb-8950-47f3f9a3fc18",
   "metadata": {},
   "source": [
    "3. Write a program to find the largest element in a given list.\n"
   ]
  },
  {
   "cell_type": "code",
   "execution_count": 3,
   "id": "2ff9fc70-e6bd-4ee5-a54f-eb72971dd5eb",
   "metadata": {},
   "outputs": [
    {
     "name": "stdout",
     "output_type": "stream",
     "text": [
      "10\n"
     ]
    }
   ],
   "source": [
    "def find_largest_element(lst):\n",
    "    largest_element = float(\"-inf\")\n",
    "    for num in lst:\n",
    "        if num > largest_element:\n",
    "            largest_element = num\n",
    "    return largest_element\n",
    "\n",
    "lst = [5, 10, 3, 8, 2]\n",
    "largest_element = find_largest_element(lst)\n",
    "print(largest_element)\n"
   ]
  },
  {
   "cell_type": "markdown",
   "id": "dcf76143-c561-4a7f-8e63-6df583ac08e5",
   "metadata": {},
   "source": [
    "4. Implement a function to count the occurrence of each element in a list.\n"
   ]
  },
  {
   "cell_type": "code",
   "execution_count": 4,
   "id": "bea3efe1-e0d0-41d0-9c82-a22e8593fa1d",
   "metadata": {},
   "outputs": [
    {
     "name": "stdout",
     "output_type": "stream",
     "text": [
      "{1: 1, 2: 2, 3: 3, 4: 4}\n"
     ]
    }
   ],
   "source": [
    "def count_occurrences(lst):\n",
    "    occurrence_count = {}\n",
    "    for element in lst:\n",
    "        if element in occurrence_count:\n",
    "            occurrence_count[element] += 1\n",
    "        else:\n",
    "            occurrence_count[element] = 1\n",
    "    return occurrence_count\n",
    "\n",
    "lst = [1, 2, 2, 3, 3, 3, 4, 4, 4, 4]\n",
    "occurrence_count = count_occurrences(lst)\n",
    "print(occurrence_count)\n"
   ]
  },
  {
   "cell_type": "markdown",
   "id": "eb88c2de-ba36-45b5-9019-7c07539e66e2",
   "metadata": {},
   "source": [
    "5. Write a Python program to find the second largest number in a list.\n"
   ]
  },
  {
   "cell_type": "code",
   "execution_count": 5,
   "id": "7502cfcd-831d-4d27-88a0-f7625de570db",
   "metadata": {},
   "outputs": [
    {
     "name": "stdout",
     "output_type": "stream",
     "text": [
      "8\n"
     ]
    }
   ],
   "source": [
    "def find_second_largest(lst):\n",
    "    largest = float(\"-inf\")\n",
    "    second_largest = float(\"-inf\")\n",
    "    for num in lst:\n",
    "        if num > largest:\n",
    "            second_largest = largest\n",
    "            largest = num\n",
    "        elif num > second_largest and num != largest:\n",
    "            second_largest = num\n",
    "    return second_largest\n",
    "\n",
    "lst = [5, 10, 3, 8, 2]\n",
    "second_largest = find_second_largest(lst)\n",
    "print(second_largest)\n"
   ]
  },
  {
   "cell_type": "markdown",
   "id": "2a7f339a-42c8-4283-a343-b3a03d9580e0",
   "metadata": {},
   "source": [
    "6. Implement a function to remove duplicate elements from a list.\n"
   ]
  },
  {
   "cell_type": "code",
   "execution_count": 6,
   "id": "c8e594b2-7456-40ce-98a8-b9e3168d7b7a",
   "metadata": {},
   "outputs": [
    {
     "name": "stdout",
     "output_type": "stream",
     "text": [
      "[1, 2, 3, 4, 5]\n"
     ]
    }
   ],
   "source": [
    "def remove_duplicates(lst):\n",
    "    unique_elements = []\n",
    "    for element in lst:\n",
    "        if element not in unique_elements:\n",
    "            unique_elements.append(element)\n",
    "    return unique_elements\n",
    "\n",
    "lst = [1, 2, 2, 3, 3, 4, 5, 5]\n",
    "unique_elements = remove_duplicates(lst)\n",
    "print(unique_elements)\n"
   ]
  },
  {
   "cell_type": "markdown",
   "id": "2aa7a7ca-f9bc-4cc9-96bf-e5504c842fb9",
   "metadata": {},
   "source": [
    "7. Write a program to calculate the factorial of a given number."
   ]
  },
  {
   "cell_type": "code",
   "execution_count": 7,
   "id": "d7014e93-4f2b-4859-af39-83f9f8b8aa79",
   "metadata": {},
   "outputs": [
    {
     "name": "stdout",
     "output_type": "stream",
     "text": [
      "120\n"
     ]
    }
   ],
   "source": [
    "def factorial(n):\n",
    "    if n == 0:\n",
    "        return 1\n",
    "    else:\n",
    "        return n * factorial(n-1)\n",
    "\n",
    "n = 5\n",
    "factorial_result = factorial(n)\n",
    "print(factorial_result)\n"
   ]
  },
  {
   "cell_type": "markdown",
   "id": "ad328411-c9ad-4374-b90a-d971e162d1a6",
   "metadata": {},
   "source": [
    "8. Implement a function to check if a given number is prime.\n"
   ]
  },
  {
   "cell_type": "code",
   "execution_count": 8,
   "id": "c589b58d-53bc-49bc-9f60-c02433f9d3d9",
   "metadata": {},
   "outputs": [
    {
     "name": "stdout",
     "output_type": "stream",
     "text": [
      "True\n"
     ]
    }
   ],
   "source": [
    "def is_prime(n):\n",
    "    if n < 2:\n",
    "        return False\n",
    "    for i in range(2, int(n ** 0.5) + 1):\n",
    "        if n % i == 0:\n",
    "            return False\n",
    "    return True\n",
    "\n",
    "n = 17\n",
    "is_prime_number = is_prime(n)\n",
    "print(is_prime_number)\n"
   ]
  },
  {
   "cell_type": "markdown",
   "id": "2f2bae93-a690-48b0-8602-24d38d23bd3e",
   "metadata": {},
   "source": [
    "9. Write a Python program to sort a list of integers in ascending order.\n"
   ]
  },
  {
   "cell_type": "code",
   "execution_count": 9,
   "id": "26ddcd59-f33f-44dc-af33-53955bd53aaa",
   "metadata": {},
   "outputs": [
    {
     "name": "stdout",
     "output_type": "stream",
     "text": [
      "[1, 2, 3, 5, 8]\n"
     ]
    }
   ],
   "source": [
    "def sort_list(lst):\n",
    "    lst.sort()\n",
    "    return lst\n",
    "\n",
    "lst = [5, 2, 8, 1, 3]\n",
    "sorted_lst = sort_list(lst)\n",
    "print(sorted_lst)\n"
   ]
  },
  {
   "cell_type": "markdown",
   "id": "bb4a8da3-f24c-48c5-bfc5-bb33f9c1575a",
   "metadata": {},
   "source": [
    "10. Implement a function to find the sum of all numbers in a list."
   ]
  },
  {
   "cell_type": "code",
   "execution_count": 10,
   "id": "41225aac-31c0-4046-9cfb-c56d2613624d",
   "metadata": {},
   "outputs": [
    {
     "name": "stdout",
     "output_type": "stream",
     "text": [
      "15\n"
     ]
    }
   ],
   "source": [
    "def sum_of_numbers(lst):\n",
    "    return sum(lst)\n",
    "\n",
    "numbers = [1, 2, 3, 4, 5]\n",
    "total_sum = sum_of_numbers(numbers)\n",
    "print(total_sum)\n"
   ]
  },
  {
   "cell_type": "markdown",
   "id": "b7738b70-a00b-4304-8714-b39281fb9742",
   "metadata": {},
   "source": [
    "11. Write a program to find the common elements between two lists."
   ]
  },
  {
   "cell_type": "code",
   "execution_count": 11,
   "id": "62bafb6f-0d8a-400b-a324-315e0486ea1d",
   "metadata": {},
   "outputs": [
    {
     "name": "stdout",
     "output_type": "stream",
     "text": [
      "[4, 5]\n"
     ]
    }
   ],
   "source": [
    "def find_common_elements(list1, list2):\n",
    "    common_elements = set(list1) & set(list2)\n",
    "    return list(common_elements)\n",
    "\n",
    "list1 = [1, 2, 3, 4, 5]\n",
    "list2 = [4, 5, 6, 7, 8]\n",
    "common_elements = find_common_elements(list1, list2)\n",
    "print(common_elements)\n"
   ]
  },
  {
   "cell_type": "markdown",
   "id": "df34934a-4dce-46cc-8ec4-4142c677fc50",
   "metadata": {},
   "source": [
    "12. Implement a function to check if a given string is an anagram of another string.\n"
   ]
  },
  {
   "cell_type": "code",
   "execution_count": 12,
   "id": "9b0e5b4f-84c0-4997-9d18-8250ad5da628",
   "metadata": {},
   "outputs": [
    {
     "name": "stdout",
     "output_type": "stream",
     "text": [
      "The strings are anagrams.\n"
     ]
    }
   ],
   "source": [
    "def is_anagram(str1, str2):\n",
    "    return sorted(str1) == sorted(str2)\n",
    "\n",
    "string1 = \"listen\"\n",
    "string2 = \"silent\"\n",
    "if is_anagram(string1, string2):\n",
    "    print(\"The strings are anagrams.\")\n",
    "else:\n",
    "    print(\"The strings are not anagrams.\")\n"
   ]
  },
  {
   "cell_type": "markdown",
   "id": "57939e15-fe94-4c49-844a-5be08db55878",
   "metadata": {},
   "source": [
    "13. Write a Python program to generate all permutations of a given string.\n"
   ]
  },
  {
   "cell_type": "code",
   "execution_count": 13,
   "id": "f11f692c-54bb-4155-93eb-e167064ef05a",
   "metadata": {},
   "outputs": [
    {
     "name": "stdout",
     "output_type": "stream",
     "text": [
      "['abc', 'acb', 'bac', 'bca', 'cab', 'cba']\n"
     ]
    }
   ],
   "source": [
    "import itertools\n",
    "\n",
    "def generate_permutations(string):\n",
    "    permutations = list(itertools.permutations(string))\n",
    "    return [''.join(permutation) for permutation in permutations]\n",
    "\n",
    "string = \"abc\"\n",
    "all_permutations = generate_permutations(string)\n",
    "print(all_permutations)\n"
   ]
  },
  {
   "cell_type": "markdown",
   "id": "9762b7d5-9726-44f5-ada9-b608f51244a9",
   "metadata": {},
   "source": [
    "14. Implement a function to calculate the Fibonacci sequence up to a given number of terms."
   ]
  },
  {
   "cell_type": "code",
   "execution_count": 14,
   "id": "e1ea30f4-f773-46a3-890e-70e063a64d86",
   "metadata": {},
   "outputs": [
    {
     "name": "stdout",
     "output_type": "stream",
     "text": [
      "[0, 1, 1, 2, 3, 5, 8, 13, 21, 34]\n"
     ]
    }
   ],
   "source": [
    "def fibonacci_sequence(num_terms):\n",
    "    sequence = [0, 1]\n",
    "    for _ in range(2, num_terms):\n",
    "        next_term = sequence[-1] + sequence[-2]\n",
    "        sequence.append(next_term)\n",
    "    return sequence\n",
    "\n",
    "num_terms = 10\n",
    "fib_sequence = fibonacci_sequence(num_terms)\n",
    "print(fib_sequence)\n"
   ]
  },
  {
   "cell_type": "markdown",
   "id": "690e7370-5237-4a99-8af9-b42e559f5c0a",
   "metadata": {},
   "source": [
    "15. Write a program to find the median of a list of numbers."
   ]
  },
  {
   "cell_type": "code",
   "execution_count": 15,
   "id": "9d3f8a27-2467-4634-8aa9-44ede3ae9c0e",
   "metadata": {},
   "outputs": [
    {
     "name": "stdout",
     "output_type": "stream",
     "text": [
      "3\n"
     ]
    }
   ],
   "source": [
    "import statistics\n",
    "\n",
    "def find_median(numbers):\n",
    "    return statistics.median(numbers)\n",
    "\n",
    "numbers = [1, 2, 3, 4, 5]\n",
    "median = find_median(numbers)\n",
    "print(median)\n"
   ]
  },
  {
   "cell_type": "markdown",
   "id": "54243d4d-b1b6-4780-a9f4-f963916c856c",
   "metadata": {},
   "source": [
    "16. Implement a function to check if a given list is sorted in non-decreasing order."
   ]
  },
  {
   "cell_type": "code",
   "execution_count": 16,
   "id": "fff06354-4007-425f-9d3f-c6c161f986aa",
   "metadata": {},
   "outputs": [
    {
     "name": "stdout",
     "output_type": "stream",
     "text": [
      "The list is sorted.\n"
     ]
    }
   ],
   "source": [
    "def is_sorted(lst):\n",
    "    return lst == sorted(lst)\n",
    "\n",
    "numbers = [1, 2, 3, 4, 5]\n",
    "if is_sorted(numbers):\n",
    "    print(\"The list is sorted.\")\n",
    "else:\n",
    "    print(\"The list is not sorted.\")\n"
   ]
  },
  {
   "cell_type": "markdown",
   "id": "7cf85cd1-4ea4-42c3-aad6-7161b46291de",
   "metadata": {},
   "source": [
    "17. Write a Python program to find the intersection of two lists."
   ]
  },
  {
   "cell_type": "code",
   "execution_count": 17,
   "id": "fb6af08e-03b7-4004-bf30-fdfd7c073959",
   "metadata": {},
   "outputs": [
    {
     "name": "stdout",
     "output_type": "stream",
     "text": [
      "[4, 5]\n"
     ]
    }
   ],
   "source": [
    "def find_intersection(list1, list2):\n",
    "    intersection = set(list1) & set(list2)\n",
    "    return list(intersection)\n",
    "\n",
    "list1 = [1, 2, 3, 4, 5]\n",
    "list2 = [4, 5, 6, 7, 8]\n",
    "intersection = find_intersection(list1, list2)\n",
    "print(intersection)\n"
   ]
  },
  {
   "cell_type": "markdown",
   "id": "787fc9c2-2a4f-4c86-8c6c-6cf2ba9af2cf",
   "metadata": {},
   "source": [
    "18. Implement a function to find the maximum subarray sum in a given list."
   ]
  },
  {
   "cell_type": "code",
   "execution_count": 18,
   "id": "226c1a90-4524-4a77-b72f-b4b448eaf0e0",
   "metadata": {},
   "outputs": [
    {
     "name": "stdout",
     "output_type": "stream",
     "text": [
      "6\n"
     ]
    }
   ],
   "source": [
    "def find_max_subarray_sum(lst):\n",
    "    max_sum = float('-inf')\n",
    "    current_sum = 0\n",
    "    for num in lst:\n",
    "        current_sum = max(num, current_sum + num)\n",
    "        max_sum = max(max_sum, current_sum)\n",
    "    return max_sum\n",
    "\n",
    "numbers = [-2, 1, -3, 4, -1, 2, 1, -5, 4]\n",
    "max_sum = find_max_subarray_sum(numbers)\n",
    "print(max_sum)\n"
   ]
  },
  {
   "cell_type": "markdown",
   "id": "439c8a2d-9a36-4263-abcd-365ace68e6b0",
   "metadata": {},
   "source": [
    "19. Write a program to remove all vowels from a given string.\n"
   ]
  },
  {
   "cell_type": "code",
   "execution_count": 19,
   "id": "a9acd0c0-1da9-406e-a3bc-78eacd4d4158",
   "metadata": {},
   "outputs": [
    {
     "name": "stdout",
     "output_type": "stream",
     "text": [
      "Hll, Wrld!\n"
     ]
    }
   ],
   "source": [
    "def remove_vowels(string):\n",
    "    vowels = 'aeiouAEIOU'\n",
    "    return ''.join(char for char in string if char not in vowels)\n",
    "\n",
    "string = \"Hello, World!\"\n",
    "string_without_vowels = remove_vowels(string)\n",
    "print(string_without_vowels)\n"
   ]
  },
  {
   "cell_type": "markdown",
   "id": "db2232af-d8c9-49d1-a808-57dfac154ba7",
   "metadata": {},
   "source": [
    "20. Implement a function to reverse the order of words in a given sentence."
   ]
  },
  {
   "cell_type": "code",
   "execution_count": 20,
   "id": "9e221b95-d1c6-4370-a519-1b63872133f9",
   "metadata": {},
   "outputs": [
    {
     "name": "stdout",
     "output_type": "stream",
     "text": [
      "World! Hello,\n"
     ]
    }
   ],
   "source": [
    "def reverse_words(sentence):\n",
    "    words = sentence.split()\n",
    "    reversed_words = ' '.join(reversed(words))\n",
    "    return reversed_words\n",
    "\n",
    "sentence = \"Hello, World!\"\n",
    "reversed_sentence = reverse_words(sentence)\n",
    "print(reversed_sentence)\n"
   ]
  },
  {
   "cell_type": "markdown",
   "id": "bf9af8cf-2d09-4c0b-ad2d-06cf969058b7",
   "metadata": {},
   "source": [
    "21. Write a Python program to check if two strings are anagrams of each other.\n"
   ]
  },
  {
   "cell_type": "code",
   "execution_count": 21,
   "id": "b886c2f9-fb22-44ef-8659-d3c7fd233a95",
   "metadata": {},
   "outputs": [
    {
     "name": "stdout",
     "output_type": "stream",
     "text": [
      "The strings are anagrams.\n"
     ]
    }
   ],
   "source": [
    "def are_anagrams(str1, str2):\n",
    "    return sorted(str1) == sorted(str2)\n",
    "\n",
    "string1 = \"listen\"\n",
    "string2 = \"silent\"\n",
    "if are_anagrams(string1, string2):\n",
    "    print(\"The strings are anagrams.\")\n",
    "else:\n",
    "    print(\"The strings are not anagrams.\")\n"
   ]
  },
  {
   "cell_type": "markdown",
   "id": "8bd71a32-c291-4bcd-b69e-b7c6d9254dcd",
   "metadata": {},
   "source": [
    "22. Implement a function to find the first non-repeating character in a string.\n"
   ]
  },
  {
   "cell_type": "code",
   "execution_count": 22,
   "id": "e6fbdc28-f9ac-44ea-88c3-795e44909181",
   "metadata": {},
   "outputs": [
    {
     "name": "stdout",
     "output_type": "stream",
     "text": [
      "h\n"
     ]
    }
   ],
   "source": [
    "from collections import Counter\n",
    "\n",
    "def find_first_non_repeating_char(string):\n",
    "    char_counts = Counter(string)\n",
    "    for char in string:\n",
    "        if char_counts[char] == 1:\n",
    "            return char\n",
    "    return None\n",
    "\n",
    "string = \"hello\"\n",
    "first_non_repeating_char = find_first_non_repeating_char(string)\n",
    "print(first_non_repeating_char)\n"
   ]
  },
  {
   "cell_type": "markdown",
   "id": "1025f7f7-506a-42dd-a740-aa520a03f935",
   "metadata": {},
   "source": [
    "23. Write a program to find the prime factors of a given number."
   ]
  },
  {
   "cell_type": "code",
   "execution_count": 23,
   "id": "dce24bf8-86dc-4f49-9250-910c9cb525c7",
   "metadata": {},
   "outputs": [
    {
     "name": "stdout",
     "output_type": "stream",
     "text": [
      "[2, 2, 2, 7]\n"
     ]
    }
   ],
   "source": [
    "def find_prime_factors(num):\n",
    "    factors = []\n",
    "    divisor = 2\n",
    "    while divisor <= num:\n",
    "        if num % divisor == 0:\n",
    "            factors.append(divisor)\n",
    "            num = num // divisor\n",
    "        else:\n",
    "            divisor += 1\n",
    "    return factors\n",
    "\n",
    "number = 56\n",
    "prime_factors = find_prime_factors(number)\n",
    "print(prime_factors)\n"
   ]
  },
  {
   "cell_type": "markdown",
   "id": "2fcf34b8-bf1e-4e1c-89f4-d8995d9f7e04",
   "metadata": {},
   "source": [
    "24. Implement a function to check if a given number is a power of two.\n"
   ]
  },
  {
   "cell_type": "code",
   "execution_count": 24,
   "id": "b5866378-cc27-40cd-9965-c6382e367a38",
   "metadata": {},
   "outputs": [
    {
     "name": "stdout",
     "output_type": "stream",
     "text": [
      "The number is a power of two.\n"
     ]
    }
   ],
   "source": [
    "def is_power_of_two(num):\n",
    "    if num <= 0:\n",
    "        return False\n",
    "    return num & (num - 1) == 0\n",
    "\n",
    "number = 16\n",
    "if is_power_of_two(number):\n",
    "    print(\"The number is a power of two.\")\n",
    "else:\n",
    "    print(\"The number is not a power of two.\")\n"
   ]
  },
  {
   "cell_type": "markdown",
   "id": "0ccc65b8-7789-4ee3-a207-a5004a279e8a",
   "metadata": {},
   "source": [
    "25. Write a Python program to merge two sorted lists into a single sorted list.\n"
   ]
  },
  {
   "cell_type": "code",
   "execution_count": 25,
   "id": "6ebf4636-91d8-4517-8c03-5bec8c454eb3",
   "metadata": {},
   "outputs": [
    {
     "name": "stdout",
     "output_type": "stream",
     "text": [
      "[1, 2, 3, 4, 5, 6, 7, 8]\n"
     ]
    }
   ],
   "source": [
    "def merge_sorted_lists(list1, list2):\n",
    "    merged_list = []\n",
    "    i = j = 0\n",
    "    while i < len(list1) and j < len(list2):\n",
    "        if list1[i] < list2[j]:\n",
    "            merged_list.append(list1[i])\n",
    "            i += 1\n",
    "        else:\n",
    "            merged_list.append(list2[j])\n",
    "            j += 1\n",
    "    merged_list.extend(list1[i:])\n",
    "    merged_list.extend(list2[j:])\n",
    "    return merged_list\n",
    "\n",
    "list1 = [1, 3, 5, 7]\n",
    "list2 = [2, 4, 6, 8]\n",
    "merged_list = merge_sorted_lists(list1, list2)\n",
    "print(merged_list)\n"
   ]
  },
  {
   "cell_type": "markdown",
   "id": "948c769c-ec36-4fb1-bd56-36a63e9f2eef",
   "metadata": {},
   "source": [
    "26. Implement a function to find the mode of a list of numbers."
   ]
  },
  {
   "cell_type": "code",
   "execution_count": 26,
   "id": "34e181af-144d-44c8-a4dd-302f89fead9b",
   "metadata": {},
   "outputs": [
    {
     "name": "stdout",
     "output_type": "stream",
     "text": [
      "[4]\n"
     ]
    }
   ],
   "source": [
    "from collections import Counter\n",
    "\n",
    "def find_mode(numbers):\n",
    "    num_counts = Counter(numbers)\n",
    "    max_count = max(num_counts.values())\n",
    "    mode = [num for num, count in num_counts.items() if count == max_count]\n",
    "    return mode\n",
    "\n",
    "numbers = [1, 2, 2, 3, 3, 3, 4, 4, 4, 4]\n",
    "mode = find_mode(numbers)\n",
    "print(mode)\n"
   ]
  },
  {
   "cell_type": "markdown",
   "id": "0227e83c-e77b-44f9-bf52-482df56f374d",
   "metadata": {},
   "source": [
    "27. Write a program to find the greatest common divisor (GCD) of two numbers."
   ]
  },
  {
   "cell_type": "code",
   "execution_count": 27,
   "id": "5822c6e2-9c8a-4061-9656-822a1105bf35",
   "metadata": {},
   "outputs": [
    {
     "name": "stdout",
     "output_type": "stream",
     "text": [
      "12\n"
     ]
    }
   ],
   "source": [
    "def find_gcd(a, b):\n",
    "    while b != 0:\n",
    "        a, b = b, a % b\n",
    "    return a\n",
    "\n",
    "num1 = 24\n",
    "num2 = 36\n",
    "gcd = find_gcd(num1, num2)\n",
    "print(gcd)\n"
   ]
  },
  {
   "cell_type": "markdown",
   "id": "3df341c7-21bd-43a3-b90d-dbf89039c63f",
   "metadata": {},
   "source": [
    "28. Implement a function to calculate the square root of a given number.\n"
   ]
  },
  {
   "cell_type": "code",
   "execution_count": 28,
   "id": "6dd1e2cf-1886-4c03-93e9-e31f0470073f",
   "metadata": {},
   "outputs": [
    {
     "name": "stdout",
     "output_type": "stream",
     "text": [
      "4\n"
     ]
    }
   ],
   "source": [
    "def square_root(number):\n",
    "    if number < 0:\n",
    "        return None\n",
    "    if number == 0:\n",
    "        return 0\n",
    "    x = number\n",
    "    y = (x + 1) // 2\n",
    "    while y < x:\n",
    "        x = y\n",
    "        y = (x + number // x) // 2\n",
    "    return x\n",
    "\n",
    "number = 16\n",
    "sqrt = square_root(number)\n",
    "print(sqrt)\n"
   ]
  },
  {
   "cell_type": "markdown",
   "id": "1f6fc7fc-2226-4cd6-8489-bc37f0bc6730",
   "metadata": {},
   "source": [
    "29. Write a Python program to check if a given string is a valid palindrome ignoring non-alphanumeric characters."
   ]
  },
  {
   "cell_type": "code",
   "execution_count": 29,
   "id": "3adf3888-81ee-465e-a09a-edd30d5f6066",
   "metadata": {},
   "outputs": [
    {
     "name": "stdout",
     "output_type": "stream",
     "text": [
      "The string is a valid palindrome.\n"
     ]
    }
   ],
   "source": [
    "import re\n",
    "\n",
    "def is_valid_palindrome(string):\n",
    "    alphanumeric_string = re.sub(r'[^a-zA-Z0-9]', '', string)\n",
    "    alphanumeric_string = alphanumeric_string.lower()\n",
    "    return alphanumeric_string == alphanumeric_string[::-1]\n",
    "\n",
    "string = \"A man, a plan, a canal: Panama\"\n",
    "if is_valid_palindrome(string):\n",
    "    print(\"The string is a valid palindrome.\")\n",
    "else:\n",
    "    print(\"The string is not a valid palindrome.\")\n"
   ]
  },
  {
   "cell_type": "markdown",
   "id": "91b69d1b-bb9d-4cab-bc95-80cc308b249e",
   "metadata": {},
   "source": [
    "30. Implement a function to find the minimum element in a rotated sorted list."
   ]
  },
  {
   "cell_type": "code",
   "execution_count": 31,
   "id": "6c5b7514-58d3-4292-9e9f-7d1070446412",
   "metadata": {},
   "outputs": [
    {
     "name": "stdout",
     "output_type": "stream",
     "text": [
      "0\n"
     ]
    }
   ],
   "source": [
    "def find_minimum_element(nums):\n",
    "    left = 0\n",
    "    right = len(nums) - 1\n",
    "    while left < right:\n",
    "        mid = left + (right - left) // 2\n",
    "        if nums[mid] > nums[right]:\n",
    "            left = mid + 1\n",
    "        else:\n",
    "            right = mid\n",
    "    return nums[left]\n",
    "\n",
    "rotated_list = [4, 5, 6, 7, 0, 1, 2]\n",
    "minimum_element = find_minimum_element(rotated_list)\n",
    "print(minimum_element)\n"
   ]
  },
  {
   "cell_type": "markdown",
   "id": "8c079bb0-e487-4c7c-aafa-b9151f232fbc",
   "metadata": {},
   "source": [
    "31. Write a program to find the sum of all even numbers in a list.\n"
   ]
  },
  {
   "cell_type": "code",
   "execution_count": 32,
   "id": "5e1d7e1e-27fc-43a1-b8bf-51b46ba0cf00",
   "metadata": {},
   "outputs": [
    {
     "name": "stdout",
     "output_type": "stream",
     "text": [
      "30\n"
     ]
    }
   ],
   "source": [
    "def sum_of_even_numbers(numbers):\n",
    "    return sum(num for num in numbers if num % 2 == 0)\n",
    "\n",
    "numbers = [1, 2, 3, 4, 5, 6, 7, 8, 9, 10]\n",
    "even_sum = sum_of_even_numbers(numbers)\n",
    "print(even_sum)\n"
   ]
  },
  {
   "cell_type": "markdown",
   "id": "2760fbba-fc61-41ba-b9d2-81f9311450c8",
   "metadata": {},
   "source": [
    "32. Implement a function to calculate the power of a number using recursion.\n"
   ]
  },
  {
   "cell_type": "code",
   "execution_count": 33,
   "id": "31eaff27-80a0-4ddd-9bbe-2b9cad3acb84",
   "metadata": {},
   "outputs": [
    {
     "name": "stdout",
     "output_type": "stream",
     "text": [
      "8\n"
     ]
    }
   ],
   "source": [
    "def power(base, exponent):\n",
    "    if exponent == 0:\n",
    "        return 1\n",
    "    if exponent < 0:\n",
    "        return 1 / power(base, -exponent)\n",
    "    if exponent % 2 == 0:\n",
    "        half_power = power(base, exponent // 2)\n",
    "        return half_power * half_power\n",
    "    else:\n",
    "        half_power = power(base, (exponent - 1) // 2)\n",
    "        return half_power * half_power * base\n",
    "\n",
    "base = 2\n",
    "exponent = 3\n",
    "result = power(base, exponent)\n",
    "print(result)\n"
   ]
  },
  {
   "cell_type": "markdown",
   "id": "b572878f-6a75-4a8a-a3af-2d3b06405e89",
   "metadata": {},
   "source": [
    "33. Write a Python program to remove duplicates from a list while preserving the order.\n"
   ]
  },
  {
   "cell_type": "code",
   "execution_count": 35,
   "id": "b59ec085-db5b-4025-9266-90d3678bc4f8",
   "metadata": {},
   "outputs": [
    {
     "name": "stdout",
     "output_type": "stream",
     "text": [
      "[1, 2, 3, 4, 5, 6, 7]\n"
     ]
    }
   ],
   "source": [
    "def remove_duplicates(numbers):\n",
    "    unique_numbers = []\n",
    "    seen = set()\n",
    "    for num in numbers:\n",
    "        if num not in seen:\n",
    "            unique_numbers.append(num)\n",
    "            seen.add(num)\n",
    "    return unique_numbers\n",
    "\n",
    "numbers = [1, 2, 3, 2, 4, 1, 5, 6, 4, 7]\n",
    "unique_numbers = remove_duplicates(numbers)\n",
    "print(unique_numbers)\n"
   ]
  },
  {
   "cell_type": "markdown",
   "id": "26fc9106-af14-4817-929a-2883633d60ee",
   "metadata": {},
   "source": [
    "34. Implement a function to find the longest common prefix among a list of strings.\n"
   ]
  },
  {
   "cell_type": "code",
   "execution_count": 37,
   "id": "aaaf387f-3f61-4d8d-a163-2a99c8e858e5",
   "metadata": {},
   "outputs": [
    {
     "name": "stdout",
     "output_type": "stream",
     "text": [
      "fl\n"
     ]
    }
   ],
   "source": [
    "def longest_common_prefix(strings):\n",
    "    if not strings:\n",
    "        return \"\"\n",
    "    shortest_string = min(strings, key=len)\n",
    "    for i, char in enumerate(shortest_string):\n",
    "        for string in strings:\n",
    "            if string[i] != char:\n",
    "                return shortest_string[:i]\n",
    "    return shortest_string\n",
    "\n",
    "string_list = [\"flower\", \"flow\", \"flight\"]\n",
    "common_prefix = longest_common_prefix(string_list)\n",
    "print(common_prefix)\n"
   ]
  },
  {
   "cell_type": "markdown",
   "id": "97bc54c3-0681-4217-8fa0-74d0fc31b0e6",
   "metadata": {},
   "source": [
    "35. Write a program to check if a given number is a perfect square.\n"
   ]
  },
  {
   "cell_type": "code",
   "execution_count": 38,
   "id": "54016e90-b7cc-4629-87c1-f864e8bcd571",
   "metadata": {},
   "outputs": [
    {
     "name": "stdout",
     "output_type": "stream",
     "text": [
      "The number is a perfect square.\n"
     ]
    }
   ],
   "source": [
    "def is_perfect_square(number):\n",
    "    if number < 0:\n",
    "        return False\n",
    "    root = int(number ** 0.5)\n",
    "    return root * root == number\n",
    "\n",
    "num = 25\n",
    "if is_perfect_square(num):\n",
    "    print(\"The number is a perfect square.\")\n",
    "else:\n",
    "    print(\"The number is not a perfect square.\")\n"
   ]
  },
  {
   "cell_type": "markdown",
   "id": "9e82403b-da97-4106-b1ba-20c96ebdcce5",
   "metadata": {},
   "source": [
    "36. Implement a function to calculate the product of all elements in a list.\n"
   ]
  },
  {
   "cell_type": "code",
   "execution_count": 40,
   "id": "807e3db8-5c5f-41df-8f2c-bf95493190b0",
   "metadata": {},
   "outputs": [
    {
     "name": "stdout",
     "output_type": "stream",
     "text": [
      "120\n"
     ]
    }
   ],
   "source": [
    "from functools import reduce\n",
    "import operator\n",
    "\n",
    "def product_of_elements(numbers):\n",
    "    return reduce(operator.mul, numbers, 1)\n",
    "\n",
    "numbers = [1, 2, 3, 4, 5]\n",
    "product = product_of_elements(numbers)\n",
    "print(product)\n"
   ]
  },
  {
   "cell_type": "markdown",
   "id": "c813bdc7-46fd-4683-98ef-93a4f03d290c",
   "metadata": {},
   "source": [
    "37. Write a Python program to reverse the order of words in a sentence while preserving the word order."
   ]
  },
  {
   "cell_type": "code",
   "execution_count": 41,
   "id": "6980a0bc-21f1-4028-a98e-e51f9405a77b",
   "metadata": {},
   "outputs": [
    {
     "name": "stdout",
     "output_type": "stream",
     "text": [
      "you? are how World, Hello\n"
     ]
    }
   ],
   "source": [
    "def reverse_words(sentence):\n",
    "    words = sentence.split()\n",
    "    reversed_sentence = \" \".join(reversed(words))\n",
    "    return reversed_sentence\n",
    "\n",
    "sentence = \"Hello World, how are you?\"\n",
    "reversed_sentence = reverse_words(sentence)\n",
    "print(reversed_sentence)\n"
   ]
  },
  {
   "cell_type": "markdown",
   "id": "ffe0b881-ac49-420f-b318-bc09fbba8875",
   "metadata": {},
   "source": [
    "38. Implement a function to find the missing number in a given list of consecutive numbers."
   ]
  },
  {
   "cell_type": "code",
   "execution_count": 42,
   "id": "2f6c5eef-27e1-4794-bd14-ea2c0147a89a",
   "metadata": {},
   "outputs": [
    {
     "name": "stdout",
     "output_type": "stream",
     "text": [
      "3\n"
     ]
    }
   ],
   "source": [
    "def find_missing_number(numbers):\n",
    "    n = len(numbers) + 1\n",
    "    expected_sum = (n * (n + 1)) // 2\n",
    "    actual_sum = sum(numbers)\n",
    "    missing_number = expected_sum - actual_sum\n",
    "    return missing_number\n",
    "\n",
    "number_list = [1, 2, 4, 5, 6]\n",
    "missing_number = find_missing_number(number_list)\n",
    "print(missing_number)\n"
   ]
  },
  {
   "cell_type": "markdown",
   "id": "c0290e64-f544-47ed-acfc-593572a9126a",
   "metadata": {},
   "source": [
    "39. Write a program to find the sum of digits of a given number.\n"
   ]
  },
  {
   "cell_type": "code",
   "execution_count": 43,
   "id": "0d4dec70-0c20-47b2-9045-4c4963d3828e",
   "metadata": {},
   "outputs": [
    {
     "name": "stdout",
     "output_type": "stream",
     "text": [
      "15\n"
     ]
    }
   ],
   "source": [
    "def sum_of_digits(number):\n",
    "    return sum(int(digit) for digit in str(number))\n",
    "\n",
    "num = 12345\n",
    "digit_sum = sum_of_digits(num)\n",
    "print(digit_sum)\n"
   ]
  },
  {
   "cell_type": "markdown",
   "id": "cfb6001f-a718-433d-86c9-f86002773e00",
   "metadata": {},
   "source": [
    "40. Implement a function to check if a given string is a valid palindrome considering case sensitivity.\n"
   ]
  },
  {
   "cell_type": "code",
   "execution_count": 44,
   "id": "3f744a9e-aaa3-420f-bd9a-e0bed037eec8",
   "metadata": {},
   "outputs": [
    {
     "name": "stdout",
     "output_type": "stream",
     "text": [
      "The string is a valid palindrome.\n"
     ]
    }
   ],
   "source": [
    "def is_valid_palindrome_case_sensitive(string):\n",
    "    return string == string[::-1]\n",
    "\n",
    "string = \"level\"\n",
    "if is_valid_palindrome_case_sensitive(string):\n",
    "    print(\"The string is a valid palindrome.\")\n",
    "else:\n",
    "    print(\"The string is not a valid palindrome.\")\n"
   ]
  },
  {
   "cell_type": "markdown",
   "id": "0e68dbe2-b1f3-4a2a-8730-ffd14886f0e1",
   "metadata": {},
   "source": [
    "41. Write a Python program to find the smallest missing positive integer in a list."
   ]
  },
  {
   "cell_type": "code",
   "execution_count": 45,
   "id": "6ca9ef8a-90ba-48f1-a458-60602f123dda",
   "metadata": {},
   "outputs": [
    {
     "name": "stdout",
     "output_type": "stream",
     "text": [
      "2\n"
     ]
    }
   ],
   "source": [
    "def find_smallest_missing_positive(numbers):\n",
    "    n = len(numbers)\n",
    "    for i in range(n):\n",
    "        while 1 <= numbers[i] <= n and numbers[numbers[i] - 1] != numbers[i]:\n",
    "            numbers[numbers[i] - 1], numbers[i] = numbers[i], numbers[numbers[i] - 1]\n",
    "    for i in range(n):\n",
    "        if numbers[i] != i + 1:\n",
    "            return i + 1\n",
    "    return n + 1\n",
    "\n",
    "number_list = [3, 4, -1, 1]\n",
    "smallest_missing = find_smallest_missing_positive(number_list)\n",
    "print(smallest_missing)\n"
   ]
  },
  {
   "cell_type": "markdown",
   "id": "536fdd99-2232-4ee3-b6e2-a5ffcb2d6cba",
   "metadata": {},
   "source": [
    "42. Implement a function to find the longest palindrome substring in a given string.\n"
   ]
  },
  {
   "cell_type": "code",
   "execution_count": 46,
   "id": "e345e9b9-a749-42e0-912a-c62d085c07bd",
   "metadata": {},
   "outputs": [
    {
     "name": "stdout",
     "output_type": "stream",
     "text": [
      "bab\n"
     ]
    }
   ],
   "source": [
    "def longest_palindrome_substring(string):\n",
    "    longest = \"\"\n",
    "    for i in range(len(string)):\n",
    "        for j in range(i, len(string)):\n",
    "            substring = string[i:j+1]\n",
    "            if substring == substring[::-1] and len(substring) > len(longest):\n",
    "                longest = substring\n",
    "    return longest\n",
    "\n",
    "string = \"babad\"\n",
    "longest_palindrome = longest_palindrome_substring(string)\n",
    "print(longest_palindrome)\n"
   ]
  },
  {
   "cell_type": "markdown",
   "id": "83d6c6d8-2700-4f07-a304-4bcc3b2e2b8a",
   "metadata": {},
   "source": [
    "43. Write a program to find the number of occurrences of a given element in a list.\n"
   ]
  },
  {
   "cell_type": "code",
   "execution_count": 47,
   "id": "b21bfc6f-ee28-4111-b85b-472366815cc0",
   "metadata": {},
   "outputs": [
    {
     "name": "stdout",
     "output_type": "stream",
     "text": [
      "3\n"
     ]
    }
   ],
   "source": [
    "def count_occurrences(numbers, target):\n",
    "    return numbers.count(target)\n",
    "\n",
    "number_list = [1, 2, 3, 2, 4, 2, 5]\n",
    "target_number = 2\n",
    "occurrences = count_occurrences(number_list, target_number)\n",
    "print(occurrences)\n"
   ]
  },
  {
   "cell_type": "markdown",
   "id": "518651f8-14dd-43b6-87b9-b48386508ed2",
   "metadata": {},
   "source": [
    "44. Implement a function to check if a given number is a perfect number.\n"
   ]
  },
  {
   "cell_type": "code",
   "execution_count": 48,
   "id": "998f1156-623b-4a3c-8d51-9cde39b3220a",
   "metadata": {},
   "outputs": [
    {
     "name": "stdout",
     "output_type": "stream",
     "text": [
      "The number is a perfect number.\n"
     ]
    }
   ],
   "source": [
    "def is_perfect_number(number):\n",
    "    if number <= 0:\n",
    "        return False\n",
    "    divisors = [1]\n",
    "    for i in range(2, int(number ** 0.5) + 1):\n",
    "        if number % i == 0:\n",
    "            divisors.append(i)\n",
    "            divisors.append(number // i)\n",
    "    return sum(divisors) == number\n",
    "\n",
    "num = 28\n",
    "if is_perfect_number(num):\n",
    "    print(\"The number is a perfect number.\")\n",
    "else:\n",
    "    print(\"The number is not a perfect number.\")\n"
   ]
  },
  {
   "cell_type": "markdown",
   "id": "d01aa3e3-8f40-42db-acda-564fd6a3b8bc",
   "metadata": {},
   "source": [
    "45. Write a Python program to remove all duplicates from a string.\n"
   ]
  },
  {
   "cell_type": "code",
   "execution_count": 49,
   "id": "7fd3851c-6a87-4a92-80af-61d161b9da9c",
   "metadata": {},
   "outputs": [
    {
     "name": "stdout",
     "output_type": "stream",
     "text": [
      "Helo, Wrd!\n"
     ]
    }
   ],
   "source": [
    "def remove_duplicates(string):\n",
    "    unique_chars = []\n",
    "    for char in string:\n",
    "        if char not in unique_chars:\n",
    "            unique_chars.append(char)\n",
    "    return ''.join(unique_chars)\n",
    "\n",
    "string = \"Hello, World!\"\n",
    "unique_string = remove_duplicates(string)\n",
    "print(unique_string)\n"
   ]
  },
  {
   "cell_type": "markdown",
   "id": "793b79d9-ec2f-47be-9e96-a77ae537667f",
   "metadata": {},
   "source": [
    "46. Implement a function to find the first missing positive\n"
   ]
  },
  {
   "cell_type": "code",
   "execution_count": 50,
   "id": "70bc6396-6eaa-4c1a-a7fb-f9096ccb69ee",
   "metadata": {},
   "outputs": [
    {
     "name": "stdout",
     "output_type": "stream",
     "text": [
      "2\n"
     ]
    }
   ],
   "source": [
    "def find_first_missing_positive(numbers):\n",
    "    n = len(numbers)\n",
    "    for i in range(n):\n",
    "        while 1 <= numbers[i] <= n and numbers[numbers[i] - 1] != numbers[i]:\n",
    "            numbers[numbers[i] - 1], numbers[i] = numbers[i], numbers[numbers[i] - 1]\n",
    "    for i in range(n):\n",
    "        if numbers[i] != i + 1:\n",
    "            return i + 1\n",
    "    return n + 1\n",
    "\n",
    "number_list = [3, 4, -1, 1]\n",
    "first_missing = find_first_missing_positive(number_list)\n",
    "print(first_missing)\n"
   ]
  },
  {
   "cell_type": "code",
   "execution_count": null,
   "id": "3d198707-df25-44f9-a3c6-0d465658fb6c",
   "metadata": {},
   "outputs": [],
   "source": []
  }
 ],
 "metadata": {
  "kernelspec": {
   "display_name": "Python 3 (ipykernel)",
   "language": "python",
   "name": "python3"
  },
  "language_info": {
   "codemirror_mode": {
    "name": "ipython",
    "version": 3
   },
   "file_extension": ".py",
   "mimetype": "text/x-python",
   "name": "python",
   "nbconvert_exporter": "python",
   "pygments_lexer": "ipython3",
   "version": "3.10.8"
  }
 },
 "nbformat": 4,
 "nbformat_minor": 5
}
