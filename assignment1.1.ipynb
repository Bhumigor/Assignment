{
 "cells": [
  {
   "cell_type": "code",
   "execution_count": 3,
   "id": "c637f21c-a824-4a03-b122-e15b0ca1e032",
   "metadata": {},
   "outputs": [],
   "source": [
    "a=('ALPHA',[1,2,3,'kite'],25.369,('beta'))"
   ]
  },
  {
   "cell_type": "code",
   "execution_count": 4,
   "id": "22d6b19c-08ab-44d4-9234-fe8ea0a42fd5",
   "metadata": {},
   "outputs": [
    {
     "data": {
      "text/plain": [
       "('ALPHA', [1, 2, 3, 'kite'], 25.369, 'beta')"
      ]
     },
     "execution_count": 4,
     "metadata": {},
     "output_type": "execute_result"
    }
   ],
   "source": [
    "a"
   ]
  },
  {
   "cell_type": "code",
   "execution_count": 7,
   "id": "e8a8ffaf-a811-4392-88d1-459303bd36ac",
   "metadata": {},
   "outputs": [
    {
     "data": {
      "text/plain": [
       "str"
      ]
     },
     "execution_count": 7,
     "metadata": {},
     "output_type": "execute_result"
    }
   ],
   "source": [
    "var1 = ' '\n",
    "type(var1)"
   ]
  },
  {
   "cell_type": "code",
   "execution_count": 8,
   "id": "87623d23-9f55-472c-addd-cafe055f99ec",
   "metadata": {},
   "outputs": [
    {
     "data": {
      "text/plain": [
       "str"
      ]
     },
     "execution_count": 8,
     "metadata": {},
     "output_type": "execute_result"
    }
   ],
   "source": [
    "var2 = '[DS,ML,Python]'\n",
    "type(var2)"
   ]
  },
  {
   "cell_type": "code",
   "execution_count": 1,
   "id": "8da7feb3-7b37-475d-a6a0-c0eca08148b8",
   "metadata": {},
   "outputs": [
    {
     "data": {
      "text/plain": [
       "list"
      ]
     },
     "execution_count": 1,
     "metadata": {},
     "output_type": "execute_result"
    }
   ],
   "source": [
    "var3 = ['DS','ML','Python']\n",
    "type(var3)"
   ]
  },
  {
   "cell_type": "code",
   "execution_count": 2,
   "id": "649c7261-3cf9-46c0-8a04-9069f658235f",
   "metadata": {},
   "outputs": [
    {
     "data": {
      "text/plain": [
       "int"
      ]
     },
     "execution_count": 2,
     "metadata": {},
     "output_type": "execute_result"
    }
   ],
   "source": [
    "var4 = 1\n",
    "type(var4)"
   ]
  },
  {
   "cell_type": "code",
   "execution_count": 3,
   "id": "3fdd4d59-3296-43fb-92c5-75bbc90cfe37",
   "metadata": {},
   "outputs": [
    {
     "data": {
      "text/plain": [
       "5.0"
      ]
     },
     "execution_count": 3,
     "metadata": {},
     "output_type": "execute_result"
    }
   ],
   "source": [
    "a=15\n",
    "b=3\n",
    "a/b\n",
    "# / showes division operator"
   ]
  },
  {
   "cell_type": "code",
   "execution_count": 4,
   "id": "ebfe585a-5763-42a4-a6be-7ca405282e19",
   "metadata": {},
   "outputs": [
    {
     "data": {
      "text/plain": [
       "1"
      ]
     },
     "execution_count": 4,
     "metadata": {},
     "output_type": "execute_result"
    }
   ],
   "source": [
    "a=7\n",
    "b=2\n",
    "a%b\n",
    "# % showes module operator"
   ]
  },
  {
   "cell_type": "code",
   "execution_count": 5,
   "id": "a4fa4585-a67f-48af-88db-2d45e5796977",
   "metadata": {},
   "outputs": [
    {
     "data": {
      "text/plain": [
       "2"
      ]
     },
     "execution_count": 5,
     "metadata": {},
     "output_type": "execute_result"
    }
   ],
   "source": [
    "a=10\n",
    "b=5\n",
    "a//b\n",
    "# // showes integer division operator"
   ]
  },
  {
   "cell_type": "code",
   "execution_count": 6,
   "id": "458810a6-7570-4a06-a806-929bfde9b0db",
   "metadata": {},
   "outputs": [
    {
     "data": {
      "text/plain": [
       "25"
      ]
     },
     "execution_count": 6,
     "metadata": {},
     "output_type": "execute_result"
    }
   ],
   "source": [
    "a=5\n",
    "b=2\n",
    "a**b\n",
    "# ** showes exponential operator"
   ]
  },
  {
   "cell_type": "code",
   "execution_count": 8,
   "id": "c60307d4-f090-4c6e-8740-71f53114204e",
   "metadata": {},
   "outputs": [
    {
     "name": "stdout",
     "output_type": "stream",
     "text": [
      "<class 'int'>\n",
      "<class 'int'>\n",
      "<class 'int'>\n",
      "<class 'int'>\n",
      "<class 'str'>\n",
      "<class 'float'>\n",
      "<class 'float'>\n",
      "<class 'str'>\n",
      "<class 'bool'>\n",
      "<class 'bool'>\n"
     ]
    }
   ],
   "source": [
    "l=[26,8,12,11,'alpha',9.9,29.11,'beta',True,False]\n",
    "for i in l:\n",
    "    print(type(i))"
   ]
  }
 ],
 "metadata": {
  "kernelspec": {
   "display_name": "Python 3 (ipykernel)",
   "language": "python",
   "name": "python3"
  },
  "language_info": {
   "codemirror_mode": {
    "name": "ipython",
    "version": 3
   },
   "file_extension": ".py",
   "mimetype": "text/x-python",
   "name": "python",
   "nbconvert_exporter": "python",
   "pygments_lexer": "ipython3",
   "version": "3.10.8"
  }
 },
 "nbformat": 4,
 "nbformat_minor": 5
}
