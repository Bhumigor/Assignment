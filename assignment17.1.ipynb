{
 "cells": [
  {
   "cell_type": "markdown",
   "id": "87a67f4d-1038-4047-bff3-a3305a5d97d2",
   "metadata": {},
   "source": [
    "Q1. What is Bayes' theorem?"
   ]
  },
  {
   "cell_type": "markdown",
   "id": "b4435987-c328-41d1-bd72-3e9a65d98f74",
   "metadata": {},
   "source": [
    "A1. Bayes' theorem, named after Thomas Bayes, is a fundamental theorem in probability theory and statistics. It describes how to update or revise the probability for a hypothesis (an event or proposition) based on new evidence or information. In essence, it helps us calculate the probability of a hypothesis being true given our prior beliefs and any new data."
   ]
  },
  {
   "cell_type": "markdown",
   "id": "0a0277eb-8813-4a65-9a7a-c8cd642789de",
   "metadata": {},
   "source": [
    "Q2. What is the formula for Bayes' theorem?"
   ]
  },
  {
   "cell_type": "markdown",
   "id": "0de22b62-5a4e-407e-a64f-229b33b86093",
   "metadata": {},
   "source": [
    "A2. Bayes' theorem is expressed mathematically as:\n",
    "\n",
    "P(A/B) = (P(A) * P(B/A))/ P(B)\n",
    "\n",
    "Where:\n",
    "- P(A/B) is the posterior probability of event A given evidence B.\n",
    "- P(B/A) is the probability of evidence B given that event A is true.\n",
    "- P(A) is the prior probability of event A.\n",
    "- P(B) is the probability of evidence B."
   ]
  },
  {
   "cell_type": "markdown",
   "id": "2a49a7c7-f3c3-4edb-ba95-713e9100e93c",
   "metadata": {},
   "source": [
    "Q3. How is Bayes' theorem used in practice?"
   ]
  },
  {
   "cell_type": "markdown",
   "id": "33c69fe6-0e90-4f28-b59c-f57a42642137",
   "metadata": {},
   "source": [
    "A3. Bayes' theorem is used in various fields, including statistics, machine learning, and Bayesian inference, for tasks such as classification, prediction, and hypothesis testing. In practice, it is applied to update beliefs or probabilities as new information becomes available. Some common applications include spam email filtering, medical diagnosis, recommendation systems, and natural language processing."
   ]
  },
  {
   "cell_type": "markdown",
   "id": "9e6bcb0b-5d75-4248-966e-ed26767f4414",
   "metadata": {},
   "source": [
    "Q4. What is the relationship between Bayes' theorem and conditional probability?"
   ]
  },
  {
   "cell_type": "markdown",
   "id": "c9d36381-d993-43a5-b4d4-4e4ebc444c69",
   "metadata": {},
   "source": [
    "A4. Bayes' theorem is a way to calculate conditional probabilities. In its essence, Bayes' theorem quantifies how the probability of an event (A) can be updated based on new evidence (B) when we know the conditional probabilities of B given A and the prior probability of A. It provides a formal framework for updating beliefs in light of new information."
   ]
  },
  {
   "cell_type": "markdown",
   "id": "e1bafebb-e148-40ae-b505-a2c2283f05a7",
   "metadata": {},
   "source": [
    "Q5. How do you choose which type of Naive Bayes classifier to use for any given problem?"
   ]
  },
  {
   "cell_type": "markdown",
   "id": "00fdbc85-03de-426a-8017-9d17f7748da9",
   "metadata": {},
   "source": [
    "A5. The choice of which type of Naive Bayes classifier to use in a given problem depends on the nature of the data and the assumptions you are willing to make. There are three common types of Naive Bayes classifiers:\n",
    "- Gaussian Naive Bayes: This is suitable for continuous data that can be modeled as a Gaussian (normal) distribution. It assumes that the features follow a Gaussian distribution with different means and variances for each class.\n",
    "- Multinomial Naive Bayes: This is typically used for discrete data, such as text data. It assumes that the features are counts or frequencies of discrete items and follow a multinomial distribution.\n",
    "- Bernoulli Naive Bayes: This is used when the features are binary (e.g., presence or absence of a feature). It models the probability of features being present or absent using a Bernoulli distribution.\n",
    "\n",
    "To choose the appropriate type, consider the following factors:\n",
    "\n",
    "- The nature of your data: Is it continuous, discrete, or binary?\n",
    "- The assumptions of the Naive Bayes model: Are the features truly independent within each class? The \"naive\" assumption may not hold in all cases.\n",
    "- The performance of the model on your specific problem: You can try different types and evaluate their performance using techniques like cross-validation."
   ]
  },
  {
   "cell_type": "markdown",
   "id": "b5c1a4ea-0029-42e2-b712-6433bb1a1003",
   "metadata": {},
   "source": [
    "Q6. Assignment:\n"
   ]
  },
  {
   "cell_type": "markdown",
   "id": "c5610a35-c539-4138-a626-58500ec313f4",
   "metadata": {},
   "source": [
    "A6. To use Naive Bayes for classification, we need to calculate the posterior probabilities for each class based on the given features (X1 = 3 and X2 = 4). Let's calculate the posterior probabilities for both classes A and B:\n",
    "\n",
    "For class A:\n",
    "P(X1=3/A) = 4/10\n",
    "P(X2=4/A) = 3/10\n",
    "P(A) = 1/2\n",
    "\n",
    "For class B:\n",
    "P(X1=3/B) = 1/7\n",
    "P(X2=4/B) = 3/7\n",
    "P(B) = 1/2\n",
    "\n",
    "For class A:\n",
    "P(A/X1=3,X2=4) = (P(A) * P(X1=3/A) * P(X2/A))/P(X1=3) * P(X2=4) = (1/2*4/10*3/10)/0.09 = 0.6667\n",
    "\n",
    "For class B:\n",
    "P(B/X1=3,X2=4) = (P(B) * P(X1=3/A) * P(X2/A))/P(X1=3) * P(X2=4) = (1/2*1/7*3/7)/0.09 = 0.3333\n",
    " \n",
    "For class A we can predict new instance"
   ]
  },
  {
   "cell_type": "code",
   "execution_count": null,
   "id": "a786de28-d68e-4eb6-83fd-038fd4598d57",
   "metadata": {},
   "outputs": [],
   "source": []
  }
 ],
 "metadata": {
  "kernelspec": {
   "display_name": "Python 3 (ipykernel)",
   "language": "python",
   "name": "python3"
  },
  "language_info": {
   "codemirror_mode": {
    "name": "ipython",
    "version": 3
   },
   "file_extension": ".py",
   "mimetype": "text/x-python",
   "name": "python",
   "nbconvert_exporter": "python",
   "pygments_lexer": "ipython3",
   "version": "3.10.8"
  }
 },
 "nbformat": 4,
 "nbformat_minor": 5
}
