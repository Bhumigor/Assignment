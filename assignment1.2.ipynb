{
 "cells": [
  {
   "cell_type": "code",
   "execution_count": 8,
   "id": "7857e1d4-c4a7-4cc1-bc1e-ed66cb5db2cd",
   "metadata": {},
   "outputs": [
    {
     "name": "stdout",
     "output_type": "stream",
     "text": [
      "A is divisible by B 6 times\n"
     ]
    }
   ],
   "source": [
    "A = 64 \n",
    "B = 2  \n",
    "\n",
    "count = 0  \n",
    "\n",
    "while A % B == 0:\n",
    "    A = A // B  \n",
    "    count += 1 \n",
    "\n",
    "print(\"A is divisible by B\", count, \"times\")\n"
   ]
  },
  {
   "cell_type": "code",
   "execution_count": 11,
   "id": "f72df41a-e70b-499e-b729-1c5b90afe5f9",
   "metadata": {},
   "outputs": [
    {
     "name": "stdout",
     "output_type": "stream",
     "text": [
      "1\n",
      "it is not divisible by 3\n",
      "2\n",
      "it is not divisible by 3\n",
      "3\n",
      "it is divisible by 3\n",
      "4\n",
      "it is not divisible by 3\n",
      "5\n",
      "it is not divisible by 3\n",
      "6\n",
      "it is divisible by 3\n",
      "7\n",
      "it is not divisible by 3\n",
      "8\n",
      "it is not divisible by 3\n",
      "9\n",
      "it is divisible by 3\n",
      "10\n",
      "it is not divisible by 3\n",
      "11\n",
      "it is not divisible by 3\n",
      "12\n",
      "it is divisible by 3\n",
      "13\n",
      "it is not divisible by 3\n",
      "14\n",
      "it is not divisible by 3\n",
      "15\n",
      "it is divisible by 3\n",
      "16\n",
      "it is not divisible by 3\n",
      "17\n",
      "it is not divisible by 3\n",
      "18\n",
      "it is divisible by 3\n",
      "19\n",
      "it is not divisible by 3\n",
      "20\n",
      "it is not divisible by 3\n",
      "21\n",
      "it is divisible by 3\n",
      "22\n",
      "it is not divisible by 3\n",
      "23\n",
      "it is not divisible by 3\n",
      "24\n",
      "it is divisible by 3\n",
      "25\n",
      "it is not divisible by 3\n"
     ]
    }
   ],
   "source": [
    "l=[1,2,3,4,5,6,7,8,9,10,11,12,13,14,15,16,17,18,19,20,21,22,23,24,25]\n",
    "for i in l:\n",
    "    print (i)\n",
    "    if i%3==0:\n",
    "        print('it is divisible by 3')\n",
    "    else:\n",
    "        print('it is not divisible by 3')"
   ]
  },
  {
   "cell_type": "code",
   "execution_count": 13,
   "id": "d5d3d373-1a27-40c6-a46f-7ff0358defe9",
   "metadata": {},
   "outputs": [],
   "source": [
    "# In mutable data type we can perform any type of operations like append elements, remove elements,for example list\n",
    "l=[10,20,30,40,50,60]"
   ]
  },
  {
   "cell_type": "code",
   "execution_count": 31,
   "id": "0075ad44-1550-4bec-9524-3ce4a2afe747",
   "metadata": {},
   "outputs": [],
   "source": [
    "l[4]=50"
   ]
  },
  {
   "cell_type": "code",
   "execution_count": 33,
   "id": "9bac9799-38b0-4aa7-a57f-bf52193827c9",
   "metadata": {},
   "outputs": [
    {
     "data": {
      "text/plain": [
       "[10, 20, 30, 40, 50, 60, 60]"
      ]
     },
     "execution_count": 33,
     "metadata": {},
     "output_type": "execute_result"
    }
   ],
   "source": [
    "l[6]=60"
   ]
  },
  {
   "cell_type": "code",
   "execution_count": 36,
   "id": "b711d416-2ad2-4349-ba7f-6171b182879b",
   "metadata": {},
   "outputs": [
    {
     "data": {
      "text/plain": [
       "[10, 20, 30, 40, 50, 60, 60]"
      ]
     },
     "execution_count": 36,
     "metadata": {},
     "output_type": "execute_result"
    }
   ],
   "source": [
    "l"
   ]
  },
  {
   "cell_type": "code",
   "execution_count": 3,
   "id": "fb929851-1984-452f-8bf7-60d2100fe31a",
   "metadata": {},
   "outputs": [],
   "source": [
    "# in immutable data type we can't perform any type of operations\n",
    "a=\"bhumi\""
   ]
  },
  {
   "cell_type": "code",
   "execution_count": 4,
   "id": "5064fdc5-07c5-4b07-b0d8-92e9e910c682",
   "metadata": {},
   "outputs": [
    {
     "data": {
      "text/plain": [
       "'bhumi'"
      ]
     },
     "execution_count": 4,
     "metadata": {},
     "output_type": "execute_result"
    }
   ],
   "source": [
    "a"
   ]
  },
  {
   "cell_type": "code",
   "execution_count": 6,
   "id": "4538ecfe-3355-4875-90bb-711d4589ccea",
   "metadata": {},
   "outputs": [
    {
     "data": {
      "text/plain": [
       "'h'"
      ]
     },
     "execution_count": 6,
     "metadata": {},
     "output_type": "execute_result"
    }
   ],
   "source": [
    "a[1]"
   ]
  },
  {
   "cell_type": "code",
   "execution_count": 7,
   "id": "5139671e-3343-4e6f-a799-db66b3f3d02b",
   "metadata": {},
   "outputs": [
    {
     "ename": "NameError",
     "evalue": "name 'l' is not defined",
     "output_type": "error",
     "traceback": [
      "\u001b[0;31m---------------------------------------------------------------------------\u001b[0m",
      "\u001b[0;31mNameError\u001b[0m                                 Traceback (most recent call last)",
      "Cell \u001b[0;32mIn[7], line 1\u001b[0m\n\u001b[0;32m----> 1\u001b[0m a[\u001b[38;5;241m1\u001b[39m]\u001b[38;5;241m=\u001b[39m\u001b[43ml\u001b[49m\n",
      "\u001b[0;31mNameError\u001b[0m: name 'l' is not defined"
     ]
    }
   ],
   "source": [
    "a[1]=l"
   ]
  }
 ],
 "metadata": {
  "kernelspec": {
   "display_name": "Python 3 (ipykernel)",
   "language": "python",
   "name": "python3"
  },
  "language_info": {
   "codemirror_mode": {
    "name": "ipython",
    "version": 3
   },
   "file_extension": ".py",
   "mimetype": "text/x-python",
   "name": "python",
   "nbconvert_exporter": "python",
   "pygments_lexer": "ipython3",
   "version": "3.10.8"
  }
 },
 "nbformat": 4,
 "nbformat_minor": 5
}
