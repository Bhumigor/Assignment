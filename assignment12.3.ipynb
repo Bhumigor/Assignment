{
 "cells": [
  {
   "cell_type": "markdown",
   "id": "c9a5d3d4-b4cb-4395-ab8c-96c59a248923",
   "metadata": {},
   "source": [
    "Q1. Explain the assumptions required to use ANOVA and provide examples of violations that could impact\n",
    "the validity of the results."
   ]
  },
  {
   "cell_type": "markdown",
   "id": "cc5846cd-bcf7-4bb4-ad7f-2404501270ac",
   "metadata": {},
   "source": [
    "A1:Assumptions of ANOVA:\n",
    "\n",
    "* Independence: The observations in each group must be independent of each other.\n",
    "* Normality: The data within each group should follow a normal distribution.\n",
    "* Homogeneity of Variance: The variance of the data should be equal across all groups.\n",
    "\n",
    "Examples of Violations:\n",
    "\n",
    "* Independence: If data points in one group are related or dependent on data points in another group, the assumption of independence is violated. For example, if you measure the same individuals multiple times in different groups, their data points may not be independent.\n",
    "* Normality: If the data within each group deviates significantly from a normal distribution, the normality assumption is violated. This could happen when sample sizes are small, or if there are extreme outliers present in the data.\n",
    "* Homogeneity of Variance: If the variance of the data is not equal across all groups, the homogeneity of variance assumption is violated. This could result in unequal influence of different groups on the overall results.\n"
   ]
  },
  {
   "cell_type": "markdown",
   "id": "77cc005e-8f51-47b7-be01-894754e70a4c",
   "metadata": {},
   "source": [
    "Q2. What are the three types of ANOVA, and in what situations would each be used?"
   ]
  },
  {
   "cell_type": "markdown",
   "id": "4dd8c0f7-c32a-4f82-b698-32c8efd4ac4f",
   "metadata": {},
   "source": [
    "A2:\n",
    "\n",
    "1. One-Way ANOVA: Used when comparing means of three or more independent groups on a single continuous dependent variable.\n",
    "2. Two-Way ANOVA: Used when comparing means across two independent categorical variables on a single continuous dependent variable. It can also examine the interaction effect between the two independent variables.\n",
    "3. Repeated Measures ANOVA: Used when comparing means of the same group under different conditions or at different time points. It is used for dependent data where each participant is measured under multiple conditions."
   ]
  },
  {
   "cell_type": "markdown",
   "id": "3e16c4b4-dc9c-47bb-9b26-3be3782700bc",
   "metadata": {},
   "source": [
    "Q3. What is the partitioning of variance in ANOVA, and why is it important to understand this concept?"
   ]
  },
  {
   "cell_type": "markdown",
   "id": "e08ffbc0-6e71-400b-b98b-c2242268627e",
   "metadata": {},
   "source": [
    "A3: The partitioning of variance in ANOVA involves breaking down the total variance observed in the data into different components related to the factors being analyzed. In a one-way ANOVA, the total variance (SST) is partitioned into two components:\n",
    "\n",
    "1. Explained Variance (SSE): The variance explained by the differences between group means.\n",
    "2. Residual Variance (SSR): The variance remaining after accounting for the differences between group means, often referred to as the error variance.\n",
    "\n",
    "Understanding the partitioning of variance is crucial because it allows us to quantify the proportion of variance in the data that is explained by the factors under consideration. This information is essential in interpreting the significance of the ANOVA results and understanding the contribution of the factors to the overall variability in the data."
   ]
  },
  {
   "cell_type": "markdown",
   "id": "f9f1ac68-325e-4967-b789-1256f1508ada",
   "metadata": {},
   "source": [
    "Q4. How would you calculate the total sum of squares (SST), explained sum of squares (SSE), and residual\n",
    "sum of squares (SSR) in a one-way ANOVA using Python?"
   ]
  },
  {
   "cell_type": "code",
   "execution_count": 5,
   "id": "23ff52bc-8177-4361-ae90-bc9199598672",
   "metadata": {},
   "outputs": [
    {
     "name": "stdout",
     "output_type": "stream",
     "text": [
      "Total Sum of Squares (SST): 34.0\n",
      "Explained Sum of Squares (SSE): 31.000000000000014\n",
      "Residual Sum of Squares (SSR): 2.999999999999986\n"
     ]
    }
   ],
   "source": [
    "import numpy as np\n",
    "import pandas as pd\n",
    "import statsmodels.api as sm\n",
    "from statsmodels.formula.api import ols\n",
    "\n",
    "data = pd.DataFrame({'Group': ['A', 'A', 'B', 'B', 'C', 'C'],\n",
    "                     'Values': [5, 6, 8, 7, 10, 12]})\n",
    "\n",
    "model = ols('Values ~ Group', data=data).fit()\n",
    "\n",
    "SST = np.sum((data['Values'] - np.mean(data['Values']))**2)\n",
    "\n",
    "SSE = np.sum((model.fittedvalues - np.mean(data['Values']))**2)\n",
    "\n",
    "SSR = SST - SSE\n",
    "\n",
    "print(\"Total Sum of Squares (SST):\", SST)\n",
    "print(\"Explained Sum of Squares (SSE):\", SSE)\n",
    "print(\"Residual Sum of Squares (SSR):\", SSR)\n"
   ]
  },
  {
   "cell_type": "markdown",
   "id": "fbae2d25-afb0-4bd2-b4c7-64160c8e535d",
   "metadata": {},
   "source": [
    "Q5. In a two-way ANOVA, how would you calculate the main effects and interaction effects using Python?"
   ]
  },
  {
   "cell_type": "code",
   "execution_count": 6,
   "id": "a489fc10-67d7-4de8-9e76-6847214cb407",
   "metadata": {},
   "outputs": [
    {
     "name": "stdout",
     "output_type": "stream",
     "text": [
      "Main Effects:\n",
      "Group1[T.B]    3.0\n",
      "Group1[T.C]    5.0\n",
      "Group2[T.Y]    1.0\n",
      "dtype: float64\n",
      "Interaction Effect:\n",
      "0.9999999999999982\n"
     ]
    }
   ],
   "source": [
    "import pandas as pd\n",
    "import statsmodels.api as sm\n",
    "from statsmodels.formula.api import ols\n",
    "\n",
    "data = pd.DataFrame({'Group1': ['A', 'A', 'B', 'B', 'C', 'C'],\n",
    "                     'Group2': ['X', 'Y', 'X', 'Y', 'X', 'Y'],\n",
    "                     'Values': [5, 6, 8, 7, 10, 12]})\n",
    "\n",
    "model = ols('Values ~ Group1 * Group2', data=data).fit()\n",
    "\n",
    "main_effects = model.params[['Group1[T.B]', 'Group1[T.C]', 'Group2[T.Y]']]\n",
    "interaction_effect = model.params['Group1[T.C]:Group2[T.Y]']\n",
    "\n",
    "print(\"Main Effects:\")\n",
    "print(main_effects)\n",
    "print(\"Interaction Effect:\")\n",
    "print(interaction_effect)\n"
   ]
  },
  {
   "cell_type": "markdown",
   "id": "813edaca-ab89-4a6a-a537-4cae627b0fc8",
   "metadata": {},
   "source": [
    "Q6. Suppose you conducted a one-way ANOVA and obtained an F-statistic of 5.23 and a p-value of 0.02.\n",
    "What can you conclude about the differences between the groups, and how would you interpret these\n",
    "results?"
   ]
  },
  {
   "cell_type": "markdown",
   "id": "b1413a97-0e02-47be-b794-63cf9b20d600",
   "metadata": {},
   "source": [
    "A6: If you conducted a one-way ANOVA and obtained an F-statistic of 5.23 and a p-value of 0.02, it means that the variability between group means is significantly larger than the variability within groups. The F-statistic of 5.23 indicates how much larger the variability between group means is compared to the variability within groups.\n",
    "\n",
    "With a p-value of 0.02, you can conclude that there is a statistically significant difference between the group means at a significance level of 0.05. In other words, you can reject the null hypothesis that all group means are equal. The result suggests that the population means of the groups are not all the same, and there is evidence to support that the population means are significantly different."
   ]
  },
  {
   "cell_type": "markdown",
   "id": "b65cb6eb-53a8-4892-a115-da182f008bf5",
   "metadata": {},
   "source": [
    "Q7. In a repeated measures ANOVA, how would you handle missing data, and what are the potential\n",
    "consequences of using different methods to handle missing data?"
   ]
  },
  {
   "cell_type": "markdown",
   "id": "d0117f11-a4e0-404f-9e1e-6bad32413563",
   "metadata": {},
   "source": [
    "A7: In a repeated measures ANOVA, missing data can be handled in various ways:\n",
    "\n",
    "* Complete Case Analysis: You can remove cases with missing data from the analysis, which may lead to a reduction in sample size and potential loss of information.\n",
    "\n",
    "* Mean Imputation: You can replace missing values with the mean of the available data for the corresponding group or condition. However, this may introduce bias and underestimate the true variability.\n",
    "\n",
    "* Multiple Imputation: Use statistical techniques to impute missing data multiple times based on the available information, which provides more robust estimates.\n",
    "\n",
    "Potential Consequences of Handling Missing Data Differently:\n",
    "\n",
    "Different methods of handling missing data can lead to varying results and interpretations. Complete case analysis reduces the sample size and may introduce bias if the missing data are not missing completely at random. Imputation methods assume that missing data are missing at random, and the imputed values may not accurately reflect the true underlying values. Multiple imputation can provide more reliable estimates but requires careful consideration of the imputation model and assumptions. Using different methods can lead to different conclusions about the significance of the effects and may impact the validity of the results. It is essential to handle missing data appropriately and consider the potential impact of the chosen method on the study conclusions."
   ]
  },
  {
   "cell_type": "markdown",
   "id": "e95f5027-1f23-4319-a4da-340fc12f6486",
   "metadata": {},
   "source": [
    "Q8. What are some common post-hoc tests used after ANOVA, and when would you use each one? Provide\n",
    "an example of a situation where a post-hoc test might be necessary."
   ]
  },
  {
   "cell_type": "markdown",
   "id": "8fc67037-63b7-402b-81ce-c3010cf163c4",
   "metadata": {},
   "source": [
    "A8: Post-hoc tests are used after ANOVA to compare group means pairwise when there are three or more groups. Some common post-hoc tests include:\n",
    "\n",
    "1. Tukey's Honestly Significant Difference (HSD) test: It controls the family-wise error rate and is used when the assumption of homogeneity of variances is met.\n",
    "\n",
    "2. Bonferroni correction: It adjusts the significance level for multiple comparisons and can be used when the number of pairwise comparisons is small.\n",
    "\n",
    "3. Scheffe's test: It is conservative and can be used when the assumption of homogeneity of variances is violated.\n",
    "\n",
    "4. Dunnett's test: It is used for comparing all treatment groups with a control group in a one-way ANOVA.\n",
    "\n",
    "Example of a situation where a post-hoc test might be necessary:\n",
    "\n",
    "Suppose you conducted a one-way ANOVA with four groups and found a significant overall difference. To determine which specific groups differ from each other, you can conduct post-hoc tests. For instance, Tukey's HSD or Bonferroni correction can help identify which group means are significantly different from each other. Post-hoc tests provide valuable information about pairwise comparisons and help pinpoint the sources of significant differences identified in the ANOVA."
   ]
  },
  {
   "cell_type": "markdown",
   "id": "2ad63b88-381d-4f30-9d7d-acf628986244",
   "metadata": {},
   "source": [
    "Q9. A researcher wants to compare the mean weight loss of three diets: A, B, and C. They collect data from\n",
    "50 participants who were randomly assigned to one of the diets. Conduct a one-way ANOVA using Python\n",
    "to determine if there are any significant differences between the mean weight loss of the three diets.\n",
    "Report the F-statistic and p-value, and interpret the results."
   ]
  },
  {
   "cell_type": "code",
   "execution_count": 9,
   "id": "a2856bc7-bc55-4828-92dc-32bc0cee81f5",
   "metadata": {},
   "outputs": [
    {
     "name": "stdout",
     "output_type": "stream",
     "text": [
      "F-Statistic: 198.67029972752044\n",
      "P-value: 1.6267681192634228e-42\n"
     ]
    }
   ],
   "source": [
    "import numpy as np\n",
    "from scipy.stats import f_oneway\n",
    "\n",
    "weight_loss_A = [5, 7, 6, 8, 9, 4, 6, 5, 8, 7, 6, 5, 9, 7, 5, 6, 8, 6, 7, 5,\n",
    "                 6, 8, 7, 9, 5, 6, 7, 8, 9, 6, 7, 5, 6, 8, 9, 7, 6, 5, 7, 8,\n",
    "                 6, 5, 9, 7, 6, 5, 8, 7, 6, 5]\n",
    "\n",
    "weight_loss_B = [3, 2, 1, 4, 2, 3, 4, 3, 2, 3, 1, 4, 2, 3, 2, 1, 4, 3, 2, 4,\n",
    "                 3, 2, 4, 3, 1, 3, 2, 4, 2, 3, 1, 4, 3, 2, 3, 4, 1, 2, 3, 4,\n",
    "                 3, 2, 4, 1, 3, 2, 4, 2, 3, 1]\n",
    "\n",
    "weight_loss_C = [1, 3, 2, 4, 1, 2, 3, 1, 4, 3, 2, 4, 1, 2, 3, 1, 4, 2, 3, 1,\n",
    "                 4, 2, 3, 1, 4, 2, 3, 1, 4, 2, 3, 1, 4, 2, 3, 1, 4, 2, 3, 1,\n",
    "                 4, 3, 2, 4, 1, 3, 2, 4, 1, 3]\n",
    "\n",
    "f_statistic, p_value = f_oneway(weight_loss_A, weight_loss_B, weight_loss_C)\n",
    "\n",
    "print(\"F-Statistic:\", f_statistic)\n",
    "print(\"P-value:\", p_value)\n"
   ]
  },
  {
   "cell_type": "markdown",
   "id": "566fba1c-6b9d-46c8-afb0-f50606cc5c27",
   "metadata": {},
   "source": [
    "Q10. A company wants to know if there are any significant differences in the average time it takes to\n",
    "complete a task using three different software programs: Program A, Program B, and Program C. They\n",
    "randomly assign 30 employees to one of the programs and record the time it takes each employee to\n",
    "complete the task. Conduct a two-way ANOVA using Python to determine if there are any main effects or\n",
    "interaction effects between the software programs and employee experience level (novice vs.\n",
    "experienced). Report the F-statistics and p-values, and interpret the results."
   ]
  },
  {
   "cell_type": "code",
   "execution_count": 10,
   "id": "2e4c664b-32ef-47d2-ad9e-98a1a626bc47",
   "metadata": {},
   "outputs": [
    {
     "name": "stdout",
     "output_type": "stream",
     "text": [
      "                               sum_sq   df          F    PR(>F)\n",
      "C(Software)                264.500000  2.0  36.906977  0.000425\n",
      "C(Experience)                2.083333  1.0   0.581395  0.474664\n",
      "C(Software):C(Experience)   10.166667  2.0   1.418605  0.312974\n",
      "Residual                    21.500000  6.0        NaN       NaN\n"
     ]
    }
   ],
   "source": [
    "import pandas as pd\n",
    "import statsmodels.api as sm\n",
    "from statsmodels.formula.api import ols\n",
    "\n",
    "data = pd.DataFrame({\n",
    "    'Software': ['A', 'A', 'B', 'B', 'C', 'C', 'A', 'B', 'C', 'A', 'B', 'C'],\n",
    "    'Experience': ['Novice', 'Experienced'] * 6,\n",
    "    'Time': [25, 22, 30, 28, 35, 33, 23, 32, 38, 24, 27, 34]\n",
    "})\n",
    "\n",
    "model = ols('Time ~ C(Software) + C(Experience) + C(Software):C(Experience)', data=data).fit()\n",
    "\n",
    "anova_table = sm.stats.anova_lm(model, typ=2)\n",
    "\n",
    "print(anova_table)\n"
   ]
  },
  {
   "cell_type": "markdown",
   "id": "91aece75-1e5a-4d65-9ca7-90e7c8439711",
   "metadata": {},
   "source": [
    "Q11. An educational researcher is interested in whether a new teaching method improves student test\n",
    "scores. They randomly assign 100 students to either the control group (traditional teaching method) or the\n",
    "experimental group (new teaching method) and administer a test at the end of the semester. Conduct a\n",
    "two-sample t-test using Python to determine if there are any significant differences in test scores\n",
    "between the two groups. If the results are significant, follow up with a post-hoc test to determine which\n",
    "group(s) differ significantly from each other."
   ]
  },
  {
   "cell_type": "code",
   "execution_count": 11,
   "id": "25f92033-cf35-4480-ba05-86b3c314740a",
   "metadata": {},
   "outputs": [
    {
     "name": "stdout",
     "output_type": "stream",
     "text": [
      "T-Statistic: -7.666184363521894\n",
      "P-value: 3.144088678985931e-09\n"
     ]
    }
   ],
   "source": [
    "import numpy as np\n",
    "from scipy.stats import ttest_ind\n",
    "\n",
    "control_group = [85, 82, 78, 88, 90, 84, 86, 80, 87, 89, 81, 83, 85, 88, 82, 80, 86, 84, 89, 85]\n",
    "experimental_group = [92, 88, 95, 89, 90, 94, 91, 93, 87, 96, 93, 92, 94, 90, 91, 95, 92, 89, 93, 91]\n",
    "\n",
    "t_statistic, p_value = ttest_ind(control_group, experimental_group)\n",
    "\n",
    "print(\"T-Statistic:\", t_statistic)\n",
    "print(\"P-value:\", p_value)\n"
   ]
  },
  {
   "cell_type": "markdown",
   "id": "44360c55-b9d2-4425-a2de-da342faa4a50",
   "metadata": {},
   "source": [
    "Q12. A researcher wants to know if there are any significant differences in the average daily sales of three\n",
    "retail stores: Store A, Store B, and Store C. They randomly select 30 days and record the sales for each store\n",
    "on those days. Conduct a repeated measures ANOVA using Python to determine if there are any significant differences in sales between the three stores. If the results are significant, follow up with a post-\n",
    "hoc test to determine which store(s) differ significantly from each other."
   ]
  },
  {
   "cell_type": "code",
   "execution_count": 25,
   "id": "228a9651-25e2-449c-8267-a8314ea9779b",
   "metadata": {},
   "outputs": [
    {
     "name": "stdout",
     "output_type": "stream",
     "text": [
      "Day      0\n",
      "Store    0\n",
      "Sales    0\n",
      "dtype: int64\n",
      "0\n",
      "F-Statistic: 0.4706384796070894\n",
      "P-value: 0.6261841937083128\n"
     ]
    }
   ],
   "source": [
    "import pandas as pd\n",
    "import statsmodels.api as sm\n",
    "from statsmodels.formula.api import ols\n",
    "\n",
    "data = pd.DataFrame({\n",
    "    'Day': [i for i in range(1, 31)] * 3,\n",
    "    'Store': ['A'] * 30 + ['B'] * 30 + ['C'] * 30,\n",
    "    'Sales': [500, 520, 480, 510, 490, 510, 480, 500, 510, 490,\n",
    "              520, 490, 480, 510, 500, 520, 510, 500, 480, 510,\n",
    "              500, 490, 510, 480, 500, 520, 510, 500, 480, 510,\n",
    "              520, 490, 480, 500, 510, 520, 490, 510, 500, 480,\n",
    "              510, 490, 520, 500, 510, 480, 500, 510, 490, 520,\n",
    "              510, 500, 520, 500, 510, 520, 510, 490, 520, 500,\n",
    "              500, 480, 510, 520, 490, 480, 510, 510, 480, 500,\n",
    "              490, 520, 500, 510, 500, 520, 510, 490, 510, 480, \n",
    "              500, 510, 490, 520, 510, 520, 510, 490, 480, 510,]\n",
    "})\n",
    "\n",
    "print(data.isna().sum())\n",
    "\n",
    "print(np.isinf(data['Sales']).sum())\n",
    "\n",
    "data.dropna(inplace=True)\n",
    "data = data[~np.isinf(data['Sales'])]\n",
    "\n",
    "f_statistic, p_value = f_oneway(data[data['Store'] == 'A']['Sales'],\n",
    "                                data[data['Store'] == 'B']['Sales'],\n",
    "                                data[data['Store'] == 'C']['Sales'])\n",
    "\n",
    "print(\"F-Statistic:\", f_statistic)\n",
    "print(\"P-value:\", p_value)\n",
    "\n",
    "\n"
   ]
  },
  {
   "cell_type": "code",
   "execution_count": null,
   "id": "3bd4d3a4-aabc-4e70-95f2-2e75084e2d82",
   "metadata": {},
   "outputs": [],
   "source": []
  }
 ],
 "metadata": {
  "kernelspec": {
   "display_name": "Python 3 (ipykernel)",
   "language": "python",
   "name": "python3"
  },
  "language_info": {
   "codemirror_mode": {
    "name": "ipython",
    "version": 3
   },
   "file_extension": ".py",
   "mimetype": "text/x-python",
   "name": "python",
   "nbconvert_exporter": "python",
   "pygments_lexer": "ipython3",
   "version": "3.10.8"
  }
 },
 "nbformat": 4,
 "nbformat_minor": 5
}
