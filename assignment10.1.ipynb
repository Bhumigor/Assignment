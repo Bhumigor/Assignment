{
 "cells": [
  {
   "cell_type": "markdown",
   "id": "7f6066e5-7bb3-4879-8c9b-dc9d7ff3bde2",
   "metadata": {},
   "source": [
    "Q1. What is Statistics?"
   ]
  },
  {
   "cell_type": "markdown",
   "id": "385f6814-c467-46e6-b3dc-f3e9a4637ad5",
   "metadata": {},
   "source": [
    "A1 : Statistics is the science of collecting, organizing and analyzing data"
   ]
  },
  {
   "cell_type": "markdown",
   "id": "5d783d88-06d7-4d86-a685-809d37c288b5",
   "metadata": {},
   "source": [
    "Q2. Define the different types of statistics and give an example of when each type might be used."
   ]
  },
  {
   "cell_type": "markdown",
   "id": "1a3e08bf-a364-4164-ba25-cde28daa54d8",
   "metadata": {},
   "source": [
    "A2 : There are two types of statistics:\n",
    "\n",
    "Descriptive Statistics: Descriptive statistics involve summarizing and describing the main features of a dataset. It includes measures such as mean, median, mode, standard deviation, and graphs like histograms and box plots. For example, descriptive statistics can be used to summarize the average income of a population.\n",
    "\n",
    "Inferential Statistics: Inferential statistics involves drawing conclusions or making predictions about a population based on a sample of data. It uses techniques such as hypothesis testing and confidence intervals. For instance, inferential statistics can be used to determine whether a new drug is effective by comparing the results of a control group and a treatment group."
   ]
  },
  {
   "cell_type": "markdown",
   "id": "70fe03f0-b238-4d2c-8c0a-7778cbb65d83",
   "metadata": {},
   "source": [
    "Q3. What are the different types of data and how do they differ from each other? Provide an example of\n",
    "each type of data."
   ]
  },
  {
   "cell_type": "markdown",
   "id": "7f192f3b-6bf7-4dce-a40a-bd49f90b0d98",
   "metadata": {},
   "source": [
    "A3 : There are two main types of data:\n",
    "\n",
    "Qualitative or Categorical Data: Qualitative data consists of non-numerical observations or attributes. It describes qualities or characteristics and can be further divided into nominal and ordinal data.\n",
    "\n",
    "   - Nominal Data: Nominal data represents categories or labels with no inherent order or ranking. Examples include            gender (male, female), colors (red, blue, green), or types of animals (cat, dog, bird).\n",
    "\n",
    "   - Ordinal Data: Ordinal data also represents categories, but they have a natural order or ranking. For example,            ratings such as \"good,\" \"better,\" and \"best\" or educational levels such as \"high school,\" \"bachelor's degree,\" and        \"master's degree\" can be considered ordinal data.\n",
    "\n",
    "Quantitative or Numerical Data: Quantitative data consists of numerical measurements or quantities. It can be further classified as discrete or continuous data.\n",
    "\n",
    "   - Discrete Data: Discrete data represent values that can only take on specific, separate values. For instance, the          number of students in a class (1, 2, 3, ...) or the count of cars passing by an intersection during specific time        intervals.\n",
    "\n",
    "   - Continuous Data: Continuous data represent measurements that can take on any value within a specific range. Examples      include height, weight, temperature, or time. Continuous data can be further divided into interval or ratio data.\n",
    "\n",
    "        * Interval Data: Interval data have meaningful intervals between values, but there is no true zero point. An               example is temperature measured in Celsius or Fahrenheit.\n",
    "\n",
    "        * Ratio Data: Ratio data have a meaningful zero point, and ratios between values are meaningful. Examples include           height, weight, or income.\n"
   ]
  },
  {
   "cell_type": "markdown",
   "id": "e023bf25-6dd3-4a47-98ce-19b11b6c83b2",
   "metadata": {},
   "source": [
    "Q4. Categorise the following datasets with respect to quantitative and qualitative data types:\n",
    "\n",
    "(i) Grading in exam: A+, A, B+, B, C+, C, D, E\n",
    "\n",
    "(ii) Colour of mangoes: yellow, green, orange, red\n",
    "\n",
    "(iii) Height data of a class: [178.9, 179, 179.5, 176, 177.2, 178.3, 175.8,...]\n",
    "\n",
    "(iv) Number of mangoes exported by a farm: [500, 600, 478, 672, ...]"
   ]
  },
  {
   "cell_type": "markdown",
   "id": "950dbb64-3852-4601-bea7-b5ba35a2c436",
   "metadata": {},
   "source": [
    "A4 :\n",
    "(i) Grading in exam: This dataset represents qualitative data, specifically ordinal data, as the grades have a natural order or ranking. For example, A+ is higher than A, and B+ is higher than B. Therefore, it is an example of ordinal data.\n",
    "\n",
    "(ii) Colour of mangoes: This dataset represents qualitative data, specifically nominal data, as the colors do not have any inherent order or ranking. Each color represents a distinct category without a specific order. Hence, it is an example of nominal data.\n",
    "\n",
    "(iii) Height data of a class: This dataset represents quantitative data, specifically continuous data. The measurements are numeric and can take on any value within a specific range. It is an example of continuous data.\n",
    "\n",
    "(iv) Number of mangoes exported by a farm: This dataset represents quantitative data, specifically discrete data. The values represent counts, and they can only take on specific, separate values (whole numbers). Therefore, it is an example of discrete data."
   ]
  },
  {
   "cell_type": "markdown",
   "id": "627f481d-c7d3-499a-9c74-ce378eff54ee",
   "metadata": {},
   "source": [
    "Q5. Explain the concept of levels of measurement and give an example of a variable for each level."
   ]
  },
  {
   "cell_type": "markdown",
   "id": "8c9a5b49-516b-4105-b654-ec5d1fe7f47d",
   "metadata": {},
   "source": [
    "A5 : Levels of measurement, also known as scales of measurement, refer to the different ways in which variables can be measured or classified. There are four levels of measurement:\n",
    "\n",
    "1.) Nominal Level: Variables at the nominal level are categorical and have no inherent order or ranking. They represent       different categories or groups. For example, gender (male/female) is a nominal variable.\n",
    "\n",
    "2.) Ordinal Level: Variables at the ordinal level have categories with a natural order or ranking. The difference between     categories is not quantifiable. For instance, a Likert scale measuring agreement levels (strongly disagree, disagree,     neutral, agree, strongly agree) is an ordinal variable.\n",
    "\n",
    "3.) Interval Level: Variables at the interval level have ordered categories with equal intervals between them. They do       not have a meaningful zero point. An example is temperature measured in Celsius or Fahrenheit.\n",
    "\n",
    "4.) Ratio Level: Variables at the ratio level have ordered categories with equal intervals between them, and they have a     meaningful zero point. Ratios between values are meaningful. Examples include height, weight, or income."
   ]
  },
  {
   "cell_type": "markdown",
   "id": "f8b9d64d-8ef6-4b45-bc34-13a6906dfd6c",
   "metadata": {},
   "source": [
    "Q6. Why is it important to understand the level of measurement when analyzing data? Provide an\n",
    "example to illustrate your answer."
   ]
  },
  {
   "cell_type": "markdown",
   "id": "3cc3d150-0d7e-4538-b71a-fad54e7c7451",
   "metadata": {},
   "source": [
    "A6 : Understanding the level of measurement is important when analyzing data because it determines the appropriate statistical analyses and operations that can be performed. It guides the selection of appropriate summary statistics, graphical displays, and the choice of statistical tests. For example, if a variable is measured at the ordinal level, it would be inappropriate to calculate a mean, but a median would be a suitable measure of central tendency."
   ]
  },
  {
   "cell_type": "markdown",
   "id": "b6ea598d-7d22-4b6b-97f5-24403cc5c273",
   "metadata": {},
   "source": [
    "Q7. How nominal data type is different from ordinal data type."
   ]
  },
  {
   "cell_type": "markdown",
   "id": "8387f5e6-d73b-4b57-b96d-d94d34fe5f17",
   "metadata": {},
   "source": [
    "A7 :  Nominal data and ordinal data differ in terms of the presence or absence of order or ranking among categories.\n",
    "\n",
    "Nominal Data: Nominal data represent categories without any inherent order or ranking. They are labels or names assigned to different groups. For example, the colors of cars (red, blue, green) are nominal data. In nominal data, the categories are distinct, but no order can be imposed on them.\n",
    "\n",
    "Ordinal Data: Ordinal data represent categories with a natural order or ranking. The categories have a meaningful sequence or hierarchy. For example, survey responses (strongly disagree, disagree, neutral, agree, strongly agree) are ordinal data. In ordinal data, the categories have an order, but the differences between categories may not be uniform or measurable."
   ]
  },
  {
   "cell_type": "markdown",
   "id": "04850704-2fb8-4585-97f7-5fa1b9b8aeb8",
   "metadata": {},
   "source": [
    "Q8. Which type of plot can be used to display data in terms of range?"
   ]
  },
  {
   "cell_type": "markdown",
   "id": "1a474bee-8bdf-4753-ac7d-5bdba65cfe3f",
   "metadata": {},
   "source": [
    "A8 :  A range plot or range chart can be used to display data in terms of range. A range plot shows the minimum and maximum values of a dataset or the range between the highest and lowest values. It provides a visual representation of the spread or variability of the data. For example, a range plot could display the range of daily temperature fluctuations over a month."
   ]
  },
  {
   "cell_type": "markdown",
   "id": "38903e7d-b2aa-4f4b-8c83-38fb2c33fca0",
   "metadata": {},
   "source": [
    "Q9. Describe the difference between descriptive and inferential statistics. Give an example of each\n",
    "type of statistics and explain how they are used."
   ]
  },
  {
   "cell_type": "markdown",
   "id": "f920b3e7-d057-4fd1-b187-10e764d7dd1d",
   "metadata": {},
   "source": [
    "A9 : Descriptive statistics and inferential statistics are two branches of statistics that serve different purposes:\n",
    "\n",
    "Descriptive Statistics: Descriptive statistics involves summarizing and describing the main features of a dataset. It focuses on organizing, presenting, and analyzing data to provide a meaningful summary. Descriptive statistics are used to describe the characteristics of a sample or population. Examples of descriptive statistics include calculating the mean, median, mode, standard deviation, or creating graphs like histograms or pie charts. Descriptive statistics are used to provide insights and understand patterns within the data.\n",
    "\n",
    "Inferential Statistics: Inferential statistics involves drawing conclusions or making inferences about a population based on a sample of data. It uses probability theory and statistical methods to make generalizations or predictions. Inferential statistics are used to test hypotheses, estimate population parameters, and determine the significance of relationships or differences. For example, conducting hypothesis tests or constructing confidence intervals are inferential statistical techniques."
   ]
  },
  {
   "cell_type": "markdown",
   "id": "940da0a3-fa85-4ea6-a4f8-fa5a278904a0",
   "metadata": {},
   "source": [
    "Q10. What are some common measures of central tendency and variability used in statistics? Explain\n",
    "how each measure can be used to describe a dataset."
   ]
  },
  {
   "cell_type": "markdown",
   "id": "230e5dd7-d9d6-4ee6-b5f9-e2a152ff7ad5",
   "metadata": {},
   "source": [
    "Measures of Central Tendency: Measures of central tendency describe the center or average of a dataset.\n",
    "\n",
    "  * Mean: The mean is the arithmetic average of a set of values. It is calculated by summing all the values and dividing     by the total number of values.\n",
    "\n",
    "  * Median: The median is the middle value in a dataset when it is arranged in ascending or descending order. It divides     the dataset into two equal halves.\n",
    "\n",
    "  * Mode: The mode is the value or values that appear most frequently in a dataset.\n",
    "\n",
    "Measures of Variability: Measures of variability describe the spread or dispersion of a dataset.\n",
    "\n",
    "  * Range: The range is the difference between the highest and lowest values in a dataset.\n",
    "\n",
    "  * Standard Deviation: The standard deviation measures the average distance between each data point and the mean. It         quantifies the spread of data around the mean.\n",
    "\n",
    "  * Variance: The variance is the average of the squared differences between each data point and the mean. It provides a     measure of the overall variability of the data.\n",
    "\n",
    "  * Interquartile Range (IQR): The interquartile range is the difference between the first quartile (25th percentile) and     the third quartile (75th percentile) in a dataset. It measures the spread of the middle 50% of the data, disregarding     extreme values."
   ]
  },
  {
   "cell_type": "code",
   "execution_count": null,
   "id": "5a7a3b55-e8e4-4990-8d33-0361fac8f798",
   "metadata": {},
   "outputs": [],
   "source": []
  }
 ],
 "metadata": {
  "kernelspec": {
   "display_name": "Python 3 (ipykernel)",
   "language": "python",
   "name": "python3"
  },
  "language_info": {
   "codemirror_mode": {
    "name": "ipython",
    "version": 3
   },
   "file_extension": ".py",
   "mimetype": "text/x-python",
   "name": "python",
   "nbconvert_exporter": "python",
   "pygments_lexer": "ipython3",
   "version": "3.10.8"
  }
 },
 "nbformat": 4,
 "nbformat_minor": 5
}
