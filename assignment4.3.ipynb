{
 "cells": [
  {
   "cell_type": "markdown",
   "id": "4a3c8fbb-ceda-4fea-9f7e-721e45ffcb7a",
   "metadata": {},
   "source": [
    "Q1. What is Abstraction in OOps? Explain with an example."
   ]
  },
  {
   "cell_type": "code",
   "execution_count": 1,
   "id": "266e6c40-fa97-4d43-bbe0-da3b152accf5",
   "metadata": {},
   "outputs": [],
   "source": [
    "# it focuses on representing essential features of an object while hiding unnecessary details. \n",
    "#It provides a high-level view or a simplified representation of an object or a system, \n",
    "#allowing developers to work with the essential aspects without worrying about the internal complexities."
   ]
  },
  {
   "cell_type": "code",
   "execution_count": 3,
   "id": "d0963d08-e820-481c-847b-cd4808bf4409",
   "metadata": {},
   "outputs": [],
   "source": [
    "import abc\n",
    "class animal:\n",
    "    @abc.abstractmethod\n",
    "    def make_sound(self):\n",
    "        pass"
   ]
  },
  {
   "cell_type": "code",
   "execution_count": 4,
   "id": "0228ea03-ff57-4617-81f9-1d943a560c7e",
   "metadata": {},
   "outputs": [],
   "source": [
    "class dog(animal):\n",
    "    def make_sound(self):\n",
    "        return\"woof!\""
   ]
  },
  {
   "cell_type": "code",
   "execution_count": 5,
   "id": "90bbe675-2c47-4d1b-a56d-c8a693a3f91e",
   "metadata": {},
   "outputs": [],
   "source": [
    "class cat(animal):\n",
    "    def make_sound(self):\n",
    "        return\"meow!\""
   ]
  },
  {
   "cell_type": "code",
   "execution_count": 6,
   "id": "01eb43d7-6648-4d09-8c5a-37808d48d33b",
   "metadata": {},
   "outputs": [],
   "source": [
    "d=dog()"
   ]
  },
  {
   "cell_type": "code",
   "execution_count": 7,
   "id": "d30b5355-2f08-46d5-8cba-353bd7c4d863",
   "metadata": {},
   "outputs": [
    {
     "data": {
      "text/plain": [
       "'woof!'"
      ]
     },
     "execution_count": 7,
     "metadata": {},
     "output_type": "execute_result"
    }
   ],
   "source": [
    "d.make_sound()"
   ]
  },
  {
   "cell_type": "code",
   "execution_count": 8,
   "id": "9ec80f63-fa7b-47f6-93c5-40e5eea88af7",
   "metadata": {},
   "outputs": [],
   "source": [
    "c=cat()"
   ]
  },
  {
   "cell_type": "code",
   "execution_count": 10,
   "id": "4bc7c0a3-e16c-46b7-b0c0-7f29f04000b5",
   "metadata": {},
   "outputs": [
    {
     "data": {
      "text/plain": [
       "'meow!'"
      ]
     },
     "execution_count": 10,
     "metadata": {},
     "output_type": "execute_result"
    }
   ],
   "source": [
    "c.make_sound()"
   ]
  },
  {
   "cell_type": "markdown",
   "id": "eb2c333c-2cea-40be-93c0-fc9f4d08bc60",
   "metadata": {},
   "source": [
    "Q2. Differentiate between Abstraction and Encapsulation. Explain with an example."
   ]
  },
  {
   "cell_type": "code",
   "execution_count": 11,
   "id": "b21e139c-5fc5-4b2d-9f82-26a5cfe34836",
   "metadata": {},
   "outputs": [],
   "source": [
    "#Abstraction\n",
    "# it focuses on representing essential features of an object while hiding unnecessary details. \n",
    "#It provides a high-level view or a simplified representation of an object or a system, \n",
    "#allowing developers to work with the essential aspects without worrying about the internal complexities.\n",
    "#Encapsulation\n",
    "# It involves the concept of information hiding, where the internal state and implementation details of an object\n",
    "#are kept hidden and accessible only through the defined interfaces or methods. \n",
    "#Encapsulation helps in achieving data protection, code organization, and modular design."
   ]
  },
  {
   "cell_type": "code",
   "execution_count": 12,
   "id": "0c83d845-7f04-4d6f-9be5-1184216db746",
   "metadata": {},
   "outputs": [],
   "source": [
    "#abstraction example we saw in que 1\n",
    "#encapsulation\n",
    "class bank_account : \n",
    "    def __init__(self , balance) : \n",
    "        self.__balanace = balance \n",
    "        \n",
    "    def deposit(self , amount) : \n",
    "        self.__balanace = self.__balanace + amount\n",
    "        \n",
    "    def withdaw(self ,amount) : \n",
    "        if self.__balanace >= amount :\n",
    "            self.__balanace = self.__balanace - amount\n",
    "            return True\n",
    "        else : \n",
    "            return False\n",
    "    \n",
    "    def get_banalnce(self):\n",
    "        return self.__balanace"
   ]
  },
  {
   "cell_type": "code",
   "execution_count": 13,
   "id": "2315cfe5-5fe7-430b-9e98-efa44c31f4a3",
   "metadata": {},
   "outputs": [],
   "source": [
    "bhumi=bank_account(5000)"
   ]
  },
  {
   "cell_type": "code",
   "execution_count": 14,
   "id": "27f4f2e7-e653-4a11-83f6-5f217c6d0d33",
   "metadata": {},
   "outputs": [
    {
     "data": {
      "text/plain": [
       "5000"
      ]
     },
     "execution_count": 14,
     "metadata": {},
     "output_type": "execute_result"
    }
   ],
   "source": [
    "bhumi.get_banalnce()"
   ]
  },
  {
   "cell_type": "markdown",
   "id": "565b109c-3793-4123-9691-b3f7d40c33bb",
   "metadata": {},
   "source": [
    "Q3. What is abc module in python? Why is it used?"
   ]
  },
  {
   "cell_type": "code",
   "execution_count": 15,
   "id": "b93acbf5-7099-42a7-b5c2-eb7c61c00872",
   "metadata": {},
   "outputs": [],
   "source": [
    "#The abc module is used for defining and working with abstract base classes in Python. \n",
    "#It provides the ABC class as a base class for creating abstract classes and the abstractmethod decorator \n",
    "#to define abstract methods within those classes."
   ]
  },
  {
   "cell_type": "markdown",
   "id": "ab9531b9-84fe-4a4a-899f-3edfd072e02a",
   "metadata": {},
   "source": [
    "Q4. How can we achieve data abstraction?"
   ]
  },
  {
   "cell_type": "code",
   "execution_count": 16,
   "id": "baac9e1a-0d93-4e22-a5dc-7444a4ec8547",
   "metadata": {},
   "outputs": [],
   "source": [
    "# with the use of '__' (double underscore) we can achieve data abstraction"
   ]
  },
  {
   "cell_type": "markdown",
   "id": "428b1b77-c12a-4fdb-abf4-54ffce849ad4",
   "metadata": {},
   "source": [
    "Can we create an instance of an abstract class? Explain your answer."
   ]
  },
  {
   "cell_type": "code",
   "execution_count": null,
   "id": "39727521-6ca9-49ef-8bc3-a9447d0251ad",
   "metadata": {},
   "outputs": [],
   "source": [
    "#No, we cannot create an instance of an abstract class in Python.\n",
    "#Abstract classes are created using the abc module in Python\n",
    "#"
   ]
  }
 ],
 "metadata": {
  "kernelspec": {
   "display_name": "Python 3 (ipykernel)",
   "language": "python",
   "name": "python3"
  },
  "language_info": {
   "codemirror_mode": {
    "name": "ipython",
    "version": 3
   },
   "file_extension": ".py",
   "mimetype": "text/x-python",
   "name": "python",
   "nbconvert_exporter": "python",
   "pygments_lexer": "ipython3",
   "version": "3.10.8"
  }
 },
 "nbformat": 4,
 "nbformat_minor": 5
}
