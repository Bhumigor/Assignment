{
 "cells": [
  {
   "cell_type": "markdown",
   "id": "9f9341ca-6c0d-484d-bfc0-75563013e4e8",
   "metadata": {},
   "source": [
    "###Explain Class and Object with respect to Object-Oriented Programming. Give a suitable example."
   ]
  },
  {
   "cell_type": "code",
   "execution_count": 1,
   "id": "4f0daad7-d751-4450-b2c9-6117426a8612",
   "metadata": {},
   "outputs": [],
   "source": [
    "#class is a blueprint or a template that defines the structure and behavior of objects. \n",
    "#It serves as a blueprint for creating individual instances of objects, \n",
    "#which are referred to as objects or instances of the class."
   ]
  },
  {
   "cell_type": "code",
   "execution_count": 2,
   "id": "c15e0136-74b8-4bb1-9f56-9aa7922709ff",
   "metadata": {},
   "outputs": [],
   "source": [
    "class Rectangle:\n",
    "    def __init__(self, width, height):\n",
    "        self.width = width\n",
    "        self.height = height\n",
    "\n",
    "    def calculate_area(self):\n",
    "        return self.width * self.height\n",
    "\n",
    "    def calculate_perimeter(self):\n",
    "        return 2 * (self.width + self.height)\n"
   ]
  },
  {
   "cell_type": "code",
   "execution_count": 4,
   "id": "954c49f8-4fae-4cd0-b1a4-111d6b31a6a7",
   "metadata": {},
   "outputs": [],
   "source": [
    "my_rectangle = Rectangle(5, 3)"
   ]
  },
  {
   "cell_type": "code",
   "execution_count": 6,
   "id": "5934d032-b4ec-4ec0-b0a7-815fc50c850d",
   "metadata": {},
   "outputs": [],
   "source": [
    "area = my_rectangle.calculate_area()"
   ]
  },
  {
   "cell_type": "code",
   "execution_count": 7,
   "id": "e0856e97-346b-478c-a368-735c04b0444e",
   "metadata": {},
   "outputs": [
    {
     "name": "stdout",
     "output_type": "stream",
     "text": [
      "Area: 15\n"
     ]
    }
   ],
   "source": [
    "print(\"Area:\", area)"
   ]
  },
  {
   "cell_type": "code",
   "execution_count": 8,
   "id": "ea387196-ed1a-4a62-b10a-eefc62df9ac1",
   "metadata": {},
   "outputs": [],
   "source": [
    "perimeter = my_rectangle.calculate_perimeter()"
   ]
  },
  {
   "cell_type": "code",
   "execution_count": 9,
   "id": "f566a8ef-6c96-4e42-9660-568531bbda65",
   "metadata": {},
   "outputs": [
    {
     "name": "stdout",
     "output_type": "stream",
     "text": [
      "Perimeter: 16\n"
     ]
    }
   ],
   "source": [
    "print(\"Perimeter:\", perimeter)"
   ]
  },
  {
   "cell_type": "markdown",
   "id": "cbdb22f6-fb71-47c5-be8b-2536169d41da",
   "metadata": {},
   "source": [
    "###Name the four pillars of OOPs."
   ]
  },
  {
   "cell_type": "code",
   "execution_count": 10,
   "id": "e9b0f6fd-07e8-4a6d-91e6-2a1affa03bcd",
   "metadata": {},
   "outputs": [],
   "source": [
    "# 1.Encpasulation\n",
    "# 2.Inheritance\n",
    "# 3.Polymorphism\n",
    "# 4. Abstraction"
   ]
  },
  {
   "cell_type": "markdown",
   "id": "856fb20c-ae0f-4f7f-86f6-b656c187434a",
   "metadata": {},
   "source": [
    "#Explain why the __init__() function is used. Give a suitable example."
   ]
  },
  {
   "cell_type": "code",
   "execution_count": 12,
   "id": "9c3e168c-84bc-4ed7-99c1-a95da1317b0f",
   "metadata": {},
   "outputs": [],
   "source": [
    "#the __init__() function is a special method or constructor that is automatically called when an object is created from a class. \n",
    "#It is used to initialize the attributes of an object and perform any necessary setup or initialization tasks."
   ]
  },
  {
   "cell_type": "code",
   "execution_count": 14,
   "id": "543a1db7-daba-4bb8-bd4d-711b58a05608",
   "metadata": {},
   "outputs": [],
   "source": [
    "class Person:\n",
    "    def __init__(self, name, age):\n",
    "        self.name = name\n",
    "        self.age = age\n",
    "\n",
    "    def person_info(self):\n",
    "        print(\"Name:\", self.name)\n",
    "        print(\"Age:\", self.age)"
   ]
  },
  {
   "cell_type": "code",
   "execution_count": 15,
   "id": "63ef40f6-09f9-4d85-bc04-ec1012825d93",
   "metadata": {},
   "outputs": [],
   "source": [
    "person1 = Person(\"bhumi\", 23)"
   ]
  },
  {
   "cell_type": "code",
   "execution_count": 16,
   "id": "51c4380a-5e00-446b-a5f7-2613c4eff043",
   "metadata": {},
   "outputs": [
    {
     "name": "stdout",
     "output_type": "stream",
     "text": [
      "Name: bhumi\n",
      "Age: 23\n"
     ]
    }
   ],
   "source": [
    "person1.person_info()"
   ]
  },
  {
   "cell_type": "markdown",
   "id": "71a9b5e3-0f96-45c7-b637-91fff92c70ed",
   "metadata": {},
   "source": [
    "#Q4. Why self is used in OOPs?"
   ]
  },
  {
   "cell_type": "code",
   "execution_count": 17,
   "id": "0b95e017-2b38-4d9e-b8c5-de0e97ee9880",
   "metadata": {},
   "outputs": [],
   "source": [
    "#It is used to assign initial values to the attributes of the object by using the self keyword to refer to the object's attributes."
   ]
  },
  {
   "cell_type": "markdown",
   "id": "55695243-8363-4c05-be5f-7a6fa79ae5f5",
   "metadata": {},
   "source": [
    "#Q5. What is inheritance? Give an example for each type of inheritance."
   ]
  },
  {
   "cell_type": "code",
   "execution_count": 19,
   "id": "908a4d81-1d3a-4fad-864d-461c198622bd",
   "metadata": {},
   "outputs": [],
   "source": [
    "#Inheritance allows the creation of a new class from an existing class. \n",
    "#The derived class inherits the attributes and methods of the base class, \n",
    "#which promotes code reuse, modularity, and the concept of hierarchical relationships.\n",
    "#1.single inheritance and 2.multiple inheritance"
   ]
  },
  {
   "cell_type": "code",
   "execution_count": 20,
   "id": "5da8a3b7-9503-4184-9b46-1f777af74063",
   "metadata": {},
   "outputs": [],
   "source": [
    "# 1. single inheritance\n",
    "class Vehicle:\n",
    "    def start(self):\n",
    "        print(\"Vehicle started.\")\n",
    "\n",
    "class Car(Vehicle):\n",
    "    def drive(self):\n",
    "        print(\"Car driving...\")"
   ]
  },
  {
   "cell_type": "code",
   "execution_count": 21,
   "id": "cf5d81ea-8538-4478-84a7-4719e7cf6e51",
   "metadata": {},
   "outputs": [],
   "source": [
    "my_car=Car()"
   ]
  },
  {
   "cell_type": "code",
   "execution_count": 24,
   "id": "c1fa2582-f647-4cb1-be80-bae129cd5a04",
   "metadata": {},
   "outputs": [
    {
     "name": "stdout",
     "output_type": "stream",
     "text": [
      "Vehicle started.\n"
     ]
    }
   ],
   "source": [
    "my_car.start()"
   ]
  },
  {
   "cell_type": "code",
   "execution_count": 25,
   "id": "70f99561-e3ae-498b-85a7-7e8ec2446880",
   "metadata": {},
   "outputs": [
    {
     "name": "stdout",
     "output_type": "stream",
     "text": [
      "Car driving...\n"
     ]
    }
   ],
   "source": [
    "my_car.drive()"
   ]
  },
  {
   "cell_type": "code",
   "execution_count": 26,
   "id": "91072453-52e6-4765-9ebe-4f11f8662c32",
   "metadata": {},
   "outputs": [],
   "source": [
    "# 2.multiple inhertance\n",
    "class Bird:\n",
    "    def fly(self):\n",
    "        print(\"Bird flying...\")\n",
    "\n",
    "class Animal:\n",
    "    def eat(self):\n",
    "        print(\"Animal eating...\")\n",
    "\n",
    "class Bat(Bird, Animal):\n",
    "    def sleep(self):\n",
    "        print(\"Bat sleeping...\")"
   ]
  },
  {
   "cell_type": "code",
   "execution_count": 27,
   "id": "fdb6a978-f9ab-49f3-a25e-8392537f9044",
   "metadata": {},
   "outputs": [],
   "source": [
    "bat_obj=Bat()"
   ]
  },
  {
   "cell_type": "code",
   "execution_count": 29,
   "id": "05817b0b-1de7-4a54-9a80-039c5f56eae7",
   "metadata": {},
   "outputs": [
    {
     "name": "stdout",
     "output_type": "stream",
     "text": [
      "Bird flying...\n"
     ]
    }
   ],
   "source": [
    "bat_obj.fly()"
   ]
  },
  {
   "cell_type": "code",
   "execution_count": 30,
   "id": "e53e1f38-81db-44f7-9ab8-fc1eefa607b1",
   "metadata": {},
   "outputs": [
    {
     "name": "stdout",
     "output_type": "stream",
     "text": [
      "Animal eating...\n"
     ]
    }
   ],
   "source": [
    "bat_obj.eat()"
   ]
  },
  {
   "cell_type": "code",
   "execution_count": 31,
   "id": "8a3a0ef5-3f61-4446-a664-011d4eacd864",
   "metadata": {},
   "outputs": [
    {
     "name": "stdout",
     "output_type": "stream",
     "text": [
      "Bat sleeping...\n"
     ]
    }
   ],
   "source": [
    "bat_obj.sleep()"
   ]
  },
  {
   "cell_type": "code",
   "execution_count": null,
   "id": "6c10132e-14d6-46d8-9265-df972ff42b22",
   "metadata": {},
   "outputs": [],
   "source": []
  }
 ],
 "metadata": {
  "kernelspec": {
   "display_name": "Python 3 (ipykernel)",
   "language": "python",
   "name": "python3"
  },
  "language_info": {
   "codemirror_mode": {
    "name": "ipython",
    "version": 3
   },
   "file_extension": ".py",
   "mimetype": "text/x-python",
   "name": "python",
   "nbconvert_exporter": "python",
   "pygments_lexer": "ipython3",
   "version": "3.10.8"
  }
 },
 "nbformat": 4,
 "nbformat_minor": 5
}
