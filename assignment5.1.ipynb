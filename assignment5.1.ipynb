{
 "cells": [
  {
   "cell_type": "markdown",
   "id": "94f107bf-bed3-4eb8-b589-bb415d54f17f",
   "metadata": {},
   "source": [
    "Q1. What is an Exception in pthon? Write the difference between Exceptions and syntax errors"
   ]
  },
  {
   "cell_type": "code",
   "execution_count": 1,
   "id": "54b9ced8-30ee-4132-895e-b5ea6bdd8d5f",
   "metadata": {},
   "outputs": [],
   "source": [
    "#An exception is an error that occurs during the execution of a program.\n",
    "#When a Python script encounters an exceptional situation or an error, it raises an exception. \n",
    "#syntax errors are a type of error that occurs when the Python interpreter encounters invalid code syntax. \n",
    "#Syntax errors prevent the program from running and need to be fixed before the code can be executed. \n",
    "#They are usually caused by mistakes such as missing colons, parentheses, or incorrect indentation.\n",
    "#Exceptions occur during the execution of a program when an exceptional situation is encountered, \n",
    "#while syntax errors are identified by the Python interpreter before the execution starts, due to invalid syntax."
   ]
  },
  {
   "cell_type": "markdown",
   "id": "56096ef5-c876-43bf-8c7b-3ac9d0872503",
   "metadata": {},
   "source": [
    "Q2. What happens when an exception is not handled? Explain with an example"
   ]
  },
  {
   "cell_type": "code",
   "execution_count": 2,
   "id": "a1e70b28-98ca-410d-ba83-67a8b5c3806d",
   "metadata": {},
   "outputs": [],
   "source": [
    "#When an exception is not handled, it propagates up the call stack until it reaches the top-level of the program. \n",
    "#If no exception handler is found at any level, the program terminates abruptly, \n",
    "#and an error message is displayed, indicating the unhandled exception and its associated traceback.\n"
   ]
  },
  {
   "cell_type": "markdown",
   "id": "4877c92e-b3a8-4695-b8f0-435f601674e6",
   "metadata": {},
   "source": [
    "Q3. Which Python statements are used to catch and handle exceptions? Explain with an example"
   ]
  },
  {
   "cell_type": "code",
   "execution_count": 3,
   "id": "9039a530-51a3-49de-8453-6a0414f00658",
   "metadata": {},
   "outputs": [],
   "source": [
    "#the try and except statements are used to catch and handle exceptions. \n",
    "#The try block contains the code that may raise an exception, and \n",
    "#the except block is where you specify the handling code for specific types of exceptions.\n",
    "def divide_numbers(a, b):\n",
    "    try:\n",
    "        result = a / b\n",
    "        print(\"Division result:\", result)\n",
    "    except ZeroDivisionError:\n",
    "        print(\"Error: Cannot divide by zero.\")"
   ]
  },
  {
   "cell_type": "code",
   "execution_count": 4,
   "id": "697acae6-fe91-42d6-9b50-4d94932feff9",
   "metadata": {},
   "outputs": [
    {
     "name": "stdout",
     "output_type": "stream",
     "text": [
      "Division result: 5.0\n"
     ]
    }
   ],
   "source": [
    "divide_numbers(10,2)"
   ]
  },
  {
   "cell_type": "code",
   "execution_count": 5,
   "id": "6b23af3d-48bc-4e2e-851c-3a6e1caa45bd",
   "metadata": {},
   "outputs": [
    {
     "name": "stdout",
     "output_type": "stream",
     "text": [
      "Error: Cannot divide by zero.\n"
     ]
    }
   ],
   "source": [
    "divide_numbers(10,0)"
   ]
  },
  {
   "cell_type": "markdown",
   "id": "1c2a84a5-98c0-4122-822a-4dfae5536ca7",
   "metadata": {},
   "source": [
    "Q4. Explain with an example:   \n",
    "a)try and else    \n",
    "b)finally    \n",
    "c)raise"
   ]
  },
  {
   "cell_type": "code",
   "execution_count": 10,
   "id": "37c34e2f-eba4-4d63-b4da-03a61b2d45b4",
   "metadata": {},
   "outputs": [],
   "source": [
    "# try and else\n",
    "# else executes only when no exceptions are raised.\n",
    "def divide_numbers(a, b):\n",
    "    try:\n",
    "        result = a / b\n",
    "    except ZeroDivisionError:\n",
    "        print(\"Error: Cannot divide by zero.\")\n",
    "    else:\n",
    "        print(\"division result :\",result)"
   ]
  },
  {
   "cell_type": "code",
   "execution_count": 11,
   "id": "a4f6c01a-4cfd-4df0-9a54-3d9ec52425f7",
   "metadata": {},
   "outputs": [
    {
     "name": "stdout",
     "output_type": "stream",
     "text": [
      "division result : 5.0\n"
     ]
    }
   ],
   "source": [
    "divide_numbers(10,2)"
   ]
  },
  {
   "cell_type": "code",
   "execution_count": 12,
   "id": "9c389604-e954-4735-8f74-e37e033c9e3a",
   "metadata": {},
   "outputs": [],
   "source": [
    "# Finally\n",
    "# it is executed even if there is a return statement or an unhandled exception\n",
    "def divide_numbers(a, b):\n",
    "    try:\n",
    "        result = a / b\n",
    "        print(\"Division result:\", result)\n",
    "    except ZeroDivisionError:\n",
    "        print(\"Error: Cannot divide by zero.\")\n",
    "    finally:\n",
    "        print(\"Finally block executed.\")"
   ]
  },
  {
   "cell_type": "code",
   "execution_count": 13,
   "id": "1a42134d-f246-43d2-92c1-406bc3026dac",
   "metadata": {},
   "outputs": [
    {
     "name": "stdout",
     "output_type": "stream",
     "text": [
      "Division result: 2.0\n",
      "Finally block executed.\n"
     ]
    }
   ],
   "source": [
    "divide_numbers(10,5)"
   ]
  },
  {
   "cell_type": "code",
   "execution_count": 14,
   "id": "4340de2e-3bac-4c2e-ae2b-9f2578837c71",
   "metadata": {},
   "outputs": [
    {
     "name": "stdout",
     "output_type": "stream",
     "text": [
      "Error: Cannot divide by zero.\n",
      "Finally block executed.\n"
     ]
    }
   ],
   "source": [
    "divide_numbers(10,0)"
   ]
  },
  {
   "cell_type": "code",
   "execution_count": 15,
   "id": "6c9a4c92-1e63-495f-9e97-3a05ac1c85ad",
   "metadata": {},
   "outputs": [],
   "source": [
    "# raise\n",
    "#raise exceptions based on specific conditions or custom logic.\n",
    "def validate_age(age):\n",
    "    if age < 0:\n",
    "        raise ValueError(\"Age cannot be negative.\")\n",
    "    elif age < 18:\n",
    "        raise ValueError(\"Age should be at least 18.\")\n",
    "    else:\n",
    "        print(\"Age is valid.\")"
   ]
  },
  {
   "cell_type": "code",
   "execution_count": 17,
   "id": "a9adc842-dd77-4f12-94dc-f7dfa2c464d3",
   "metadata": {},
   "outputs": [
    {
     "name": "stdout",
     "output_type": "stream",
     "text": [
      "Age is valid.\n"
     ]
    }
   ],
   "source": [
    "validate_age(25)"
   ]
  },
  {
   "cell_type": "code",
   "execution_count": 18,
   "id": "7199b8ae-99ee-484d-b34f-b70b10587231",
   "metadata": {},
   "outputs": [
    {
     "name": "stdout",
     "output_type": "stream",
     "text": [
      "Age cannot be negative.\n"
     ]
    }
   ],
   "source": [
    "try:\n",
    "    validate_age(-5)\n",
    "except ValueError as e:\n",
    "    print(e)"
   ]
  },
  {
   "cell_type": "markdown",
   "id": "768eccb2-5caf-4d5c-9c78-9d79cd7ade3f",
   "metadata": {},
   "source": [
    "Q5. What are Custom Exceptions in python? Why do we need Custom Exceptions? Explain with an example"
   ]
  },
  {
   "cell_type": "code",
   "execution_count": 19,
   "id": "658f7d00-156d-433b-ba2c-595009f50249",
   "metadata": {},
   "outputs": [],
   "source": [
    "#Custom exceptions in Python are user-defined exception classes that extend the functionality of built-in exceptions. \n",
    "#They allow you to create and raise exceptions specific to your application or domain, \n",
    "#providing more descriptive and meaningful error handling.\n",
    "#we need it for Clarity and Readability, Modularity and Reusability, Specific Error Handling\n",
    "class EmptyStringError(Exception):\n",
    "    pass\n",
    "\n",
    "def process_string(input_string):\n",
    "    if not input_string:\n",
    "        raise EmptyStringError(\"Input string cannot be empty.\")\n",
    "    else:\n",
    "        print(\"Processing string:\", input_string)"
   ]
  },
  {
   "cell_type": "code",
   "execution_count": 20,
   "id": "a1742e2f-d9a4-41cf-860e-9298a0d8625f",
   "metadata": {},
   "outputs": [
    {
     "name": "stdout",
     "output_type": "stream",
     "text": [
      "Input string cannot be empty.\n"
     ]
    }
   ],
   "source": [
    "try:\n",
    "    process_string(\"\")\n",
    "except EmptyStringError as e:\n",
    "    print(e)"
   ]
  },
  {
   "cell_type": "markdown",
   "id": "6bf161de-af81-4dc7-8705-2b115947fe80",
   "metadata": {},
   "source": [
    "Q6. Create a custom exception class. Use this class to handle an exception."
   ]
  },
  {
   "cell_type": "code",
   "execution_count": 21,
   "id": "5995f62c-dd6a-4c8a-bb6f-86aa08f22f73",
   "metadata": {},
   "outputs": [],
   "source": [
    "class EmptyStringError(Exception):\n",
    "    pass\n",
    "\n",
    "def process_string(input_string):\n",
    "    if not input_string:\n",
    "        raise EmptyStringError(\"Input string cannot be empty.\")\n",
    "    else:\n",
    "        print(\"Processing string:\", input_string)"
   ]
  },
  {
   "cell_type": "code",
   "execution_count": 22,
   "id": "f641ecdf-a03e-4843-9dad-143270abc54e",
   "metadata": {},
   "outputs": [
    {
     "name": "stdout",
     "output_type": "stream",
     "text": [
      "Processing string: Hi!\n"
     ]
    }
   ],
   "source": [
    "try:\n",
    "    process_string(\"Hi!\")\n",
    "except EmptyStringError as e:\n",
    "    print(e)"
   ]
  },
  {
   "cell_type": "code",
   "execution_count": null,
   "id": "87648fe0-929d-414a-a098-7194262fee3d",
   "metadata": {},
   "outputs": [],
   "source": []
  }
 ],
 "metadata": {
  "kernelspec": {
   "display_name": "Python 3 (ipykernel)",
   "language": "python",
   "name": "python3"
  },
  "language_info": {
   "codemirror_mode": {
    "name": "ipython",
    "version": 3
   },
   "file_extension": ".py",
   "mimetype": "text/x-python",
   "name": "python",
   "nbconvert_exporter": "python",
   "pygments_lexer": "ipython3",
   "version": "3.10.8"
  }
 },
 "nbformat": 4,
 "nbformat_minor": 5
}
