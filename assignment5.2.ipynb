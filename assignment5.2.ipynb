{
 "cells": [
  {
   "cell_type": "markdown",
   "id": "8fec8865-4424-44ca-a98b-de380b697c69",
   "metadata": {},
   "source": [
    "Q1. Explain why we have to use the Exception class while creating a Custom Exception."
   ]
  },
  {
   "cell_type": "code",
   "execution_count": 1,
   "id": "5a1828b8-26b5-4221-a575-3f91679743dd",
   "metadata": {},
   "outputs": [],
   "source": [
    "#By subclassing Exception, you benefit from the established conventions and functionality of the Python exception system. \n",
    "#It helps maintain code consistency, enables compatibility with existing exception handling mechanisms, \n",
    "#and provides a basis for extensibility and customization in your custom exceptions."
   ]
  },
  {
   "cell_type": "markdown",
   "id": "4c531812-20ad-4da0-8903-de643b682c80",
   "metadata": {},
   "source": [
    "Q2. Write a python program to print Python Exception Hierarchy."
   ]
  },
  {
   "cell_type": "code",
   "execution_count": null,
   "id": "7d8d8724-cb96-4157-9b24-387949dda275",
   "metadata": {},
   "outputs": [],
   "source": []
  },
  {
   "cell_type": "markdown",
   "id": "bbc075a7-6fcd-4221-bcde-5daa86bb7e1a",
   "metadata": {},
   "source": [
    "Q3. What errors are defined in the ArithmeticError class? Explain any two with an example."
   ]
  },
  {
   "cell_type": "code",
   "execution_count": 2,
   "id": "001fba11-3d5a-44aa-a181-33bd08cbd94d",
   "metadata": {},
   "outputs": [
    {
     "name": "stdout",
     "output_type": "stream",
     "text": [
      "Error: division by zero\n"
     ]
    }
   ],
   "source": [
    "#Two errors defined in the ArithmeticError class are ZeroDivisionError and OverflowError.\n",
    "#  ZeroDivisionError\n",
    "try:\n",
    "    result = 10 / 0\n",
    "except ZeroDivisionError as e:\n",
    "    print(\"Error:\", e)\n"
   ]
  },
  {
   "cell_type": "code",
   "execution_count": 7,
   "id": "5f6dc2a6-9b76-4430-bbfe-6d80bdd277b2",
   "metadata": {},
   "outputs": [],
   "source": [
    "# OverflowError\n",
    "try:\n",
    "    result = 10**10000\n",
    "except OverflowError as e:\n",
    "    print(\"Error:\", e)"
   ]
  },
  {
   "cell_type": "markdown",
   "id": "751a1192-9a25-468e-b158-aa6272c8f00e",
   "metadata": {},
   "source": [
    "Q4. Why LookupError class is used? Explain with an example KeyError and IndexError."
   ]
  },
  {
   "cell_type": "code",
   "execution_count": 9,
   "id": "166701fc-fbcc-4227-8788-4f06d114efd6",
   "metadata": {},
   "outputs": [
    {
     "name": "stdout",
     "output_type": "stream",
     "text": [
      "Error: 'grape'\n"
     ]
    }
   ],
   "source": [
    "#The LookupError class is the base class for all errors that occur when a lookup or indexing operation fails. \n",
    "#It is used to handle errors related to accessing elements in sequences such as lists, tuples, and strings or mappings\n",
    "# keyerror\n",
    "my_dict = {\"apple\": 1, \"banana\": 2, \"orange\": 3}\n",
    "\n",
    "try:\n",
    "    value = my_dict[\"grape\"]\n",
    "except KeyError as e:\n",
    "    print(\"Error:\", e)\n"
   ]
  },
  {
   "cell_type": "code",
   "execution_count": 10,
   "id": "3045a6fc-d599-411f-b79e-c000e44ac0bf",
   "metadata": {},
   "outputs": [
    {
     "name": "stdout",
     "output_type": "stream",
     "text": [
      "Error: list index out of range\n"
     ]
    }
   ],
   "source": [
    "# IndexError\n",
    "my_list = [1, 2, 3, 4, 5]\n",
    "\n",
    "try:\n",
    "    value = my_list[10]\n",
    "except IndexError as e:\n",
    "    print(\"Error:\", e)\n"
   ]
  },
  {
   "cell_type": "markdown",
   "id": "f751b7b7-ba30-4b76-8be5-b932fd7f8bd5",
   "metadata": {},
   "source": [
    "Q5. Explain ImportError. What is ModuleNotFoundError?"
   ]
  },
  {
   "cell_type": "code",
   "execution_count": 1,
   "id": "496e61e9-515a-4202-95e1-3b89156cdfdb",
   "metadata": {},
   "outputs": [],
   "source": [
    "#ImportError is an exception that occurs when an import statement fails to import a module. \n",
    "#It is raised when there are issues with module imports, such as when the requested module cannot be found, \n",
    "#or there are errors in the module's code.\n",
    "\n",
    "#Module not found: When Python cannot locate the module you are trying to import, it raises an ImportError.\n",
    "#This can happen if the module is not installed or if the module's file is not in a directory \n",
    "#specified in the Python's module search path."
   ]
  },
  {
   "cell_type": "markdown",
   "id": "9d333926-64b8-4728-942b-e6b86db0b131",
   "metadata": {},
   "source": [
    "Q6. List down some best practices for exception handling in python."
   ]
  },
  {
   "cell_type": "code",
   "execution_count": null,
   "id": "6e56a679-5065-4039-a417-4dd9a89965a2",
   "metadata": {},
   "outputs": [],
   "source": []
  }
 ],
 "metadata": {
  "kernelspec": {
   "display_name": "Python 3 (ipykernel)",
   "language": "python",
   "name": "python3"
  },
  "language_info": {
   "codemirror_mode": {
    "name": "ipython",
    "version": 3
   },
   "file_extension": ".py",
   "mimetype": "text/x-python",
   "name": "python",
   "nbconvert_exporter": "python",
   "pygments_lexer": "ipython3",
   "version": "3.10.8"
  }
 },
 "nbformat": 4,
 "nbformat_minor": 5
}
