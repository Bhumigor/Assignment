{
 "cells": [
  {
   "cell_type": "markdown",
   "id": "bff330a0-7527-414c-9d19-29d46c6c95e5",
   "metadata": {},
   "source": [
    "Q1. Pearson correlation coefficient is a measure of the linear relationship between two variables. Suppose\n",
    "you have collected data on the amount of time students spend studying for an exam and their final exam\n",
    "scores. Calculate the Pearson correlation coefficient between these two variables and interpret the result."
   ]
  },
  {
   "cell_type": "code",
   "execution_count": 1,
   "id": "b48fdeb5-8af6-4716-8819-382103d0c187",
   "metadata": {},
   "outputs": [
    {
     "name": "stdout",
     "output_type": "stream",
     "text": [
      "Pearson correlation coefficient: 0.99\n"
     ]
    }
   ],
   "source": [
    "import numpy as np\n",
    "\n",
    "time_spent_studying = [10, 12, 8, 15, 11]  \n",
    "final_exam_scores = [80, 85, 75, 90, 82]\n",
    "\n",
    "pearson_corr = np.corrcoef(time_spent_studying, final_exam_scores)[0, 1]\n",
    "\n",
    "print(f\"Pearson correlation coefficient: {pearson_corr:.2f}\")\n"
   ]
  },
  {
   "cell_type": "markdown",
   "id": "dd0fec15-4524-4d25-9b4d-1d523e55f908",
   "metadata": {},
   "source": [
    "Q2. Spearman's rank correlation is a measure of the monotonic relationship between two variables.\n",
    "Suppose you have collected data on the amount of sleep individuals get each night and their overall job\n",
    "satisfaction level on a scale of 1 to 10. Calculate the Spearman's rank correlation between these two\n",
    "variables and interpret the result."
   ]
  },
  {
   "cell_type": "code",
   "execution_count": 3,
   "id": "cbd3bf54-becf-4960-8a0a-5b8876eae0af",
   "metadata": {},
   "outputs": [
    {
     "name": "stdout",
     "output_type": "stream",
     "text": [
      "Spearman's rank correlation: 0.99\n"
     ]
    }
   ],
   "source": [
    "import scipy.stats as stats\n",
    "\n",
    "hours_of_sleep = [7, 6, 8, 5, 6, 9] \n",
    "job_satisfaction = [8, 7, 9, 4, 6, 10] \n",
    "\n",
    "spearman_corr, _ = stats.spearmanr(hours_of_sleep, job_satisfaction)\n",
    "\n",
    "print(f\"Spearman's rank correlation: {spearman_corr:.2f}\")\n"
   ]
  },
  {
   "cell_type": "markdown",
   "id": "a28201c2-aa05-4604-bdc9-7ce6e9ca237d",
   "metadata": {},
   "source": [
    "Q3. Suppose you are conducting a study to examine the relationship between the number of hours of\n",
    "exercise per week and body mass index (BMI) in a sample of adults. You collected data on both variables\n",
    "for 50 participants. Calculate the Pearson correlation coefficient and the Spearman's rank correlation\n",
    "between these two variables and compare the results."
   ]
  },
  {
   "cell_type": "code",
   "execution_count": 5,
   "id": "b24b7a78-b480-44cb-af0b-c74739beb0a7",
   "metadata": {},
   "outputs": [
    {
     "name": "stdout",
     "output_type": "stream",
     "text": [
      "Pearson correlation coefficient: 1.00\n",
      "Spearman's rank correlation: 1.00\n"
     ]
    }
   ],
   "source": [
    "import scipy.stats as stats\n",
    "import numpy as np\n",
    "\n",
    "exercise_hours = [3, 5, 2, 6, 4, 1]  \n",
    "bmi = [25, 30, 22, 32, 28, 20]\n",
    "\n",
    "# Calculate Pearson correlation coefficient\n",
    "pearson_corr = np.corrcoef(exercise_hours, bmi)[0, 1]\n",
    "\n",
    "# Calculate Spearman's rank correlation\n",
    "spearman_corr, _ =  stats.spearmanr(exercise_hours, bmi)\n",
    "\n",
    "print(f\"Pearson correlation coefficient: {pearson_corr:.2f}\")\n",
    "print(f\"Spearman's rank correlation: {spearman_corr:.2f}\")\n"
   ]
  },
  {
   "cell_type": "markdown",
   "id": "e20aa5b8-2530-4703-aa78-5a405be29e54",
   "metadata": {},
   "source": [
    "Q4. A researcher is interested in examining the relationship between the number of hours individuals\n",
    "spend watching television per day and their level of physical activity. The researcher collected data on\n",
    "both variables from a sample of 50 participants. Calculate the Pearson correlation coefficient between\n",
    "these two variables."
   ]
  },
  {
   "cell_type": "code",
   "execution_count": 6,
   "id": "74c46c3e-81d5-407f-8e3a-71940d80c434",
   "metadata": {},
   "outputs": [
    {
     "name": "stdout",
     "output_type": "stream",
     "text": [
      "Pearson correlation coefficient: -1.00\n"
     ]
    }
   ],
   "source": [
    "import numpy as np\n",
    "\n",
    "tv_hours_per_day = [2, 3, 4, 1, 2, 3] \n",
    "physical_activity_level = [3, 2, 1, 4, 3, 2] \n",
    "\n",
    "# Calculate Pearson correlation coefficient\n",
    "pearson_corr = np.corrcoef(tv_hours_per_day, physical_activity_level)[0, 1]\n",
    "\n",
    "print(f\"Pearson correlation coefficient: {pearson_corr:.2f}\")\n"
   ]
  },
  {
   "cell_type": "markdown",
   "id": "3315fa49-8f64-4c2d-b5fd-2e18c33bd42b",
   "metadata": {},
   "source": [
    "Q5. A survey was conducted to examine the relationship between age and preference for a particular\n",
    "brand of soft drink. The survey results are shown below:"
   ]
  },
  {
   "cell_type": "code",
   "execution_count": 15,
   "id": "f5ab8192-da5b-423a-83b5-0fa8fd78282c",
   "metadata": {},
   "outputs": [
    {
     "data": {
      "text/plain": [
       "{'Coke': 24.0, 'Mountain Dew': 37.0, 'Pepsi': 36.5}"
      ]
     },
     "execution_count": 15,
     "metadata": {},
     "output_type": "execute_result"
    }
   ],
   "source": [
    "import pandas as pd\n",
    "df = pd.DataFrame({\n",
    "    'age' : [ 25, 42, 37, 19, 31, 28],\n",
    "    'soft_drink_preference' : [\"Coke\", \"Pepsi\", \"Mountain Dew\", \"Coke\", \"Pepsi\", \"Coke\"]\n",
    "\n",
    "})\n",
    "mean_price = df.groupby(\"soft_drink_preference\")['age'].mean().to_dict()\n",
    "mean_price"
   ]
  },
  {
   "cell_type": "markdown",
   "id": "4d0af59b-da28-45f1-bca8-34340eef2c2c",
   "metadata": {},
   "source": [
    "Q6. A company is interested in examining the relationship between the number of sales calls made per day\n",
    "and the number of sales made per week. The company collected data on both variables from a sample of\n",
    "30 sales representatives. Calculate the Pearson correlation coefficient between these two variables."
   ]
  },
  {
   "cell_type": "code",
   "execution_count": 17,
   "id": "ee5c727b-cab5-4bd1-a483-cb003688ce91",
   "metadata": {},
   "outputs": [
    {
     "name": "stdout",
     "output_type": "stream",
     "text": [
      "Pearson correlation coefficient: 1.00\n"
     ]
    }
   ],
   "source": [
    "import numpy as np\n",
    "\n",
    "sales_calls_per_day = [10, 12, 8, 15, 11, 9, 14, 13, 16, 10, 12, 11, 14, 15, 9, 8, 10, 11, 12, 13, 14, 15, 16, 9, 10, 8, 11, 12, 13, 14]\n",
    "sales_per_week = [50, 60, 40, 75, 55, 45, 70, 65, 80, 50, 60, 55, 70, 75, 45, 40, 50, 55, 60, 65, 70, 75, 80, 45, 50, 40, 55, 60, 65, 70]\n",
    "\n",
    "# Calculate Pearson correlation coefficient\n",
    "pearson_corr = np.corrcoef(sales_calls_per_day, sales_per_week)[0, 1]\n",
    "\n",
    "print(f\"Pearson correlation coefficient: {pearson_corr:.2f}\")\n"
   ]
  },
  {
   "cell_type": "code",
   "execution_count": null,
   "id": "cc68b9fc-ce94-42cc-b188-4963f5b60654",
   "metadata": {},
   "outputs": [],
   "source": []
  }
 ],
 "metadata": {
  "kernelspec": {
   "display_name": "Python 3 (ipykernel)",
   "language": "python",
   "name": "python3"
  },
  "language_info": {
   "codemirror_mode": {
    "name": "ipython",
    "version": 3
   },
   "file_extension": ".py",
   "mimetype": "text/x-python",
   "name": "python",
   "nbconvert_exporter": "python",
   "pygments_lexer": "ipython3",
   "version": "3.10.8"
  }
 },
 "nbformat": 4,
 "nbformat_minor": 5
}
