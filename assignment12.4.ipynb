{
 "cells": [
  {
   "cell_type": "markdown",
   "id": "446503ca-bfe2-46fa-99a0-9bf764e8562a",
   "metadata": {},
   "source": [
    "Q1. Write a Python function that takes in two arrays of data and calculates the F-value for a variance ratio\n",
    "test. The function should return the F-value and the corresponding p-value for the test."
   ]
  },
  {
   "cell_type": "code",
   "execution_count": 1,
   "id": "47697d57-127d-4e22-bc27-11865611cebd",
   "metadata": {},
   "outputs": [],
   "source": [
    "import numpy as np\n",
    "from scipy.stats import f\n",
    "\n",
    "def variance_ratio_test(data1, data2):\n",
    "    \n",
    "    variance1 = np.var(data1, ddof=1)  \n",
    "    variance2 = np.var(data2, ddof=1)\n",
    "    \n",
    "    f_value = variance1 / variance2\n",
    "    \n",
    "    df1 = len(data1) - 1\n",
    "    df2 = len(data2) - 1\n",
    "    \n",
    "    p_value = 2 * min(f.cdf(f_value, df1, df2), 1 - f.cdf(f_value, df1, df2))\n",
    "    \n",
    "    return f_value, p_value\n"
   ]
  },
  {
   "cell_type": "markdown",
   "id": "a931d73c-9c3b-4f85-8b03-d5e0ae1ac8fb",
   "metadata": {},
   "source": [
    "Q2. Given a significance level of 0.05 and the degrees of freedom for the numerator and denominator of an\n",
    "F-distribution, write a Python function that returns the critical F-value for a two-tailed test."
   ]
  },
  {
   "cell_type": "code",
   "execution_count": 2,
   "id": "96abee0b-11d9-4ec8-bc20-9bad12929c36",
   "metadata": {},
   "outputs": [],
   "source": [
    "from scipy.stats import f\n",
    "\n",
    "def critical_f_value(significance_level, df1, df2):\n",
    "    \n",
    "    critical_value = f.ppf(1 - significance_level / 2, df1, df2)\n",
    "    return critical_value\n"
   ]
  },
  {
   "cell_type": "markdown",
   "id": "f1390c44-a762-44cf-9383-071b33a989b2",
   "metadata": {},
   "source": [
    "Q3. Write a Python program that generates random samples from two normal distributions with known\n",
    "\n",
    "variances and uses an F-test to determine if the variances are equal. The program should output the F-\n",
    "value, degrees of freedom, and p-value for the test."
   ]
  },
  {
   "cell_type": "code",
   "execution_count": 3,
   "id": "12778809-ea23-44b9-bc04-f720c33c6176",
   "metadata": {},
   "outputs": [
    {
     "name": "stdout",
     "output_type": "stream",
     "text": [
      "F-Value: 1.2584881403375276\n",
      "Degrees of Freedom: 49 , 49\n",
      "P-Value: 0.42387328844782424\n"
     ]
    }
   ],
   "source": [
    "import numpy as np\n",
    "from scipy.stats import f\n",
    "\n",
    "def equal_variance_test(sample1, sample2):\n",
    "    \n",
    "    variance1 = np.var(sample1, ddof=1) \n",
    "    variance2 = np.var(sample2, ddof=1)\n",
    "    \n",
    "   \n",
    "    f_value = variance1 / variance2\n",
    "    \n",
    "   \n",
    "    df1 = len(sample1) - 1\n",
    "    df2 = len(sample2) - 1\n",
    "    \n",
    "    \n",
    "    p_value = 2 * min(f.cdf(f_value, df1, df2), 1 - f.cdf(f_value, df1, df2))\n",
    "    \n",
    "    return f_value, df1, df2, p_value\n",
    "\n",
    "\n",
    "sample1 = np.random.normal(loc=0, scale=1, size=50)\n",
    "sample2 = np.random.normal(loc=0, scale=1, size=50)\n",
    "\n",
    "f_value, df1, df2, p_value = equal_variance_test(sample1, sample2)\n",
    "print(\"F-Value:\", f_value)\n",
    "print(\"Degrees of Freedom:\", df1, \",\", df2)\n",
    "print(\"P-Value:\", p_value)\n"
   ]
  },
  {
   "cell_type": "markdown",
   "id": "1cf8e254-8524-4aac-bda2-da83def3398d",
   "metadata": {},
   "source": [
    "Q4.The variances of two populations are known to be 10 and 15. A sample of 12 observations is taken from\n",
    "each population. Conduct an F-test at the 5% significance level to determine if the variances are\n",
    "significantly different."
   ]
  },
  {
   "cell_type": "code",
   "execution_count": 4,
   "id": "7fce2809-39f1-42e6-970c-a51552f04fa5",
   "metadata": {},
   "outputs": [
    {
     "name": "stdout",
     "output_type": "stream",
     "text": [
      "Fail to reject the null hypothesis. Variances are not significantly different.\n"
     ]
    }
   ],
   "source": [
    "from scipy.stats import f\n",
    "\n",
    "def f_test_for_variances(variance1, variance2, sample_size1, sample_size2, significance_level):\n",
    "    \n",
    "    df1 = sample_size1 - 1\n",
    "    df2 = sample_size2 - 1\n",
    "    \n",
    "    f_value = variance1 / variance2\n",
    "    \n",
    "    critical_value = f.ppf(1 - significance_level, df1, df2)\n",
    "    \n",
    "    if f_value > critical_value:\n",
    "        print(\"Reject the null hypothesis. Variances are significantly different.\")\n",
    "    else:\n",
    "        print(\"Fail to reject the null hypothesis. Variances are not significantly different.\")\n",
    "\n",
    "variance1 = 10\n",
    "variance2 = 15\n",
    "sample_size1 = 12\n",
    "sample_size2 = 12\n",
    "significance_level = 0.05\n",
    "\n",
    "f_test_for_variances(variance1, variance2, sample_size1, sample_size2, significance_level)\n"
   ]
  },
  {
   "cell_type": "markdown",
   "id": "64d933de-a166-4609-bfbc-528b89b632fa",
   "metadata": {},
   "source": [
    "Q5. A manufacturer claims that the variance of the diameter of a certain product is 0.005. A sample of 25\n",
    "products is taken, and the sample variance is found to be 0.006. Conduct an F-test at the 1% significance\n",
    "level to determine if the claim is justified."
   ]
  },
  {
   "cell_type": "code",
   "execution_count": 5,
   "id": "b0f2ed5e-845c-4f57-9e1a-a2c6e1978a9c",
   "metadata": {},
   "outputs": [
    {
     "name": "stdout",
     "output_type": "stream",
     "text": [
      "Fail to reject the null hypothesis. The claim is justified.\n"
     ]
    }
   ],
   "source": [
    "from scipy.stats import f\n",
    "\n",
    "def f_test_for_claim(sample_variance, sample_size, claimed_variance, significance_level):\n",
    "    \n",
    "    df1 = sample_size - 1\n",
    "    df2 = sample_size - 1\n",
    "    \n",
    "    f_value = sample_variance / claimed_variance\n",
    "    \n",
    "    critical_value = f.ppf(1 - significance_level, df1, df2)\n",
    "    \n",
    "    if f_value > critical_value:\n",
    "        print(\"Reject the null hypothesis. The claim is not justified.\")\n",
    "    else:\n",
    "        print(\"Fail to reject the null hypothesis. The claim is justified.\")\n",
    "\n",
    "sample_variance = 0.006\n",
    "sample_size = 25\n",
    "claimed_variance = 0.005\n",
    "significance_level = 0.01\n",
    "\n",
    "f_test_for_claim(sample_variance, sample_size, claimed_variance, significance_level)\n"
   ]
  },
  {
   "cell_type": "markdown",
   "id": "1be068fd-34e0-48e6-9bbe-b029d6a579d9",
   "metadata": {},
   "source": [
    "Q6. Write a Python function that takes in the degrees of freedom for the numerator and denominator of an\n",
    "F-distribution and calculates the mean and variance of the distribution. The function should return the\n",
    "mean and variance as a tuple."
   ]
  },
  {
   "cell_type": "code",
   "execution_count": 6,
   "id": "0190f7a6-5964-49cc-afd9-45fcd21e9140",
   "metadata": {},
   "outputs": [
    {
     "name": "stdout",
     "output_type": "stream",
     "text": [
      "Mean of F-distribution: 1.25\n",
      "Variance of F-distribution: 1.3541666666666667\n"
     ]
    }
   ],
   "source": [
    "from scipy.stats import f\n",
    "\n",
    "def f_distribution_stats(df1, df2):\n",
    "   \n",
    "    mean = df2 / (df2 - 2)\n",
    "    \n",
    "    variance = (2 * df2**2 * (df1 + df2 - 2)) / (df1 * (df2 - 2)**2 * (df2 - 4))\n",
    "    \n",
    "    return mean, variance\n",
    "\n",
    "df1 = 5\n",
    "df2 = 10\n",
    "mean, variance = f_distribution_stats(df1, df2)\n",
    "print(\"Mean of F-distribution:\", mean)\n",
    "print(\"Variance of F-distribution:\", variance)\n"
   ]
  },
  {
   "cell_type": "markdown",
   "id": "65124f9b-80f5-4e0e-a807-ed5462d55210",
   "metadata": {},
   "source": [
    "Q7. A random sample of 10 measurements is taken from a normal population with unknown variance. The\n",
    "sample variance is found to be 25. Another random sample of 15 measurements is taken from another\n",
    "normal population with unknown variance, and the sample variance is found to be 20. Conduct an F-test\n",
    "at the 10% significance level to determine if the variances are significantly different."
   ]
  },
  {
   "cell_type": "code",
   "execution_count": 7,
   "id": "85020e4e-02b6-4f7c-bdd8-f2c650b69d4e",
   "metadata": {},
   "outputs": [
    {
     "name": "stdout",
     "output_type": "stream",
     "text": [
      "Fail to reject the null hypothesis. Variances are not significantly different.\n"
     ]
    }
   ],
   "source": [
    "from scipy.stats import f\n",
    "\n",
    "def f_test_for_different_variances(sample_variance1, sample_size1, sample_variance2, sample_size2, significance_level):\n",
    "   \n",
    "    df1 = sample_size1 - 1\n",
    "    df2 = sample_size2 - 1\n",
    "    \n",
    "    f_value = sample_variance1 / sample_variance2\n",
    "    \n",
    "    critical_value = f.ppf(1 - significance_level, df1, df2)\n",
    "    \n",
    "    if f_value > critical_value:\n",
    "        print(\"Reject the null hypothesis. Variances are significantly different.\")\n",
    "    else:\n",
    "        print(\"Fail to reject the null hypothesis. Variances are not significantly different.\")\n",
    "\n",
    "sample_variance1 = 25\n",
    "sample_size1 = 10\n",
    "sample_variance2 = 20\n",
    "sample_size2 = 15\n",
    "significance_level = 0.1\n",
    "\n",
    "f_test_for_different_variances(sample_variance1, sample_size1, sample_variance2, sample_size2, significance_level)\n"
   ]
  },
  {
   "cell_type": "markdown",
   "id": "cfc590d1-8679-412e-aa0c-dc0d4b3c25ef",
   "metadata": {},
   "source": [
    "Q8. The following data represent the waiting times in minutes at two different restaurants on a Saturday\n",
    "night: Restaurant A: 24, 25, 28, 23, 22, 20, 27; Restaurant B: 31, 33, 35, 30, 32, 36. Conduct an F-test at the 5%\n",
    "significance level to determine if the variances are significantly different."
   ]
  },
  {
   "cell_type": "code",
   "execution_count": 8,
   "id": "17fb4164-9748-402e-a8b1-def5a89667e3",
   "metadata": {},
   "outputs": [
    {
     "name": "stdout",
     "output_type": "stream",
     "text": [
      "Fail to reject the null hypothesis. Variances are not significantly different.\n"
     ]
    }
   ],
   "source": [
    "from scipy.stats import f\n",
    "\n",
    "def f_test_for_different_variances(sample1, sample2, significance_level):\n",
    "    \n",
    "    variance1 = np.var(sample1, ddof=1)  \n",
    "    variance2 = np.var(sample2, ddof=1)\n",
    "    \n",
    "    df1 = len(sample1) - 1\n",
    "    df2 = len(sample2) - 1\n",
    "    \n",
    "    f_value = variance1 / variance2\n",
    "    \n",
    "    critical_value = f.ppf(1 - significance_level, df1, df2)\n",
    "    \n",
    "    if f_value > critical_value:\n",
    "        print(\"Reject the null hypothesis. Variances are significantly different.\")\n",
    "    else:\n",
    "        print(\"Fail to reject the null hypothesis. Variances are not significantly different.\")\n",
    "\n",
    "restaurant_A = [24, 25, 28, 23, 22, 20, 27]\n",
    "restaurant_B = [31, 33, 35, 30, 32, 36]\n",
    "significance_level = 0.05\n",
    "\n",
    "f_test_for_different_variances(restaurant_A, restaurant_B, significance_level)\n"
   ]
  },
  {
   "cell_type": "markdown",
   "id": "b89a4889-02f6-428f-9bb3-a33792503c17",
   "metadata": {},
   "source": [
    "Q9. The following data represent the test scores of two groups of students: Group A: 80, 85, 90, 92, 87, 83;\n",
    "Group B: 75, 78, 82, 79, 81, 84. Conduct an F-test at the 1% significance level to determine if the variances\n",
    "are significantly different."
   ]
  },
  {
   "cell_type": "code",
   "execution_count": 9,
   "id": "704072e9-3620-49be-8c6d-7b7e2c9dd872",
   "metadata": {},
   "outputs": [
    {
     "name": "stdout",
     "output_type": "stream",
     "text": [
      "Fail to reject the null hypothesis. Variances are not significantly different.\n"
     ]
    }
   ],
   "source": [
    "from scipy.stats import f\n",
    "\n",
    "def f_test_for_different_variances(sample1, sample2, significance_level):\n",
    "    \n",
    "    variance1 = np.var(sample1, ddof=1) \n",
    "    variance2 = np.var(sample2, ddof=1)\n",
    "    \n",
    "    df1 = len(sample1) - 1\n",
    "    df2 = len(sample2) - 1\n",
    "    \n",
    "    f_value = variance1 / variance2\n",
    "    \n",
    "    critical_value = f.ppf(1 - significance_level, df1, df2)\n",
    "    \n",
    "    if f_value > critical_value:\n",
    "        print(\"Reject the null hypothesis. Variances are significantly different.\")\n",
    "    else:\n",
    "        print(\"Fail to reject the null hypothesis. Variances are not significantly different.\")\n",
    "\n",
    "group_A = [80, 85, 90, 92, 87, 83]\n",
    "group_B = [75, 78, 82, 79, 81, 84]\n",
    "significance_level = 0.01\n",
    "\n",
    "f_test_for_different_variances(group_A, group_B, significance_level)\n"
   ]
  },
  {
   "cell_type": "code",
   "execution_count": null,
   "id": "bdc53315-893e-491a-8f0d-f898613910ec",
   "metadata": {},
   "outputs": [],
   "source": []
  }
 ],
 "metadata": {
  "kernelspec": {
   "display_name": "Python 3 (ipykernel)",
   "language": "python",
   "name": "python3"
  },
  "language_info": {
   "codemirror_mode": {
    "name": "ipython",
    "version": 3
   },
   "file_extension": ".py",
   "mimetype": "text/x-python",
   "name": "python",
   "nbconvert_exporter": "python",
   "pygments_lexer": "ipython3",
   "version": "3.10.8"
  }
 },
 "nbformat": 4,
 "nbformat_minor": 5
}
