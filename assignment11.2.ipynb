{
 "cells": [
  {
   "cell_type": "markdown",
   "id": "e263bfa0-523b-4eb8-a1d5-915a9aa742ff",
   "metadata": {},
   "source": [
    "Q1: What are the Probability Mass Function (PMF) and Probability Density Function (PDF)? Explain with\n",
    "an example."
   ]
  },
  {
   "cell_type": "markdown",
   "id": "1d3db37b-e925-4e67-b32f-48ad2c7fc2cc",
   "metadata": {},
   "source": [
    "A1. \n",
    "\n",
    "Probability Mass Function (PMF): The PMF is a function that gives the probability of a discrete random variable taking on a specific value. It maps each possible value of the random variable to its corresponding probability. The PMF is applicable to discrete random variables, where the set of possible outcomes is countable.\n",
    "\n",
    "\n",
    "Example: Tossing a fair six-sided die. The PMF for this scenario would be P(X = k) = 1/6 for k = 1, 2, 3, 4, 5, or 6.\n",
    "\n",
    "Probability Density Function (PDF): The PDF is a function that describes the likelihood of a continuous random variable falling within a specific range of values. It represents the relative likelihood of the random variable being near a particular value. The integral of the PDF over a range gives the probability that the random variable falls within that range. The PDF is applicable to continuous random variables.\n",
    "\n",
    "\n",
    "Example: The PDF of a standard normal distribution (mean = 0, standard deviation = 1) is given by the formula: f(x) = (1 / √(2π)) * e^(-x^2/2)."
   ]
  },
  {
   "cell_type": "markdown",
   "id": "2ef79789-7dd9-454c-9ab2-81f4e20580fb",
   "metadata": {},
   "source": [
    "Q2: What is Cumulative Density Function (CDF)? Explain with an example. Why CDF is used?"
   ]
  },
  {
   "cell_type": "markdown",
   "id": "a07f22e2-aff7-4fee-a834-e58ad480adb6",
   "metadata": {},
   "source": [
    "A2. The Cumulative Density Function (CDF) is a function that gives the probability that a random variable takes on a value less than or equal to a specific value. It represents the cumulative probabilities of the random variable. For continuous random variables, the CDF is obtained by integrating the PDF. For discrete random variables, the CDF is the cumulative sum of the PMF.\n",
    "\n",
    "Example: For a standard normal distribution (mean = 0, standard deviation = 1), the CDF is denoted as Φ(x) or N(x). It gives the probability that a randomly selected observation from the standard normal distribution will be less than or equal to a specific value 'x'.\n",
    "\n",
    "Why CDF is used: The CDF is useful because it provides a complete picture of the probabilities associated with a random variable. It helps in determining the probabilities for a range of values and is particularly helpful in calculating percentiles and confidence intervals."
   ]
  },
  {
   "cell_type": "markdown",
   "id": "d81b6aab-99e9-4896-8ead-6ec5c3f56821",
   "metadata": {},
   "source": [
    "Q3: What are some examples of situations where the normal distribution might be used as a model?\n",
    "Explain how the parameters of the normal distribution relate to the shape of the distribution."
   ]
  },
  {
   "cell_type": "markdown",
   "id": "c07bfafd-2e4e-4ee5-a396-e2cdc7d8ffe4",
   "metadata": {},
   "source": [
    "A3. Examples of situations where the normal distribution might be used as a model:\n",
    "\n",
    "* Physical measurements: Many physical measurements such as height, weight, blood pressure, etc., tend to follow a normal distribution.\n",
    "* Test scores: Scores from standardized tests, such as IQ tests or SAT scores, often approximate a normal distribution.\n",
    "* Errors in measurements: The errors in measurements and observations are often assumed to be normally distributed in many statistical models.\n",
    "* Financial data: In finance, returns on investments and stock prices are often assumed to be normally distributed.\n",
    "\n",
    "The parameters of the normal distribution relate to the shape of the distribution as follows:\n",
    "* Mean (μ): The mean represents the central tendency of the distribution. It is the point around which the data is symmetrically distributed.\n",
    "* Standard Deviation (σ): The standard deviation measures the spread or dispersion of the data points from the mean. A larger standard deviation indicates more spread-out data, while a smaller standard deviation indicates data clustered closely around the mean."
   ]
  },
  {
   "cell_type": "markdown",
   "id": "1c98d94c-eeeb-4035-9dcb-2bd29049fa58",
   "metadata": {},
   "source": [
    "Q4: Explain the importance of Normal Distribution. Give a few real-life examples of Normal\n",
    "Distribution."
   ]
  },
  {
   "cell_type": "markdown",
   "id": "2d538cd9-67ac-4364-bb24-54ff9248f298",
   "metadata": {},
   "source": [
    "A4. The normal distribution is important in statistics and probability theory due to its central role in the Central Limit Theorem, making it applicable to a wide range of natural phenomena and measurements.\n",
    "\n",
    "Real-life examples of Normal Distribution include:\n",
    "* Heights of individuals in a population.\n",
    "* IQ scores of a large sample of people.\n",
    "* Test scores of students in an exam.\n",
    "* Errors in measurements and observations in various scientific experiments.\n",
    "* Time taken to complete a certain task when influenced by multiple random factors."
   ]
  },
  {
   "cell_type": "markdown",
   "id": "473cce55-fe46-44d7-baea-58bb0f8dcde2",
   "metadata": {},
   "source": [
    "Q5: What is Bernaulli Distribution? Give an Example. What is the difference between Bernoulli\n",
    "Distribution and Binomial Distribution?"
   ]
  },
  {
   "cell_type": "markdown",
   "id": "d3086299-6f92-466a-8a35-3f9782a4f22d",
   "metadata": {},
   "source": [
    "A5. Bernoulli Distribution is a discrete probability distribution that models a random variable with two possible outcomes: success (1) and failure (0). The probability of success is denoted by \"p,\" and the probability of failure is \"1 - p.\"\n",
    "\n",
    "Example: Tossing a fair coin, where success (1) represents getting heads, and failure (0) represents getting tails.\n",
    "\n",
    "Difference between Bernoulli Distribution and Binomial Distribution:\n",
    "\n",
    "* Bernoulli Distribution is used for a single trial or experiment with two outcomes, while the Binomial Distribution is used for multiple independent Bernoulli trials (success/failure experiments) with the same probability of success (p) in each trial.\n",
    "* The Binomial Distribution represents the number of successes in \"n\" trials, while the Bernoulli Distribution is a special case of the Binomial Distribution when n = 1."
   ]
  },
  {
   "cell_type": "markdown",
   "id": "ea3b19bb-f31d-4f84-90d3-2831f6f3bdf8",
   "metadata": {},
   "source": [
    "Q6. Consider a dataset with a mean of 50 and a standard deviation of 10. If we assume that the dataset\n",
    "is normally distributed, what is the probability that a randomly selected observation will be greater\n",
    "than 60? Use the appropriate formula and show your calculations."
   ]
  },
  {
   "cell_type": "markdown",
   "id": "6d0f7e45-55b0-4199-b326-d3fa9d80b9e4",
   "metadata": {},
   "source": [
    "A7. Assuming the dataset is normally distributed with a mean (μ) of 50 and a standard deviation (σ) of 10, we need to find P(X > 60).\n",
    "\n",
    "Using the Z-score formula: Z = (X - μ) / σ\n",
    "\n",
    "Z = (60 - 50) / 10 = 1\n",
    "\n",
    "Now, we can use a standard normal distribution table or calculator to find the probability associated with a Z-score of 1.\n",
    "\n",
    "P(Z > 1) ≈ 0.1587\n",
    "\n",
    "So, the probability that a randomly selected observation will be greater than 60 is approximately 0.1587 or 15.87%."
   ]
  },
  {
   "cell_type": "markdown",
   "id": "08876ce1-bf48-4246-919b-6fd1f4235b83",
   "metadata": {},
   "source": [
    "Q7: Explain uniform Distribution with an example."
   ]
  },
  {
   "cell_type": "markdown",
   "id": "fe19c37a-22ef-40cc-b501-38105e838fdd",
   "metadata": {},
   "source": [
    "A7. Uniform Distribution is a continuous probability distribution where every value within a specific range is equally likely to occur. The probability density is constant over the range.\n",
    "\n",
    "Example: Rolling a fair six-sided die. Each outcome (1 to 6) is equally likely, and the probability of getting any specific number is 1/6."
   ]
  },
  {
   "cell_type": "markdown",
   "id": "ad1e8665-0cff-427e-81a2-da7471b5c83f",
   "metadata": {},
   "source": [
    "Q8: What is the z score? State the importance of the z score."
   ]
  },
  {
   "cell_type": "markdown",
   "id": "f9f7fc39-37c3-4759-84aa-1b1ff8bbf903",
   "metadata": {},
   "source": [
    "A8. Z-score (standard score) is a measure of how many standard deviations a data point is from the mean of the distribution. It is calculated as Z = (X - μ) / σ, where X is the data point, μ is the mean, and σ is the standard deviation.\n",
    "\n",
    "Importance of Z-score:\n",
    "* Z-scores allow us to standardize data and compare values from different distributions.\n",
    "* Z-scores help identify outliers and extreme values.\n",
    "* Z-scores are used to calculate percentiles and probabilities in the standard normal distribution."
   ]
  },
  {
   "cell_type": "markdown",
   "id": "46242ff2-49e3-462f-93a0-2a3e9cd10e28",
   "metadata": {},
   "source": [
    "Q9: What is Central Limit Theorem? State the significance of the Central Limit Theorem."
   ]
  },
  {
   "cell_type": "markdown",
   "id": "3cd7b453-916f-4d0c-ac92-747849786764",
   "metadata": {},
   "source": [
    "A9. Central Limit Theorem states that the distribution of the sample means of a large number of independent, identically distributed random variables will be approximately normally distributed, regardless of the shape of the original population distribution.\n",
    "\n",
    "Significance of the Central Limit Theorem:\n",
    "* It allows us to make statistical inferences about the population based on the sample mean.\n",
    "* It justifies the use of parametric statistical methods, such as the t-test and ANOVA, even when the population distribution is not normal (as long as the sample size is large enough).\n",
    "* It simplifies calculations and makes statistical analysis more manageable."
   ]
  },
  {
   "cell_type": "markdown",
   "id": "12d6c67f-202d-4281-a249-2edabc27b855",
   "metadata": {},
   "source": [
    "Q10: State the assumptions of the Central Limit Theorem."
   ]
  },
  {
   "cell_type": "markdown",
   "id": "5489aca9-edc4-4435-a5c2-4eb0193c4fa3",
   "metadata": {},
   "source": [
    "A10. \n",
    "* Independence: The observations in the sample must be independent of each other.\n",
    "* Identically Distributed: The random variables in the sample must be drawn from the same population with the same probability distribution.\n",
    "* Sufficiently Large Sample Size: The sample size should be large enough (typically n ≥ 30) to ensure the approximation to a normal distribution."
   ]
  },
  {
   "cell_type": "code",
   "execution_count": null,
   "id": "9c7199b9-9e9b-4d1e-8be3-d141a97241c6",
   "metadata": {},
   "outputs": [],
   "source": []
  }
 ],
 "metadata": {
  "kernelspec": {
   "display_name": "Python 3 (ipykernel)",
   "language": "python",
   "name": "python3"
  },
  "language_info": {
   "codemirror_mode": {
    "name": "ipython",
    "version": 3
   },
   "file_extension": ".py",
   "mimetype": "text/x-python",
   "name": "python",
   "nbconvert_exporter": "python",
   "pygments_lexer": "ipython3",
   "version": "3.10.8"
  }
 },
 "nbformat": 4,
 "nbformat_minor": 5
}
